{
 "cells": [
  {
   "cell_type": "code",
   "execution_count": 1,
   "id": "d303d3df",
   "metadata": {},
   "outputs": [],
   "source": [
    "# Importing the libraries\n",
    "import numpy as np\n",
    "import matplotlib.pyplot as plt\n",
    "import pandas as pd\n",
    "\n",
    "\n",
    "import seaborn as sns\n",
    "sns.set()  #  Will import Seaborn functionalities\n",
    "# we don't like warnings\n",
    "# you can comment the following 2 lines if you'd like to\n",
    "import warnings\n",
    "warnings.filterwarnings('ignore')"
   ]
  },
  {
   "cell_type": "code",
   "execution_count": 2,
   "id": "59a2b8f3",
   "metadata": {},
   "outputs": [],
   "source": [
    "# Assigning the dataset to a variable\n",
    "df = pd.read_csv('Red Cross Donation data.csv')"
   ]
  },
  {
   "cell_type": "code",
   "execution_count": 3,
   "id": "3d0f43e1",
   "metadata": {},
   "outputs": [
    {
     "data": {
      "text/html": [
       "<div>\n",
       "<style scoped>\n",
       "    .dataframe tbody tr th:only-of-type {\n",
       "        vertical-align: middle;\n",
       "    }\n",
       "\n",
       "    .dataframe tbody tr th {\n",
       "        vertical-align: top;\n",
       "    }\n",
       "\n",
       "    .dataframe thead th {\n",
       "        text-align: right;\n",
       "    }\n",
       "</style>\n",
       "<table border=\"1\" class=\"dataframe\">\n",
       "  <thead>\n",
       "    <tr style=\"text-align: right;\">\n",
       "      <th></th>\n",
       "      <th>ID</th>\n",
       "      <th>ZIPCODE</th>\n",
       "      <th>AGE</th>\n",
       "      <th>MARITAL_STATUS</th>\n",
       "      <th>GENDER</th>\n",
       "      <th>MEMBERSHIP_IND</th>\n",
       "      <th>ALUMNUS_IND</th>\n",
       "      <th>PARENT_IND</th>\n",
       "      <th>HAS_INVOLVEMENT_IND</th>\n",
       "      <th>WEALTH_RATING</th>\n",
       "      <th>...</th>\n",
       "      <th>Donor_years</th>\n",
       "      <th>PrevFYGiving</th>\n",
       "      <th>PrevFY1Giving</th>\n",
       "      <th>PrevFY2Giving</th>\n",
       "      <th>PrevFY3Giving</th>\n",
       "      <th>PrevFY4Giving</th>\n",
       "      <th>CurrFYGiving</th>\n",
       "      <th>TotalGiving</th>\n",
       "      <th>BIRTH_DATE</th>\n",
       "      <th>DONOR_IND</th>\n",
       "    </tr>\n",
       "  </thead>\n",
       "  <tbody>\n",
       "    <tr>\n",
       "      <th>0</th>\n",
       "      <td>1</td>\n",
       "      <td>23187.0</td>\n",
       "      <td>42</td>\n",
       "      <td>Married</td>\n",
       "      <td>Female</td>\n",
       "      <td>N</td>\n",
       "      <td>N</td>\n",
       "      <td>N</td>\n",
       "      <td>N</td>\n",
       "      <td>NaN</td>\n",
       "      <td>...</td>\n",
       "      <td>1</td>\n",
       "      <td>$0</td>\n",
       "      <td>$0</td>\n",
       "      <td>$0</td>\n",
       "      <td>$0</td>\n",
       "      <td>$0</td>\n",
       "      <td>$0</td>\n",
       "      <td>10.0</td>\n",
       "      <td>NaN</td>\n",
       "      <td>Y</td>\n",
       "    </tr>\n",
       "    <tr>\n",
       "      <th>1</th>\n",
       "      <td>2</td>\n",
       "      <td>77643.0</td>\n",
       "      <td>33</td>\n",
       "      <td>NaN</td>\n",
       "      <td>Female</td>\n",
       "      <td>N</td>\n",
       "      <td>Y</td>\n",
       "      <td>N</td>\n",
       "      <td>Y</td>\n",
       "      <td>NaN</td>\n",
       "      <td>...</td>\n",
       "      <td>0</td>\n",
       "      <td>$0</td>\n",
       "      <td>$0</td>\n",
       "      <td>$0</td>\n",
       "      <td>$0</td>\n",
       "      <td>$0</td>\n",
       "      <td>$0</td>\n",
       "      <td>2100.0</td>\n",
       "      <td>6/16/1985</td>\n",
       "      <td>Y</td>\n",
       "    </tr>\n",
       "    <tr>\n",
       "      <th>2</th>\n",
       "      <td>3</td>\n",
       "      <td>NaN</td>\n",
       "      <td>42</td>\n",
       "      <td>Married</td>\n",
       "      <td>Female</td>\n",
       "      <td>N</td>\n",
       "      <td>N</td>\n",
       "      <td>N</td>\n",
       "      <td>N</td>\n",
       "      <td>NaN</td>\n",
       "      <td>...</td>\n",
       "      <td>1</td>\n",
       "      <td>$0</td>\n",
       "      <td>$0</td>\n",
       "      <td>$0</td>\n",
       "      <td>$0</td>\n",
       "      <td>$0</td>\n",
       "      <td>$200</td>\n",
       "      <td>200.0</td>\n",
       "      <td>NaN</td>\n",
       "      <td>Y</td>\n",
       "    </tr>\n",
       "    <tr>\n",
       "      <th>3</th>\n",
       "      <td>4</td>\n",
       "      <td>47141.0</td>\n",
       "      <td>31</td>\n",
       "      <td>NaN</td>\n",
       "      <td>Female</td>\n",
       "      <td>N</td>\n",
       "      <td>Y</td>\n",
       "      <td>N</td>\n",
       "      <td>Y</td>\n",
       "      <td>NaN</td>\n",
       "      <td>...</td>\n",
       "      <td>0</td>\n",
       "      <td>$0</td>\n",
       "      <td>$0</td>\n",
       "      <td>$0</td>\n",
       "      <td>$0</td>\n",
       "      <td>$0</td>\n",
       "      <td>$0</td>\n",
       "      <td>0.0</td>\n",
       "      <td>12/3/1987</td>\n",
       "      <td>N</td>\n",
       "    </tr>\n",
       "    <tr>\n",
       "      <th>4</th>\n",
       "      <td>5</td>\n",
       "      <td>92555.0</td>\n",
       "      <td>68</td>\n",
       "      <td>NaN</td>\n",
       "      <td>Female</td>\n",
       "      <td>N</td>\n",
       "      <td>N</td>\n",
       "      <td>N</td>\n",
       "      <td>N</td>\n",
       "      <td>NaN</td>\n",
       "      <td>...</td>\n",
       "      <td>0</td>\n",
       "      <td>$0</td>\n",
       "      <td>$0</td>\n",
       "      <td>$0</td>\n",
       "      <td>$0</td>\n",
       "      <td>$0</td>\n",
       "      <td>$0</td>\n",
       "      <td>505.0</td>\n",
       "      <td>9/11/1950</td>\n",
       "      <td>Y</td>\n",
       "    </tr>\n",
       "    <tr>\n",
       "      <th>...</th>\n",
       "      <td>...</td>\n",
       "      <td>...</td>\n",
       "      <td>...</td>\n",
       "      <td>...</td>\n",
       "      <td>...</td>\n",
       "      <td>...</td>\n",
       "      <td>...</td>\n",
       "      <td>...</td>\n",
       "      <td>...</td>\n",
       "      <td>...</td>\n",
       "      <td>...</td>\n",
       "      <td>...</td>\n",
       "      <td>...</td>\n",
       "      <td>...</td>\n",
       "      <td>...</td>\n",
       "      <td>...</td>\n",
       "      <td>...</td>\n",
       "      <td>...</td>\n",
       "      <td>...</td>\n",
       "      <td>...</td>\n",
       "      <td>...</td>\n",
       "    </tr>\n",
       "    <tr>\n",
       "      <th>34503</th>\n",
       "      <td>34504</td>\n",
       "      <td>7848.0</td>\n",
       "      <td>42</td>\n",
       "      <td>NaN</td>\n",
       "      <td>Female</td>\n",
       "      <td>N</td>\n",
       "      <td>N</td>\n",
       "      <td>N</td>\n",
       "      <td>N</td>\n",
       "      <td>NaN</td>\n",
       "      <td>...</td>\n",
       "      <td>0</td>\n",
       "      <td>$0</td>\n",
       "      <td>$0</td>\n",
       "      <td>$0</td>\n",
       "      <td>$0</td>\n",
       "      <td>$0</td>\n",
       "      <td>$0</td>\n",
       "      <td>0.0</td>\n",
       "      <td>NaN</td>\n",
       "      <td>N</td>\n",
       "    </tr>\n",
       "    <tr>\n",
       "      <th>34504</th>\n",
       "      <td>34505</td>\n",
       "      <td>28275.0</td>\n",
       "      <td>24</td>\n",
       "      <td>NaN</td>\n",
       "      <td>Male</td>\n",
       "      <td>N</td>\n",
       "      <td>N</td>\n",
       "      <td>N</td>\n",
       "      <td>N</td>\n",
       "      <td>$250,000-$499,999</td>\n",
       "      <td>...</td>\n",
       "      <td>0</td>\n",
       "      <td>$0</td>\n",
       "      <td>$0</td>\n",
       "      <td>$0</td>\n",
       "      <td>$0</td>\n",
       "      <td>$0</td>\n",
       "      <td>$0</td>\n",
       "      <td>80.0</td>\n",
       "      <td>9/23/1994</td>\n",
       "      <td>Y</td>\n",
       "    </tr>\n",
       "    <tr>\n",
       "      <th>34505</th>\n",
       "      <td>34506</td>\n",
       "      <td>42539.0</td>\n",
       "      <td>27</td>\n",
       "      <td>NaN</td>\n",
       "      <td>Female</td>\n",
       "      <td>N</td>\n",
       "      <td>Y</td>\n",
       "      <td>N</td>\n",
       "      <td>Y</td>\n",
       "      <td>NaN</td>\n",
       "      <td>...</td>\n",
       "      <td>0</td>\n",
       "      <td>$0</td>\n",
       "      <td>$0</td>\n",
       "      <td>$0</td>\n",
       "      <td>$0</td>\n",
       "      <td>$0</td>\n",
       "      <td>$0</td>\n",
       "      <td>0.0</td>\n",
       "      <td>1/3/1991</td>\n",
       "      <td>N</td>\n",
       "    </tr>\n",
       "    <tr>\n",
       "      <th>34506</th>\n",
       "      <td>34507</td>\n",
       "      <td>32733.0</td>\n",
       "      <td>46</td>\n",
       "      <td>Married</td>\n",
       "      <td>Female</td>\n",
       "      <td>N</td>\n",
       "      <td>N</td>\n",
       "      <td>N</td>\n",
       "      <td>Y</td>\n",
       "      <td>NaN</td>\n",
       "      <td>...</td>\n",
       "      <td>1</td>\n",
       "      <td>$0</td>\n",
       "      <td>$0</td>\n",
       "      <td>$0</td>\n",
       "      <td>$120</td>\n",
       "      <td>$0</td>\n",
       "      <td>$0</td>\n",
       "      <td>120.0</td>\n",
       "      <td>5/11/1972</td>\n",
       "      <td>Y</td>\n",
       "    </tr>\n",
       "    <tr>\n",
       "      <th>34507</th>\n",
       "      <td>34508</td>\n",
       "      <td>10015.0</td>\n",
       "      <td>58</td>\n",
       "      <td>Married</td>\n",
       "      <td>Female</td>\n",
       "      <td>N</td>\n",
       "      <td>Y</td>\n",
       "      <td>N</td>\n",
       "      <td>Y</td>\n",
       "      <td>NaN</td>\n",
       "      <td>...</td>\n",
       "      <td>1</td>\n",
       "      <td>$0</td>\n",
       "      <td>$0</td>\n",
       "      <td>$0</td>\n",
       "      <td>$0</td>\n",
       "      <td>$0</td>\n",
       "      <td>$0</td>\n",
       "      <td>0.0</td>\n",
       "      <td>3/23/1960</td>\n",
       "      <td>N</td>\n",
       "    </tr>\n",
       "  </tbody>\n",
       "</table>\n",
       "<p>34508 rows × 23 columns</p>\n",
       "</div>"
      ],
      "text/plain": [
       "          ID  ZIPCODE  AGE MARITAL_STATUS  GENDER MEMBERSHIP_IND ALUMNUS_IND  \\\n",
       "0          1  23187.0   42        Married  Female              N           N   \n",
       "1          2  77643.0   33            NaN  Female              N           Y   \n",
       "2          3      NaN   42        Married  Female              N           N   \n",
       "3          4  47141.0   31            NaN  Female              N           Y   \n",
       "4          5  92555.0   68            NaN  Female              N           N   \n",
       "...      ...      ...  ...            ...     ...            ...         ...   \n",
       "34503  34504   7848.0   42            NaN  Female              N           N   \n",
       "34504  34505  28275.0   24            NaN    Male              N           N   \n",
       "34505  34506  42539.0   27            NaN  Female              N           Y   \n",
       "34506  34507  32733.0   46        Married  Female              N           N   \n",
       "34507  34508  10015.0   58        Married  Female              N           Y   \n",
       "\n",
       "      PARENT_IND HAS_INVOLVEMENT_IND      WEALTH_RATING  ... Donor_years  \\\n",
       "0              N                   N                NaN  ...           1   \n",
       "1              N                   Y                NaN  ...           0   \n",
       "2              N                   N                NaN  ...           1   \n",
       "3              N                   Y                NaN  ...           0   \n",
       "4              N                   N                NaN  ...           0   \n",
       "...          ...                 ...                ...  ...         ...   \n",
       "34503          N                   N                NaN  ...           0   \n",
       "34504          N                   N  $250,000-$499,999  ...           0   \n",
       "34505          N                   Y                NaN  ...           0   \n",
       "34506          N                   Y                NaN  ...           1   \n",
       "34507          N                   Y                NaN  ...           1   \n",
       "\n",
       "      PrevFYGiving PrevFY1Giving  PrevFY2Giving PrevFY3Giving PrevFY4Giving  \\\n",
       "0              $0            $0             $0            $0            $0    \n",
       "1              $0            $0             $0            $0            $0    \n",
       "2              $0            $0             $0            $0            $0    \n",
       "3              $0            $0             $0            $0            $0    \n",
       "4              $0            $0             $0            $0            $0    \n",
       "...            ...           ...            ...           ...           ...   \n",
       "34503          $0            $0             $0            $0            $0    \n",
       "34504          $0            $0             $0            $0            $0    \n",
       "34505          $0            $0             $0            $0            $0    \n",
       "34506          $0            $0             $0          $120            $0    \n",
       "34507          $0            $0             $0            $0            $0    \n",
       "\n",
       "      CurrFYGiving TotalGiving BIRTH_DATE DONOR_IND  \n",
       "0              $0         10.0        NaN         Y  \n",
       "1              $0       2100.0  6/16/1985         Y  \n",
       "2            $200        200.0        NaN         Y  \n",
       "3              $0          0.0  12/3/1987         N  \n",
       "4              $0        505.0  9/11/1950         Y  \n",
       "...            ...         ...        ...       ...  \n",
       "34503          $0          0.0        NaN         N  \n",
       "34504          $0         80.0  9/23/1994         Y  \n",
       "34505          $0          0.0   1/3/1991         N  \n",
       "34506          $0        120.0  5/11/1972         Y  \n",
       "34507          $0          0.0  3/23/1960         N  \n",
       "\n",
       "[34508 rows x 23 columns]"
      ]
     },
     "execution_count": 3,
     "metadata": {},
     "output_type": "execute_result"
    }
   ],
   "source": [
    "df"
   ]
  },
  {
   "cell_type": "code",
   "execution_count": 4,
   "id": "54110759",
   "metadata": {},
   "outputs": [
    {
     "data": {
      "text/html": [
       "<div>\n",
       "<style scoped>\n",
       "    .dataframe tbody tr th:only-of-type {\n",
       "        vertical-align: middle;\n",
       "    }\n",
       "\n",
       "    .dataframe tbody tr th {\n",
       "        vertical-align: top;\n",
       "    }\n",
       "\n",
       "    .dataframe thead th {\n",
       "        text-align: right;\n",
       "    }\n",
       "</style>\n",
       "<table border=\"1\" class=\"dataframe\">\n",
       "  <thead>\n",
       "    <tr style=\"text-align: right;\">\n",
       "      <th></th>\n",
       "      <th>ID</th>\n",
       "      <th>ZIPCODE</th>\n",
       "      <th>AGE</th>\n",
       "      <th>MARITAL_STATUS</th>\n",
       "      <th>GENDER</th>\n",
       "      <th>MEMBERSHIP_IND</th>\n",
       "      <th>ALUMNUS_IND</th>\n",
       "      <th>PARENT_IND</th>\n",
       "      <th>HAS_INVOLVEMENT_IND</th>\n",
       "      <th>WEALTH_RATING</th>\n",
       "      <th>...</th>\n",
       "      <th>Donor_years</th>\n",
       "      <th>PrevFYGiving</th>\n",
       "      <th>PrevFY1Giving</th>\n",
       "      <th>PrevFY2Giving</th>\n",
       "      <th>PrevFY3Giving</th>\n",
       "      <th>PrevFY4Giving</th>\n",
       "      <th>CurrFYGiving</th>\n",
       "      <th>TotalGiving</th>\n",
       "      <th>BIRTH_DATE</th>\n",
       "      <th>DONOR_IND</th>\n",
       "    </tr>\n",
       "  </thead>\n",
       "  <tbody>\n",
       "    <tr>\n",
       "      <th>0</th>\n",
       "      <td>1</td>\n",
       "      <td>23187.0</td>\n",
       "      <td>42</td>\n",
       "      <td>Married</td>\n",
       "      <td>Female</td>\n",
       "      <td>N</td>\n",
       "      <td>N</td>\n",
       "      <td>N</td>\n",
       "      <td>N</td>\n",
       "      <td>NaN</td>\n",
       "      <td>...</td>\n",
       "      <td>1</td>\n",
       "      <td>$0</td>\n",
       "      <td>$0</td>\n",
       "      <td>$0</td>\n",
       "      <td>$0</td>\n",
       "      <td>$0</td>\n",
       "      <td>$0</td>\n",
       "      <td>10.0</td>\n",
       "      <td>NaN</td>\n",
       "      <td>Y</td>\n",
       "    </tr>\n",
       "    <tr>\n",
       "      <th>1</th>\n",
       "      <td>2</td>\n",
       "      <td>77643.0</td>\n",
       "      <td>33</td>\n",
       "      <td>NaN</td>\n",
       "      <td>Female</td>\n",
       "      <td>N</td>\n",
       "      <td>Y</td>\n",
       "      <td>N</td>\n",
       "      <td>Y</td>\n",
       "      <td>NaN</td>\n",
       "      <td>...</td>\n",
       "      <td>0</td>\n",
       "      <td>$0</td>\n",
       "      <td>$0</td>\n",
       "      <td>$0</td>\n",
       "      <td>$0</td>\n",
       "      <td>$0</td>\n",
       "      <td>$0</td>\n",
       "      <td>2100.0</td>\n",
       "      <td>6/16/1985</td>\n",
       "      <td>Y</td>\n",
       "    </tr>\n",
       "    <tr>\n",
       "      <th>2</th>\n",
       "      <td>3</td>\n",
       "      <td>NaN</td>\n",
       "      <td>42</td>\n",
       "      <td>Married</td>\n",
       "      <td>Female</td>\n",
       "      <td>N</td>\n",
       "      <td>N</td>\n",
       "      <td>N</td>\n",
       "      <td>N</td>\n",
       "      <td>NaN</td>\n",
       "      <td>...</td>\n",
       "      <td>1</td>\n",
       "      <td>$0</td>\n",
       "      <td>$0</td>\n",
       "      <td>$0</td>\n",
       "      <td>$0</td>\n",
       "      <td>$0</td>\n",
       "      <td>$200</td>\n",
       "      <td>200.0</td>\n",
       "      <td>NaN</td>\n",
       "      <td>Y</td>\n",
       "    </tr>\n",
       "    <tr>\n",
       "      <th>3</th>\n",
       "      <td>4</td>\n",
       "      <td>47141.0</td>\n",
       "      <td>31</td>\n",
       "      <td>NaN</td>\n",
       "      <td>Female</td>\n",
       "      <td>N</td>\n",
       "      <td>Y</td>\n",
       "      <td>N</td>\n",
       "      <td>Y</td>\n",
       "      <td>NaN</td>\n",
       "      <td>...</td>\n",
       "      <td>0</td>\n",
       "      <td>$0</td>\n",
       "      <td>$0</td>\n",
       "      <td>$0</td>\n",
       "      <td>$0</td>\n",
       "      <td>$0</td>\n",
       "      <td>$0</td>\n",
       "      <td>0.0</td>\n",
       "      <td>12/3/1987</td>\n",
       "      <td>N</td>\n",
       "    </tr>\n",
       "    <tr>\n",
       "      <th>4</th>\n",
       "      <td>5</td>\n",
       "      <td>92555.0</td>\n",
       "      <td>68</td>\n",
       "      <td>NaN</td>\n",
       "      <td>Female</td>\n",
       "      <td>N</td>\n",
       "      <td>N</td>\n",
       "      <td>N</td>\n",
       "      <td>N</td>\n",
       "      <td>NaN</td>\n",
       "      <td>...</td>\n",
       "      <td>0</td>\n",
       "      <td>$0</td>\n",
       "      <td>$0</td>\n",
       "      <td>$0</td>\n",
       "      <td>$0</td>\n",
       "      <td>$0</td>\n",
       "      <td>$0</td>\n",
       "      <td>505.0</td>\n",
       "      <td>9/11/1950</td>\n",
       "      <td>Y</td>\n",
       "    </tr>\n",
       "    <tr>\n",
       "      <th>5</th>\n",
       "      <td>6</td>\n",
       "      <td>95191.0</td>\n",
       "      <td>57</td>\n",
       "      <td>NaN</td>\n",
       "      <td>Male</td>\n",
       "      <td>N</td>\n",
       "      <td>N</td>\n",
       "      <td>N</td>\n",
       "      <td>N</td>\n",
       "      <td>NaN</td>\n",
       "      <td>...</td>\n",
       "      <td>0</td>\n",
       "      <td>$0</td>\n",
       "      <td>$0</td>\n",
       "      <td>$0</td>\n",
       "      <td>$0</td>\n",
       "      <td>$0</td>\n",
       "      <td>$0</td>\n",
       "      <td>0.0</td>\n",
       "      <td>1/23/1961</td>\n",
       "      <td>N</td>\n",
       "    </tr>\n",
       "    <tr>\n",
       "      <th>6</th>\n",
       "      <td>7</td>\n",
       "      <td>90265.0</td>\n",
       "      <td>42</td>\n",
       "      <td>NaN</td>\n",
       "      <td>Male</td>\n",
       "      <td>N</td>\n",
       "      <td>N</td>\n",
       "      <td>N</td>\n",
       "      <td>N</td>\n",
       "      <td>NaN</td>\n",
       "      <td>...</td>\n",
       "      <td>3</td>\n",
       "      <td>$0</td>\n",
       "      <td>$0</td>\n",
       "      <td>$0</td>\n",
       "      <td>$0</td>\n",
       "      <td>$0</td>\n",
       "      <td>$0</td>\n",
       "      <td>0.0</td>\n",
       "      <td>NaN</td>\n",
       "      <td>N</td>\n",
       "    </tr>\n",
       "    <tr>\n",
       "      <th>7</th>\n",
       "      <td>8</td>\n",
       "      <td>67701.0</td>\n",
       "      <td>42</td>\n",
       "      <td>Married</td>\n",
       "      <td>Female</td>\n",
       "      <td>N</td>\n",
       "      <td>N</td>\n",
       "      <td>N</td>\n",
       "      <td>N</td>\n",
       "      <td>NaN</td>\n",
       "      <td>...</td>\n",
       "      <td>1</td>\n",
       "      <td>$0</td>\n",
       "      <td>$0</td>\n",
       "      <td>$0</td>\n",
       "      <td>$0</td>\n",
       "      <td>$0</td>\n",
       "      <td>$0</td>\n",
       "      <td>170.0</td>\n",
       "      <td>NaN</td>\n",
       "      <td>Y</td>\n",
       "    </tr>\n",
       "    <tr>\n",
       "      <th>8</th>\n",
       "      <td>9</td>\n",
       "      <td>95972.0</td>\n",
       "      <td>42</td>\n",
       "      <td>Single</td>\n",
       "      <td>Uknown</td>\n",
       "      <td>N</td>\n",
       "      <td>N</td>\n",
       "      <td>N</td>\n",
       "      <td>Y</td>\n",
       "      <td>NaN</td>\n",
       "      <td>...</td>\n",
       "      <td>0</td>\n",
       "      <td>$5</td>\n",
       "      <td>$0</td>\n",
       "      <td>$0</td>\n",
       "      <td>$0</td>\n",
       "      <td>$0</td>\n",
       "      <td>$0</td>\n",
       "      <td>5.0</td>\n",
       "      <td>NaN</td>\n",
       "      <td>Y</td>\n",
       "    </tr>\n",
       "    <tr>\n",
       "      <th>9</th>\n",
       "      <td>10</td>\n",
       "      <td>49884.0</td>\n",
       "      <td>42</td>\n",
       "      <td>Married</td>\n",
       "      <td>Female</td>\n",
       "      <td>N</td>\n",
       "      <td>N</td>\n",
       "      <td>Y</td>\n",
       "      <td>N</td>\n",
       "      <td>NaN</td>\n",
       "      <td>...</td>\n",
       "      <td>0</td>\n",
       "      <td>$0</td>\n",
       "      <td>$0</td>\n",
       "      <td>$0</td>\n",
       "      <td>$0</td>\n",
       "      <td>$0</td>\n",
       "      <td>$0</td>\n",
       "      <td>15.0</td>\n",
       "      <td>NaN</td>\n",
       "      <td>Y</td>\n",
       "    </tr>\n",
       "  </tbody>\n",
       "</table>\n",
       "<p>10 rows × 23 columns</p>\n",
       "</div>"
      ],
      "text/plain": [
       "   ID  ZIPCODE  AGE MARITAL_STATUS  GENDER MEMBERSHIP_IND ALUMNUS_IND  \\\n",
       "0   1  23187.0   42        Married  Female              N           N   \n",
       "1   2  77643.0   33            NaN  Female              N           Y   \n",
       "2   3      NaN   42        Married  Female              N           N   \n",
       "3   4  47141.0   31            NaN  Female              N           Y   \n",
       "4   5  92555.0   68            NaN  Female              N           N   \n",
       "5   6  95191.0   57            NaN    Male              N           N   \n",
       "6   7  90265.0   42            NaN    Male              N           N   \n",
       "7   8  67701.0   42        Married  Female              N           N   \n",
       "8   9  95972.0   42         Single  Uknown              N           N   \n",
       "9  10  49884.0   42        Married  Female              N           N   \n",
       "\n",
       "  PARENT_IND HAS_INVOLVEMENT_IND WEALTH_RATING  ... Donor_years PrevFYGiving  \\\n",
       "0          N                   N           NaN  ...           1          $0    \n",
       "1          N                   Y           NaN  ...           0          $0    \n",
       "2          N                   N           NaN  ...           1          $0    \n",
       "3          N                   Y           NaN  ...           0          $0    \n",
       "4          N                   N           NaN  ...           0          $0    \n",
       "5          N                   N           NaN  ...           0          $0    \n",
       "6          N                   N           NaN  ...           3          $0    \n",
       "7          N                   N           NaN  ...           1          $0    \n",
       "8          N                   Y           NaN  ...           0          $5    \n",
       "9          Y                   N           NaN  ...           0          $0    \n",
       "\n",
       "  PrevFY1Giving  PrevFY2Giving PrevFY3Giving PrevFY4Giving CurrFYGiving  \\\n",
       "0           $0             $0            $0            $0           $0    \n",
       "1           $0             $0            $0            $0           $0    \n",
       "2           $0             $0            $0            $0         $200    \n",
       "3           $0             $0            $0            $0           $0    \n",
       "4           $0             $0            $0            $0           $0    \n",
       "5           $0             $0            $0            $0           $0    \n",
       "6           $0             $0            $0            $0           $0    \n",
       "7           $0             $0            $0            $0           $0    \n",
       "8           $0             $0            $0            $0           $0    \n",
       "9           $0             $0            $0            $0           $0    \n",
       "\n",
       "  TotalGiving BIRTH_DATE DONOR_IND  \n",
       "0        10.0        NaN         Y  \n",
       "1      2100.0  6/16/1985         Y  \n",
       "2       200.0        NaN         Y  \n",
       "3         0.0  12/3/1987         N  \n",
       "4       505.0  9/11/1950         Y  \n",
       "5         0.0  1/23/1961         N  \n",
       "6         0.0        NaN         N  \n",
       "7       170.0        NaN         Y  \n",
       "8         5.0        NaN         Y  \n",
       "9        15.0        NaN         Y  \n",
       "\n",
       "[10 rows x 23 columns]"
      ]
     },
     "execution_count": 4,
     "metadata": {},
     "output_type": "execute_result"
    }
   ],
   "source": [
    "df.head(10)"
   ]
  },
  {
   "cell_type": "code",
   "execution_count": 5,
   "id": "26e5810d",
   "metadata": {},
   "outputs": [
    {
     "data": {
      "text/html": [
       "<div>\n",
       "<style scoped>\n",
       "    .dataframe tbody tr th:only-of-type {\n",
       "        vertical-align: middle;\n",
       "    }\n",
       "\n",
       "    .dataframe tbody tr th {\n",
       "        vertical-align: top;\n",
       "    }\n",
       "\n",
       "    .dataframe thead th {\n",
       "        text-align: right;\n",
       "    }\n",
       "</style>\n",
       "<table border=\"1\" class=\"dataframe\">\n",
       "  <thead>\n",
       "    <tr style=\"text-align: right;\">\n",
       "      <th></th>\n",
       "      <th>ID</th>\n",
       "      <th>ZIPCODE</th>\n",
       "      <th>AGE</th>\n",
       "      <th>MARITAL_STATUS</th>\n",
       "      <th>GENDER</th>\n",
       "      <th>MEMBERSHIP_IND</th>\n",
       "      <th>ALUMNUS_IND</th>\n",
       "      <th>PARENT_IND</th>\n",
       "      <th>HAS_INVOLVEMENT_IND</th>\n",
       "      <th>WEALTH_RATING</th>\n",
       "      <th>...</th>\n",
       "      <th>Donor_years</th>\n",
       "      <th>PrevFYGiving</th>\n",
       "      <th>PrevFY1Giving</th>\n",
       "      <th>PrevFY2Giving</th>\n",
       "      <th>PrevFY3Giving</th>\n",
       "      <th>PrevFY4Giving</th>\n",
       "      <th>CurrFYGiving</th>\n",
       "      <th>TotalGiving</th>\n",
       "      <th>BIRTH_DATE</th>\n",
       "      <th>DONOR_IND</th>\n",
       "    </tr>\n",
       "  </thead>\n",
       "  <tbody>\n",
       "    <tr>\n",
       "      <th>34503</th>\n",
       "      <td>34504</td>\n",
       "      <td>7848.0</td>\n",
       "      <td>42</td>\n",
       "      <td>NaN</td>\n",
       "      <td>Female</td>\n",
       "      <td>N</td>\n",
       "      <td>N</td>\n",
       "      <td>N</td>\n",
       "      <td>N</td>\n",
       "      <td>NaN</td>\n",
       "      <td>...</td>\n",
       "      <td>0</td>\n",
       "      <td>$0</td>\n",
       "      <td>$0</td>\n",
       "      <td>$0</td>\n",
       "      <td>$0</td>\n",
       "      <td>$0</td>\n",
       "      <td>$0</td>\n",
       "      <td>0.0</td>\n",
       "      <td>NaN</td>\n",
       "      <td>N</td>\n",
       "    </tr>\n",
       "    <tr>\n",
       "      <th>34504</th>\n",
       "      <td>34505</td>\n",
       "      <td>28275.0</td>\n",
       "      <td>24</td>\n",
       "      <td>NaN</td>\n",
       "      <td>Male</td>\n",
       "      <td>N</td>\n",
       "      <td>N</td>\n",
       "      <td>N</td>\n",
       "      <td>N</td>\n",
       "      <td>$250,000-$499,999</td>\n",
       "      <td>...</td>\n",
       "      <td>0</td>\n",
       "      <td>$0</td>\n",
       "      <td>$0</td>\n",
       "      <td>$0</td>\n",
       "      <td>$0</td>\n",
       "      <td>$0</td>\n",
       "      <td>$0</td>\n",
       "      <td>80.0</td>\n",
       "      <td>9/23/1994</td>\n",
       "      <td>Y</td>\n",
       "    </tr>\n",
       "    <tr>\n",
       "      <th>34505</th>\n",
       "      <td>34506</td>\n",
       "      <td>42539.0</td>\n",
       "      <td>27</td>\n",
       "      <td>NaN</td>\n",
       "      <td>Female</td>\n",
       "      <td>N</td>\n",
       "      <td>Y</td>\n",
       "      <td>N</td>\n",
       "      <td>Y</td>\n",
       "      <td>NaN</td>\n",
       "      <td>...</td>\n",
       "      <td>0</td>\n",
       "      <td>$0</td>\n",
       "      <td>$0</td>\n",
       "      <td>$0</td>\n",
       "      <td>$0</td>\n",
       "      <td>$0</td>\n",
       "      <td>$0</td>\n",
       "      <td>0.0</td>\n",
       "      <td>1/3/1991</td>\n",
       "      <td>N</td>\n",
       "    </tr>\n",
       "    <tr>\n",
       "      <th>34506</th>\n",
       "      <td>34507</td>\n",
       "      <td>32733.0</td>\n",
       "      <td>46</td>\n",
       "      <td>Married</td>\n",
       "      <td>Female</td>\n",
       "      <td>N</td>\n",
       "      <td>N</td>\n",
       "      <td>N</td>\n",
       "      <td>Y</td>\n",
       "      <td>NaN</td>\n",
       "      <td>...</td>\n",
       "      <td>1</td>\n",
       "      <td>$0</td>\n",
       "      <td>$0</td>\n",
       "      <td>$0</td>\n",
       "      <td>$120</td>\n",
       "      <td>$0</td>\n",
       "      <td>$0</td>\n",
       "      <td>120.0</td>\n",
       "      <td>5/11/1972</td>\n",
       "      <td>Y</td>\n",
       "    </tr>\n",
       "    <tr>\n",
       "      <th>34507</th>\n",
       "      <td>34508</td>\n",
       "      <td>10015.0</td>\n",
       "      <td>58</td>\n",
       "      <td>Married</td>\n",
       "      <td>Female</td>\n",
       "      <td>N</td>\n",
       "      <td>Y</td>\n",
       "      <td>N</td>\n",
       "      <td>Y</td>\n",
       "      <td>NaN</td>\n",
       "      <td>...</td>\n",
       "      <td>1</td>\n",
       "      <td>$0</td>\n",
       "      <td>$0</td>\n",
       "      <td>$0</td>\n",
       "      <td>$0</td>\n",
       "      <td>$0</td>\n",
       "      <td>$0</td>\n",
       "      <td>0.0</td>\n",
       "      <td>3/23/1960</td>\n",
       "      <td>N</td>\n",
       "    </tr>\n",
       "  </tbody>\n",
       "</table>\n",
       "<p>5 rows × 23 columns</p>\n",
       "</div>"
      ],
      "text/plain": [
       "          ID  ZIPCODE  AGE MARITAL_STATUS  GENDER MEMBERSHIP_IND ALUMNUS_IND  \\\n",
       "34503  34504   7848.0   42            NaN  Female              N           N   \n",
       "34504  34505  28275.0   24            NaN    Male              N           N   \n",
       "34505  34506  42539.0   27            NaN  Female              N           Y   \n",
       "34506  34507  32733.0   46        Married  Female              N           N   \n",
       "34507  34508  10015.0   58        Married  Female              N           Y   \n",
       "\n",
       "      PARENT_IND HAS_INVOLVEMENT_IND      WEALTH_RATING  ... Donor_years  \\\n",
       "34503          N                   N                NaN  ...           0   \n",
       "34504          N                   N  $250,000-$499,999  ...           0   \n",
       "34505          N                   Y                NaN  ...           0   \n",
       "34506          N                   Y                NaN  ...           1   \n",
       "34507          N                   Y                NaN  ...           1   \n",
       "\n",
       "      PrevFYGiving PrevFY1Giving  PrevFY2Giving PrevFY3Giving PrevFY4Giving  \\\n",
       "34503          $0            $0             $0            $0            $0    \n",
       "34504          $0            $0             $0            $0            $0    \n",
       "34505          $0            $0             $0            $0            $0    \n",
       "34506          $0            $0             $0          $120            $0    \n",
       "34507          $0            $0             $0            $0            $0    \n",
       "\n",
       "      CurrFYGiving TotalGiving BIRTH_DATE DONOR_IND  \n",
       "34503          $0          0.0        NaN         N  \n",
       "34504          $0         80.0  9/23/1994         Y  \n",
       "34505          $0          0.0   1/3/1991         N  \n",
       "34506          $0        120.0  5/11/1972         Y  \n",
       "34507          $0          0.0  3/23/1960         N  \n",
       "\n",
       "[5 rows x 23 columns]"
      ]
     },
     "execution_count": 5,
     "metadata": {},
     "output_type": "execute_result"
    }
   ],
   "source": [
    "df.tail(5)"
   ]
  },
  {
   "cell_type": "code",
   "execution_count": 6,
   "id": "8aaa25e7",
   "metadata": {},
   "outputs": [
    {
     "data": {
      "text/plain": [
       "(34508, 23)"
      ]
     },
     "execution_count": 6,
     "metadata": {},
     "output_type": "execute_result"
    }
   ],
   "source": [
    "df.shape"
   ]
  },
  {
   "cell_type": "code",
   "execution_count": 7,
   "id": "c9492d87",
   "metadata": {},
   "outputs": [
    {
     "name": "stdout",
     "output_type": "stream",
     "text": [
      "<class 'pandas.core.frame.DataFrame'>\n",
      "RangeIndex: 34508 entries, 0 to 34507\n",
      "Data columns (total 23 columns):\n",
      " #   Column               Non-Null Count  Dtype  \n",
      "---  ------               --------------  -----  \n",
      " 0   ID                   34508 non-null  int64  \n",
      " 1   ZIPCODE              34417 non-null  float64\n",
      " 2   AGE                  34508 non-null  int64  \n",
      " 3   MARITAL_STATUS       9940 non-null   object \n",
      " 4   GENDER               34015 non-null  object \n",
      " 5   MEMBERSHIP_IND       34508 non-null  object \n",
      " 6   ALUMNUS_IND          34508 non-null  object \n",
      " 7   PARENT_IND           34508 non-null  object \n",
      " 8   HAS_INVOLVEMENT_IND  34508 non-null  object \n",
      " 9   WEALTH_RATING        2709 non-null   object \n",
      " 10  DEGREE_LEVEL         7606 non-null   object \n",
      " 11  PREF_ADDRESS_TYPE    30465 non-null  object \n",
      " 12  EMAIL_PRESENT_IND    34508 non-null  object \n",
      " 13  Donor_years          34508 non-null  int64  \n",
      " 14  PrevFYGiving         34508 non-null  object \n",
      " 15  PrevFY1Giving        34508 non-null  object \n",
      " 16  PrevFY2Giving        34508 non-null  object \n",
      " 17  PrevFY3Giving        34508 non-null  object \n",
      " 18  PrevFY4Giving        34508 non-null  object \n",
      " 19  CurrFYGiving         34508 non-null  object \n",
      " 20  TotalGiving          34508 non-null  float64\n",
      " 21  BIRTH_DATE           13318 non-null  object \n",
      " 22  DONOR_IND            34508 non-null  object \n",
      "dtypes: float64(2), int64(3), object(18)\n",
      "memory usage: 6.1+ MB\n"
     ]
    }
   ],
   "source": [
    "df.info()"
   ]
  },
  {
   "cell_type": "code",
   "execution_count": 8,
   "id": "f7f60d07",
   "metadata": {},
   "outputs": [
    {
     "data": {
      "text/html": [
       "<div>\n",
       "<style scoped>\n",
       "    .dataframe tbody tr th:only-of-type {\n",
       "        vertical-align: middle;\n",
       "    }\n",
       "\n",
       "    .dataframe tbody tr th {\n",
       "        vertical-align: top;\n",
       "    }\n",
       "\n",
       "    .dataframe thead th {\n",
       "        text-align: right;\n",
       "    }\n",
       "</style>\n",
       "<table border=\"1\" class=\"dataframe\">\n",
       "  <thead>\n",
       "    <tr style=\"text-align: right;\">\n",
       "      <th></th>\n",
       "      <th>ID</th>\n",
       "      <th>ZIPCODE</th>\n",
       "      <th>AGE</th>\n",
       "      <th>Donor_years</th>\n",
       "      <th>TotalGiving</th>\n",
       "    </tr>\n",
       "  </thead>\n",
       "  <tbody>\n",
       "    <tr>\n",
       "      <th>count</th>\n",
       "      <td>34508.000000</td>\n",
       "      <td>34417.000000</td>\n",
       "      <td>34508.000000</td>\n",
       "      <td>34508.000000</td>\n",
       "      <td>3.450800e+04</td>\n",
       "    </tr>\n",
       "    <tr>\n",
       "      <th>mean</th>\n",
       "      <td>17254.500000</td>\n",
       "      <td>56161.625970</td>\n",
       "      <td>43.366987</td>\n",
       "      <td>1.137475</td>\n",
       "      <td>2.363534e+03</td>\n",
       "    </tr>\n",
       "    <tr>\n",
       "      <th>std</th>\n",
       "      <td>9961.745881</td>\n",
       "      <td>29966.704506</td>\n",
       "      <td>11.405722</td>\n",
       "      <td>2.423034</td>\n",
       "      <td>1.138014e+05</td>\n",
       "    </tr>\n",
       "    <tr>\n",
       "      <th>min</th>\n",
       "      <td>1.000000</td>\n",
       "      <td>211.000000</td>\n",
       "      <td>1.000000</td>\n",
       "      <td>0.000000</td>\n",
       "      <td>0.000000e+00</td>\n",
       "    </tr>\n",
       "    <tr>\n",
       "      <th>25%</th>\n",
       "      <td>8627.750000</td>\n",
       "      <td>29927.000000</td>\n",
       "      <td>42.000000</td>\n",
       "      <td>0.000000</td>\n",
       "      <td>0.000000e+00</td>\n",
       "    </tr>\n",
       "    <tr>\n",
       "      <th>50%</th>\n",
       "      <td>17254.500000</td>\n",
       "      <td>58108.000000</td>\n",
       "      <td>42.000000</td>\n",
       "      <td>0.000000</td>\n",
       "      <td>2.500000e+01</td>\n",
       "    </tr>\n",
       "    <tr>\n",
       "      <th>75%</th>\n",
       "      <td>25881.250000</td>\n",
       "      <td>90265.000000</td>\n",
       "      <td>42.000000</td>\n",
       "      <td>1.000000</td>\n",
       "      <td>1.440000e+02</td>\n",
       "    </tr>\n",
       "    <tr>\n",
       "      <th>max</th>\n",
       "      <td>34508.000000</td>\n",
       "      <td>99928.000000</td>\n",
       "      <td>110.000000</td>\n",
       "      <td>36.000000</td>\n",
       "      <td>1.222185e+07</td>\n",
       "    </tr>\n",
       "  </tbody>\n",
       "</table>\n",
       "</div>"
      ],
      "text/plain": [
       "                 ID       ZIPCODE           AGE   Donor_years   TotalGiving\n",
       "count  34508.000000  34417.000000  34508.000000  34508.000000  3.450800e+04\n",
       "mean   17254.500000  56161.625970     43.366987      1.137475  2.363534e+03\n",
       "std     9961.745881  29966.704506     11.405722      2.423034  1.138014e+05\n",
       "min        1.000000    211.000000      1.000000      0.000000  0.000000e+00\n",
       "25%     8627.750000  29927.000000     42.000000      0.000000  0.000000e+00\n",
       "50%    17254.500000  58108.000000     42.000000      0.000000  2.500000e+01\n",
       "75%    25881.250000  90265.000000     42.000000      1.000000  1.440000e+02\n",
       "max    34508.000000  99928.000000    110.000000     36.000000  1.222185e+07"
      ]
     },
     "execution_count": 8,
     "metadata": {},
     "output_type": "execute_result"
    }
   ],
   "source": [
    "# Summary statistics for numerical columns\n",
    "df.describe() "
   ]
  },
  {
   "cell_type": "code",
   "execution_count": 9,
   "id": "d6d96364",
   "metadata": {},
   "outputs": [
    {
     "name": "stdout",
     "output_type": "stream",
     "text": [
      "Requirement already satisfied: pandas-profiling in c:\\users\\ve797\\anaconda4\\lib\\site-packages (3.0.0)\n",
      "Requirement already satisfied: scipy>=1.4.1 in c:\\users\\ve797\\anaconda4\\lib\\site-packages (from pandas-profiling) (1.5.4)\n",
      "Requirement already satisfied: pydantic>=1.8.1 in c:\\users\\ve797\\anaconda4\\lib\\site-packages (from pandas-profiling) (1.8.2)\n",
      "Requirement already satisfied: PyYAML>=5.0.0 in c:\\users\\ve797\\anaconda4\\lib\\site-packages (from pandas-profiling) (5.4.1)\n",
      "Requirement already satisfied: numpy>=1.16.0 in c:\\users\\ve797\\anaconda4\\lib\\site-packages (from pandas-profiling) (1.19.5)\n",
      "Requirement already satisfied: requests>=2.24.0 in c:\\users\\ve797\\anaconda4\\lib\\site-packages (from pandas-profiling) (2.25.1)\n",
      "Requirement already satisfied: phik>=0.11.1 in c:\\users\\ve797\\anaconda4\\lib\\site-packages (from pandas-profiling) (0.11.2)\n",
      "Requirement already satisfied: joblib in c:\\users\\ve797\\anaconda4\\lib\\site-packages (from pandas-profiling) (1.0.1)\n",
      "Requirement already satisfied: tangled-up-in-unicode==0.1.0 in c:\\users\\ve797\\anaconda4\\lib\\site-packages (from pandas-profiling) (0.1.0)\n",
      "Requirement already satisfied: missingno>=0.4.2 in c:\\users\\ve797\\anaconda4\\lib\\site-packages (from pandas-profiling) (0.4.2)\n",
      "Requirement already satisfied: matplotlib>=3.2.0 in c:\\users\\ve797\\anaconda4\\lib\\site-packages (from pandas-profiling) (3.3.4)\n",
      "Requirement already satisfied: pandas!=1.0.0,!=1.0.1,!=1.0.2,!=1.1.0,>=0.25.3 in c:\\users\\ve797\\anaconda4\\lib\\site-packages (from pandas-profiling) (1.2.4)\n",
      "Requirement already satisfied: tqdm>=4.48.2 in c:\\users\\ve797\\anaconda4\\lib\\site-packages (from pandas-profiling) (4.59.0)\n",
      "Requirement already satisfied: htmlmin>=0.1.12 in c:\\users\\ve797\\anaconda4\\lib\\site-packages (from pandas-profiling) (0.1.12)\n",
      "Requirement already satisfied: visions[type_image_path]==0.7.1 in c:\\users\\ve797\\anaconda4\\lib\\site-packages (from pandas-profiling) (0.7.1)\n",
      "Requirement already satisfied: seaborn>=0.10.1 in c:\\users\\ve797\\anaconda4\\lib\\site-packages (from pandas-profiling) (0.11.1)\n",
      "Requirement already satisfied: jinja2>=2.11.1 in c:\\users\\ve797\\anaconda4\\lib\\site-packages (from pandas-profiling) (3.0.0)\n",
      "Requirement already satisfied: networkx>=2.4 in c:\\users\\ve797\\anaconda4\\lib\\site-packages (from visions[type_image_path]==0.7.1->pandas-profiling) (2.5)\n",
      "Requirement already satisfied: multimethod==1.4 in c:\\users\\ve797\\anaconda4\\lib\\site-packages (from visions[type_image_path]==0.7.1->pandas-profiling) (1.4)\n",
      "Requirement already satisfied: bottleneck in c:\\users\\ve797\\anaconda4\\lib\\site-packages (from visions[type_image_path]==0.7.1->pandas-profiling) (1.3.2)\n",
      "Requirement already satisfied: attrs>=19.3.0 in c:\\users\\ve797\\anaconda4\\lib\\site-packages (from visions[type_image_path]==0.7.1->pandas-profiling) (21.2.0)\n",
      "Requirement already satisfied: Pillow in c:\\users\\ve797\\anaconda4\\lib\\site-packages (from visions[type_image_path]==0.7.1->pandas-profiling) (8.2.0)\n",
      "Requirement already satisfied: imagehash in c:\\users\\ve797\\anaconda4\\lib\\site-packages (from visions[type_image_path]==0.7.1->pandas-profiling) (4.2.0)\n",
      "Requirement already satisfied: MarkupSafe>=2.0.0rc2 in c:\\users\\ve797\\anaconda4\\lib\\site-packages (from jinja2>=2.11.1->pandas-profiling) (2.0.1)\n",
      "Requirement already satisfied: cycler>=0.10 in c:\\users\\ve797\\anaconda4\\lib\\site-packages (from matplotlib>=3.2.0->pandas-profiling) (0.10.0)\n",
      "Requirement already satisfied: pyparsing!=2.0.4,!=2.1.2,!=2.1.6,>=2.0.3 in c:\\users\\ve797\\anaconda4\\lib\\site-packages (from matplotlib>=3.2.0->pandas-profiling) (2.4.7)\n",
      "Requirement already satisfied: kiwisolver>=1.0.1 in c:\\users\\ve797\\anaconda4\\lib\\site-packages (from matplotlib>=3.2.0->pandas-profiling) (1.3.1)\n",
      "Requirement already satisfied: python-dateutil>=2.1 in c:\\users\\ve797\\anaconda4\\lib\\site-packages (from matplotlib>=3.2.0->pandas-profiling) (2.8.1)\n",
      "Requirement already satisfied: six in c:\\users\\ve797\\anaconda4\\lib\\site-packages (from cycler>=0.10->matplotlib>=3.2.0->pandas-profiling) (1.15.0)\n",
      "Requirement already satisfied: decorator>=4.3.0 in c:\\users\\ve797\\anaconda4\\lib\\site-packages (from networkx>=2.4->visions[type_image_path]==0.7.1->pandas-profiling) (5.0.9)\n",
      "Requirement already satisfied: pytz>=2017.3 in c:\\users\\ve797\\anaconda4\\lib\\site-packages (from pandas!=1.0.0,!=1.0.1,!=1.0.2,!=1.1.0,>=0.25.3->pandas-profiling) (2021.1)\n",
      "Requirement already satisfied: typing-extensions>=3.7.4.3 in c:\\users\\ve797\\anaconda4\\lib\\site-packages (from pydantic>=1.8.1->pandas-profiling) (3.7.4.3)\n",
      "Requirement already satisfied: chardet<5,>=3.0.2 in c:\\users\\ve797\\anaconda4\\lib\\site-packages (from requests>=2.24.0->pandas-profiling) (4.0.0)\n",
      "Requirement already satisfied: certifi>=2017.4.17 in c:\\users\\ve797\\anaconda4\\lib\\site-packages (from requests>=2.24.0->pandas-profiling) (2020.12.5)\n",
      "Requirement already satisfied: urllib3<1.27,>=1.21.1 in c:\\users\\ve797\\anaconda4\\lib\\site-packages (from requests>=2.24.0->pandas-profiling) (1.26.4)\n",
      "Requirement already satisfied: idna<3,>=2.5 in c:\\users\\ve797\\anaconda4\\lib\\site-packages (from requests>=2.24.0->pandas-profiling) (2.10)\n",
      "Requirement already satisfied: PyWavelets in c:\\users\\ve797\\anaconda4\\lib\\site-packages (from imagehash->visions[type_image_path]==0.7.1->pandas-profiling) (1.1.1)\n"
     ]
    }
   ],
   "source": [
    "# Installing Pandas Profiler for automated detailed Exploratory Data Analysis \n",
    "!pip install pandas-profiling --upgrade"
   ]
  },
  {
   "cell_type": "code",
   "execution_count": 10,
   "id": "f1a527ee",
   "metadata": {},
   "outputs": [],
   "source": [
    "# Generating detailed Exploratory Data Analysis report using Pandas Profiling (will take time)\n",
    "from pandas_profiling import ProfileReport"
   ]
  },
  {
   "cell_type": "code",
   "execution_count": 11,
   "id": "f87cb855",
   "metadata": {},
   "outputs": [],
   "source": [
    "# Generating the Profile report using Profile Report function\n",
    "df_eda_report = ProfileReport(df, minimal=True)"
   ]
  },
  {
   "cell_type": "code",
   "execution_count": 12,
   "id": "1042afd4",
   "metadata": {},
   "outputs": [
    {
     "data": {
      "application/vnd.jupyter.widget-view+json": {
       "model_id": "ccdc7ee96bf646799366520a58fadf51",
       "version_major": 2,
       "version_minor": 0
      },
      "text/plain": [
       "Summarize dataset:   0%|          | 0/31 [00:00<?, ?it/s]"
      ]
     },
     "metadata": {},
     "output_type": "display_data"
    },
    {
     "data": {
      "application/vnd.jupyter.widget-view+json": {
       "model_id": "e39e1b7ba7f54386b10a04ced0a4a6c3",
       "version_major": 2,
       "version_minor": 0
      },
      "text/plain": [
       "Generate report structure:   0%|          | 0/1 [00:00<?, ?it/s]"
      ]
     },
     "metadata": {},
     "output_type": "display_data"
    },
    {
     "data": {
      "application/vnd.jupyter.widget-view+json": {
       "model_id": "3bf22540a86a4669acdb14b7c0daeddd",
       "version_major": 2,
       "version_minor": 0
      },
      "text/plain": [
       "Render HTML:   0%|          | 0/1 [00:00<?, ?it/s]"
      ]
     },
     "metadata": {},
     "output_type": "display_data"
    },
    {
     "data": {
      "application/vnd.jupyter.widget-view+json": {
       "model_id": "c8ea0457879e4bf996aa61e94be7d48d",
       "version_major": 2,
       "version_minor": 0
      },
      "text/plain": [
       "Export report to file:   0%|          | 0/1 [00:00<?, ?it/s]"
      ]
     },
     "metadata": {},
     "output_type": "display_data"
    }
   ],
   "source": [
    " # Converting the profile report to a html file\n",
    "df_eda_report.to_file(\"df_eda_report.html\")"
   ]
  },
  {
   "cell_type": "code",
   "execution_count": 13,
   "id": "a33a3f82",
   "metadata": {},
   "outputs": [],
   "source": [
    "# Qualitiative Cleaning \n",
    "df1 = df # making a copy and retaining original dataset as df"
   ]
  },
  {
   "cell_type": "code",
   "execution_count": 14,
   "id": "151d8b64",
   "metadata": {},
   "outputs": [
    {
     "data": {
      "text/plain": [
       "Index(['ID', 'ZIPCODE', 'AGE', 'MARITAL_STATUS', 'GENDER', 'MEMBERSHIP_IND',\n",
       "       'ALUMNUS_IND', 'PARENT_IND', 'HAS_INVOLVEMENT_IND', 'WEALTH_RATING',\n",
       "       'DEGREE_LEVEL', 'PREF_ADDRESS_TYPE', 'EMAIL_PRESENT_IND', 'Donor_years',\n",
       "       'PrevFYGiving', 'PrevFY1Giving', 'PrevFY2Giving', 'PrevFY3Giving',\n",
       "       'PrevFY4Giving', 'CurrFYGiving', 'TotalGiving', 'BIRTH_DATE',\n",
       "       'DONOR_IND'],\n",
       "      dtype='object')"
      ]
     },
     "execution_count": 14,
     "metadata": {},
     "output_type": "execute_result"
    }
   ],
   "source": [
    "# Setting the dataframe to contain only valid columns\n",
    "# no noise variables, so df1 = df\n",
    "df1.columns"
   ]
  },
  {
   "cell_type": "code",
   "execution_count": 15,
   "id": "d933e396",
   "metadata": {},
   "outputs": [],
   "source": [
    "# Changing heading to lowercase\n",
    "df1.columns = [col.strip().replace(' ', '_').lower() for col in df1.columns]\n",
    "df1.columns = [col.strip().replace('-', '_').lower() for col in df1.columns]"
   ]
  },
  {
   "cell_type": "code",
   "execution_count": 16,
   "id": "4666b5aa",
   "metadata": {},
   "outputs": [
    {
     "data": {
      "text/html": [
       "<div>\n",
       "<style scoped>\n",
       "    .dataframe tbody tr th:only-of-type {\n",
       "        vertical-align: middle;\n",
       "    }\n",
       "\n",
       "    .dataframe tbody tr th {\n",
       "        vertical-align: top;\n",
       "    }\n",
       "\n",
       "    .dataframe thead th {\n",
       "        text-align: right;\n",
       "    }\n",
       "</style>\n",
       "<table border=\"1\" class=\"dataframe\">\n",
       "  <thead>\n",
       "    <tr style=\"text-align: right;\">\n",
       "      <th></th>\n",
       "      <th>id</th>\n",
       "      <th>zipcode</th>\n",
       "      <th>age</th>\n",
       "      <th>marital_status</th>\n",
       "      <th>gender</th>\n",
       "      <th>membership_ind</th>\n",
       "      <th>alumnus_ind</th>\n",
       "      <th>parent_ind</th>\n",
       "      <th>has_involvement_ind</th>\n",
       "      <th>wealth_rating</th>\n",
       "      <th>...</th>\n",
       "      <th>donor_years</th>\n",
       "      <th>prevfygiving</th>\n",
       "      <th>prevfy1giving</th>\n",
       "      <th>prevfy2giving</th>\n",
       "      <th>prevfy3giving</th>\n",
       "      <th>prevfy4giving</th>\n",
       "      <th>currfygiving</th>\n",
       "      <th>totalgiving</th>\n",
       "      <th>birth_date</th>\n",
       "      <th>donor_ind</th>\n",
       "    </tr>\n",
       "  </thead>\n",
       "  <tbody>\n",
       "    <tr>\n",
       "      <th>0</th>\n",
       "      <td>1</td>\n",
       "      <td>23187.0</td>\n",
       "      <td>42</td>\n",
       "      <td>Married</td>\n",
       "      <td>Female</td>\n",
       "      <td>N</td>\n",
       "      <td>N</td>\n",
       "      <td>N</td>\n",
       "      <td>N</td>\n",
       "      <td>NaN</td>\n",
       "      <td>...</td>\n",
       "      <td>1</td>\n",
       "      <td>$0</td>\n",
       "      <td>$0</td>\n",
       "      <td>$0</td>\n",
       "      <td>$0</td>\n",
       "      <td>$0</td>\n",
       "      <td>$0</td>\n",
       "      <td>10.0</td>\n",
       "      <td>NaN</td>\n",
       "      <td>Y</td>\n",
       "    </tr>\n",
       "    <tr>\n",
       "      <th>1</th>\n",
       "      <td>2</td>\n",
       "      <td>77643.0</td>\n",
       "      <td>33</td>\n",
       "      <td>NaN</td>\n",
       "      <td>Female</td>\n",
       "      <td>N</td>\n",
       "      <td>Y</td>\n",
       "      <td>N</td>\n",
       "      <td>Y</td>\n",
       "      <td>NaN</td>\n",
       "      <td>...</td>\n",
       "      <td>0</td>\n",
       "      <td>$0</td>\n",
       "      <td>$0</td>\n",
       "      <td>$0</td>\n",
       "      <td>$0</td>\n",
       "      <td>$0</td>\n",
       "      <td>$0</td>\n",
       "      <td>2100.0</td>\n",
       "      <td>6/16/1985</td>\n",
       "      <td>Y</td>\n",
       "    </tr>\n",
       "    <tr>\n",
       "      <th>2</th>\n",
       "      <td>3</td>\n",
       "      <td>NaN</td>\n",
       "      <td>42</td>\n",
       "      <td>Married</td>\n",
       "      <td>Female</td>\n",
       "      <td>N</td>\n",
       "      <td>N</td>\n",
       "      <td>N</td>\n",
       "      <td>N</td>\n",
       "      <td>NaN</td>\n",
       "      <td>...</td>\n",
       "      <td>1</td>\n",
       "      <td>$0</td>\n",
       "      <td>$0</td>\n",
       "      <td>$0</td>\n",
       "      <td>$0</td>\n",
       "      <td>$0</td>\n",
       "      <td>$200</td>\n",
       "      <td>200.0</td>\n",
       "      <td>NaN</td>\n",
       "      <td>Y</td>\n",
       "    </tr>\n",
       "    <tr>\n",
       "      <th>3</th>\n",
       "      <td>4</td>\n",
       "      <td>47141.0</td>\n",
       "      <td>31</td>\n",
       "      <td>NaN</td>\n",
       "      <td>Female</td>\n",
       "      <td>N</td>\n",
       "      <td>Y</td>\n",
       "      <td>N</td>\n",
       "      <td>Y</td>\n",
       "      <td>NaN</td>\n",
       "      <td>...</td>\n",
       "      <td>0</td>\n",
       "      <td>$0</td>\n",
       "      <td>$0</td>\n",
       "      <td>$0</td>\n",
       "      <td>$0</td>\n",
       "      <td>$0</td>\n",
       "      <td>$0</td>\n",
       "      <td>0.0</td>\n",
       "      <td>12/3/1987</td>\n",
       "      <td>N</td>\n",
       "    </tr>\n",
       "    <tr>\n",
       "      <th>4</th>\n",
       "      <td>5</td>\n",
       "      <td>92555.0</td>\n",
       "      <td>68</td>\n",
       "      <td>NaN</td>\n",
       "      <td>Female</td>\n",
       "      <td>N</td>\n",
       "      <td>N</td>\n",
       "      <td>N</td>\n",
       "      <td>N</td>\n",
       "      <td>NaN</td>\n",
       "      <td>...</td>\n",
       "      <td>0</td>\n",
       "      <td>$0</td>\n",
       "      <td>$0</td>\n",
       "      <td>$0</td>\n",
       "      <td>$0</td>\n",
       "      <td>$0</td>\n",
       "      <td>$0</td>\n",
       "      <td>505.0</td>\n",
       "      <td>9/11/1950</td>\n",
       "      <td>Y</td>\n",
       "    </tr>\n",
       "    <tr>\n",
       "      <th>...</th>\n",
       "      <td>...</td>\n",
       "      <td>...</td>\n",
       "      <td>...</td>\n",
       "      <td>...</td>\n",
       "      <td>...</td>\n",
       "      <td>...</td>\n",
       "      <td>...</td>\n",
       "      <td>...</td>\n",
       "      <td>...</td>\n",
       "      <td>...</td>\n",
       "      <td>...</td>\n",
       "      <td>...</td>\n",
       "      <td>...</td>\n",
       "      <td>...</td>\n",
       "      <td>...</td>\n",
       "      <td>...</td>\n",
       "      <td>...</td>\n",
       "      <td>...</td>\n",
       "      <td>...</td>\n",
       "      <td>...</td>\n",
       "      <td>...</td>\n",
       "    </tr>\n",
       "    <tr>\n",
       "      <th>34503</th>\n",
       "      <td>34504</td>\n",
       "      <td>7848.0</td>\n",
       "      <td>42</td>\n",
       "      <td>NaN</td>\n",
       "      <td>Female</td>\n",
       "      <td>N</td>\n",
       "      <td>N</td>\n",
       "      <td>N</td>\n",
       "      <td>N</td>\n",
       "      <td>NaN</td>\n",
       "      <td>...</td>\n",
       "      <td>0</td>\n",
       "      <td>$0</td>\n",
       "      <td>$0</td>\n",
       "      <td>$0</td>\n",
       "      <td>$0</td>\n",
       "      <td>$0</td>\n",
       "      <td>$0</td>\n",
       "      <td>0.0</td>\n",
       "      <td>NaN</td>\n",
       "      <td>N</td>\n",
       "    </tr>\n",
       "    <tr>\n",
       "      <th>34504</th>\n",
       "      <td>34505</td>\n",
       "      <td>28275.0</td>\n",
       "      <td>24</td>\n",
       "      <td>NaN</td>\n",
       "      <td>Male</td>\n",
       "      <td>N</td>\n",
       "      <td>N</td>\n",
       "      <td>N</td>\n",
       "      <td>N</td>\n",
       "      <td>$250,000-$499,999</td>\n",
       "      <td>...</td>\n",
       "      <td>0</td>\n",
       "      <td>$0</td>\n",
       "      <td>$0</td>\n",
       "      <td>$0</td>\n",
       "      <td>$0</td>\n",
       "      <td>$0</td>\n",
       "      <td>$0</td>\n",
       "      <td>80.0</td>\n",
       "      <td>9/23/1994</td>\n",
       "      <td>Y</td>\n",
       "    </tr>\n",
       "    <tr>\n",
       "      <th>34505</th>\n",
       "      <td>34506</td>\n",
       "      <td>42539.0</td>\n",
       "      <td>27</td>\n",
       "      <td>NaN</td>\n",
       "      <td>Female</td>\n",
       "      <td>N</td>\n",
       "      <td>Y</td>\n",
       "      <td>N</td>\n",
       "      <td>Y</td>\n",
       "      <td>NaN</td>\n",
       "      <td>...</td>\n",
       "      <td>0</td>\n",
       "      <td>$0</td>\n",
       "      <td>$0</td>\n",
       "      <td>$0</td>\n",
       "      <td>$0</td>\n",
       "      <td>$0</td>\n",
       "      <td>$0</td>\n",
       "      <td>0.0</td>\n",
       "      <td>1/3/1991</td>\n",
       "      <td>N</td>\n",
       "    </tr>\n",
       "    <tr>\n",
       "      <th>34506</th>\n",
       "      <td>34507</td>\n",
       "      <td>32733.0</td>\n",
       "      <td>46</td>\n",
       "      <td>Married</td>\n",
       "      <td>Female</td>\n",
       "      <td>N</td>\n",
       "      <td>N</td>\n",
       "      <td>N</td>\n",
       "      <td>Y</td>\n",
       "      <td>NaN</td>\n",
       "      <td>...</td>\n",
       "      <td>1</td>\n",
       "      <td>$0</td>\n",
       "      <td>$0</td>\n",
       "      <td>$0</td>\n",
       "      <td>$120</td>\n",
       "      <td>$0</td>\n",
       "      <td>$0</td>\n",
       "      <td>120.0</td>\n",
       "      <td>5/11/1972</td>\n",
       "      <td>Y</td>\n",
       "    </tr>\n",
       "    <tr>\n",
       "      <th>34507</th>\n",
       "      <td>34508</td>\n",
       "      <td>10015.0</td>\n",
       "      <td>58</td>\n",
       "      <td>Married</td>\n",
       "      <td>Female</td>\n",
       "      <td>N</td>\n",
       "      <td>Y</td>\n",
       "      <td>N</td>\n",
       "      <td>Y</td>\n",
       "      <td>NaN</td>\n",
       "      <td>...</td>\n",
       "      <td>1</td>\n",
       "      <td>$0</td>\n",
       "      <td>$0</td>\n",
       "      <td>$0</td>\n",
       "      <td>$0</td>\n",
       "      <td>$0</td>\n",
       "      <td>$0</td>\n",
       "      <td>0.0</td>\n",
       "      <td>3/23/1960</td>\n",
       "      <td>N</td>\n",
       "    </tr>\n",
       "  </tbody>\n",
       "</table>\n",
       "<p>34508 rows × 23 columns</p>\n",
       "</div>"
      ],
      "text/plain": [
       "          id  zipcode  age marital_status  gender membership_ind alumnus_ind  \\\n",
       "0          1  23187.0   42        Married  Female              N           N   \n",
       "1          2  77643.0   33            NaN  Female              N           Y   \n",
       "2          3      NaN   42        Married  Female              N           N   \n",
       "3          4  47141.0   31            NaN  Female              N           Y   \n",
       "4          5  92555.0   68            NaN  Female              N           N   \n",
       "...      ...      ...  ...            ...     ...            ...         ...   \n",
       "34503  34504   7848.0   42            NaN  Female              N           N   \n",
       "34504  34505  28275.0   24            NaN    Male              N           N   \n",
       "34505  34506  42539.0   27            NaN  Female              N           Y   \n",
       "34506  34507  32733.0   46        Married  Female              N           N   \n",
       "34507  34508  10015.0   58        Married  Female              N           Y   \n",
       "\n",
       "      parent_ind has_involvement_ind      wealth_rating  ... donor_years  \\\n",
       "0              N                   N                NaN  ...           1   \n",
       "1              N                   Y                NaN  ...           0   \n",
       "2              N                   N                NaN  ...           1   \n",
       "3              N                   Y                NaN  ...           0   \n",
       "4              N                   N                NaN  ...           0   \n",
       "...          ...                 ...                ...  ...         ...   \n",
       "34503          N                   N                NaN  ...           0   \n",
       "34504          N                   N  $250,000-$499,999  ...           0   \n",
       "34505          N                   Y                NaN  ...           0   \n",
       "34506          N                   Y                NaN  ...           1   \n",
       "34507          N                   Y                NaN  ...           1   \n",
       "\n",
       "      prevfygiving prevfy1giving  prevfy2giving prevfy3giving prevfy4giving  \\\n",
       "0              $0            $0             $0            $0            $0    \n",
       "1              $0            $0             $0            $0            $0    \n",
       "2              $0            $0             $0            $0            $0    \n",
       "3              $0            $0             $0            $0            $0    \n",
       "4              $0            $0             $0            $0            $0    \n",
       "...            ...           ...            ...           ...           ...   \n",
       "34503          $0            $0             $0            $0            $0    \n",
       "34504          $0            $0             $0            $0            $0    \n",
       "34505          $0            $0             $0            $0            $0    \n",
       "34506          $0            $0             $0          $120            $0    \n",
       "34507          $0            $0             $0            $0            $0    \n",
       "\n",
       "      currfygiving totalgiving birth_date donor_ind  \n",
       "0              $0         10.0        NaN         Y  \n",
       "1              $0       2100.0  6/16/1985         Y  \n",
       "2            $200        200.0        NaN         Y  \n",
       "3              $0          0.0  12/3/1987         N  \n",
       "4              $0        505.0  9/11/1950         Y  \n",
       "...            ...         ...        ...       ...  \n",
       "34503          $0          0.0        NaN         N  \n",
       "34504          $0         80.0  9/23/1994         Y  \n",
       "34505          $0          0.0   1/3/1991         N  \n",
       "34506          $0        120.0  5/11/1972         Y  \n",
       "34507          $0          0.0  3/23/1960         N  \n",
       "\n",
       "[34508 rows x 23 columns]"
      ]
     },
     "execution_count": 16,
     "metadata": {},
     "output_type": "execute_result"
    }
   ],
   "source": [
    "df1"
   ]
  },
  {
   "cell_type": "code",
   "execution_count": 17,
   "id": "ac0aefde",
   "metadata": {},
   "outputs": [
    {
     "data": {
      "text/plain": [
       "0        0\n",
       "1        0\n",
       "2        0\n",
       "3        0\n",
       "4        0\n",
       "        ..\n",
       "34503    0\n",
       "34504    0\n",
       "34505    0\n",
       "34506    0\n",
       "34507    0\n",
       "Name: prevfygiving, Length: 34508, dtype: int64"
      ]
     },
     "execution_count": 17,
     "metadata": {},
     "output_type": "execute_result"
    }
   ],
   "source": [
    "# Taking out the dollar($) sign in the columns\n",
    "df1['prevfygiving'] =  df1['prevfygiving'].str.replace('$', '').str.replace(',','')\n",
    "df1['prevfygiving'] = pd.to_numeric(df1['prevfygiving'])\n",
    "df1['prevfygiving']"
   ]
  },
  {
   "cell_type": "code",
   "execution_count": 18,
   "id": "7551047f",
   "metadata": {},
   "outputs": [
    {
     "data": {
      "text/plain": [
       "0        0\n",
       "1        0\n",
       "2        0\n",
       "3        0\n",
       "4        0\n",
       "        ..\n",
       "34503    0\n",
       "34504    0\n",
       "34505    0\n",
       "34506    0\n",
       "34507    0\n",
       "Name: prevfy1giving, Length: 34508, dtype: int64"
      ]
     },
     "execution_count": 18,
     "metadata": {},
     "output_type": "execute_result"
    }
   ],
   "source": [
    "df1['prevfy1giving'] =  df1['prevfy1giving'].str.replace('$', '').str.replace(',','')\n",
    "df1['prevfy1giving'] = pd.to_numeric(df1['prevfy1giving'])\n",
    "df1['prevfy1giving']"
   ]
  },
  {
   "cell_type": "code",
   "execution_count": 19,
   "id": "936d5078",
   "metadata": {},
   "outputs": [
    {
     "data": {
      "text/plain": [
       "0        0\n",
       "1        0\n",
       "2        0\n",
       "3        0\n",
       "4        0\n",
       "        ..\n",
       "34503    0\n",
       "34504    0\n",
       "34505    0\n",
       "34506    0\n",
       "34507    0\n",
       "Name: prevfy2giving, Length: 34508, dtype: int64"
      ]
     },
     "execution_count": 19,
     "metadata": {},
     "output_type": "execute_result"
    }
   ],
   "source": [
    "df1['prevfy2giving'] =  df1['prevfy2giving'].str.replace('$', '').str.replace(',','')\n",
    "df1['prevfy2giving'] = pd.to_numeric(df1['prevfy2giving'])\n",
    "df1['prevfy2giving']"
   ]
  },
  {
   "cell_type": "code",
   "execution_count": 20,
   "id": "659f09a2",
   "metadata": {},
   "outputs": [],
   "source": [
    "df1['prevfy3giving'] =  df1['prevfy3giving'].str.replace('$', '').str.replace(',','')\n",
    "df1['prevfy3giving'] = pd.to_numeric(df1['prevfy3giving'])"
   ]
  },
  {
   "cell_type": "code",
   "execution_count": 21,
   "id": "f6bce268",
   "metadata": {},
   "outputs": [],
   "source": [
    "df1['prevfy4giving'] =  df1['prevfy4giving'].str.replace('$', '').str.replace(',','')\n",
    "df1['prevfy4giving'] = pd.to_numeric(df1['prevfy4giving'])"
   ]
  },
  {
   "cell_type": "code",
   "execution_count": 22,
   "id": "b898b985",
   "metadata": {},
   "outputs": [],
   "source": [
    "df1['currfygiving'] =  df1['currfygiving'].str.replace('$', '').str.replace(',','')\n",
    "df1['currfygiving'] = pd.to_numeric(df1['currfygiving'])"
   ]
  },
  {
   "cell_type": "code",
   "execution_count": 23,
   "id": "501fd0fc",
   "metadata": {},
   "outputs": [
    {
     "data": {
      "text/plain": [
       "id                         0\n",
       "zipcode                   91\n",
       "age                        0\n",
       "marital_status         24568\n",
       "gender                   493\n",
       "membership_ind             0\n",
       "alumnus_ind                0\n",
       "parent_ind                 0\n",
       "has_involvement_ind        0\n",
       "wealth_rating          31799\n",
       "degree_level           26902\n",
       "pref_address_type       4043\n",
       "email_present_ind          0\n",
       "donor_years                0\n",
       "prevfygiving               0\n",
       "prevfy1giving              0\n",
       "prevfy2giving              0\n",
       "prevfy3giving              0\n",
       "prevfy4giving              0\n",
       "currfygiving               0\n",
       "totalgiving                0\n",
       "birth_date             21190\n",
       "donor_ind                  0\n",
       "dtype: int64"
      ]
     },
     "execution_count": 23,
     "metadata": {},
     "output_type": "execute_result"
    }
   ],
   "source": [
    "# Quantitative Cleaning\n",
    "df1.isnull().sum()"
   ]
  },
  {
   "cell_type": "code",
   "execution_count": 24,
   "id": "dfef952e",
   "metadata": {},
   "outputs": [
    {
     "data": {
      "text/html": [
       "<div>\n",
       "<style scoped>\n",
       "    .dataframe tbody tr th:only-of-type {\n",
       "        vertical-align: middle;\n",
       "    }\n",
       "\n",
       "    .dataframe tbody tr th {\n",
       "        vertical-align: top;\n",
       "    }\n",
       "\n",
       "    .dataframe thead th {\n",
       "        text-align: right;\n",
       "    }\n",
       "</style>\n",
       "<table border=\"1\" class=\"dataframe\">\n",
       "  <thead>\n",
       "    <tr style=\"text-align: right;\">\n",
       "      <th></th>\n",
       "      <th>Number of missing values</th>\n",
       "      <th>Percentage of missing values</th>\n",
       "    </tr>\n",
       "  </thead>\n",
       "  <tbody>\n",
       "    <tr>\n",
       "      <th>wealth_rating</th>\n",
       "      <td>31799</td>\n",
       "      <td>92.149646</td>\n",
       "    </tr>\n",
       "    <tr>\n",
       "      <th>degree_level</th>\n",
       "      <td>26902</td>\n",
       "      <td>77.958734</td>\n",
       "    </tr>\n",
       "    <tr>\n",
       "      <th>marital_status</th>\n",
       "      <td>24568</td>\n",
       "      <td>71.195085</td>\n",
       "    </tr>\n",
       "    <tr>\n",
       "      <th>birth_date</th>\n",
       "      <td>21190</td>\n",
       "      <td>61.406051</td>\n",
       "    </tr>\n",
       "    <tr>\n",
       "      <th>pref_address_type</th>\n",
       "      <td>4043</td>\n",
       "      <td>11.716124</td>\n",
       "    </tr>\n",
       "    <tr>\n",
       "      <th>gender</th>\n",
       "      <td>493</td>\n",
       "      <td>1.428654</td>\n",
       "    </tr>\n",
       "    <tr>\n",
       "      <th>zipcode</th>\n",
       "      <td>91</td>\n",
       "      <td>0.263707</td>\n",
       "    </tr>\n",
       "    <tr>\n",
       "      <th>prevfygiving</th>\n",
       "      <td>0</td>\n",
       "      <td>0.000000</td>\n",
       "    </tr>\n",
       "    <tr>\n",
       "      <th>totalgiving</th>\n",
       "      <td>0</td>\n",
       "      <td>0.000000</td>\n",
       "    </tr>\n",
       "    <tr>\n",
       "      <th>currfygiving</th>\n",
       "      <td>0</td>\n",
       "      <td>0.000000</td>\n",
       "    </tr>\n",
       "    <tr>\n",
       "      <th>prevfy4giving</th>\n",
       "      <td>0</td>\n",
       "      <td>0.000000</td>\n",
       "    </tr>\n",
       "    <tr>\n",
       "      <th>prevfy3giving</th>\n",
       "      <td>0</td>\n",
       "      <td>0.000000</td>\n",
       "    </tr>\n",
       "    <tr>\n",
       "      <th>prevfy2giving</th>\n",
       "      <td>0</td>\n",
       "      <td>0.000000</td>\n",
       "    </tr>\n",
       "    <tr>\n",
       "      <th>prevfy1giving</th>\n",
       "      <td>0</td>\n",
       "      <td>0.000000</td>\n",
       "    </tr>\n",
       "    <tr>\n",
       "      <th>id</th>\n",
       "      <td>0</td>\n",
       "      <td>0.000000</td>\n",
       "    </tr>\n",
       "    <tr>\n",
       "      <th>donor_years</th>\n",
       "      <td>0</td>\n",
       "      <td>0.000000</td>\n",
       "    </tr>\n",
       "    <tr>\n",
       "      <th>email_present_ind</th>\n",
       "      <td>0</td>\n",
       "      <td>0.000000</td>\n",
       "    </tr>\n",
       "    <tr>\n",
       "      <th>has_involvement_ind</th>\n",
       "      <td>0</td>\n",
       "      <td>0.000000</td>\n",
       "    </tr>\n",
       "    <tr>\n",
       "      <th>parent_ind</th>\n",
       "      <td>0</td>\n",
       "      <td>0.000000</td>\n",
       "    </tr>\n",
       "    <tr>\n",
       "      <th>alumnus_ind</th>\n",
       "      <td>0</td>\n",
       "      <td>0.000000</td>\n",
       "    </tr>\n",
       "    <tr>\n",
       "      <th>membership_ind</th>\n",
       "      <td>0</td>\n",
       "      <td>0.000000</td>\n",
       "    </tr>\n",
       "    <tr>\n",
       "      <th>age</th>\n",
       "      <td>0</td>\n",
       "      <td>0.000000</td>\n",
       "    </tr>\n",
       "    <tr>\n",
       "      <th>donor_ind</th>\n",
       "      <td>0</td>\n",
       "      <td>0.000000</td>\n",
       "    </tr>\n",
       "  </tbody>\n",
       "</table>\n",
       "</div>"
      ],
      "text/plain": [
       "                     Number of missing values  Percentage of missing values\n",
       "wealth_rating                           31799                     92.149646\n",
       "degree_level                            26902                     77.958734\n",
       "marital_status                          24568                     71.195085\n",
       "birth_date                              21190                     61.406051\n",
       "pref_address_type                        4043                     11.716124\n",
       "gender                                    493                      1.428654\n",
       "zipcode                                    91                      0.263707\n",
       "prevfygiving                                0                      0.000000\n",
       "totalgiving                                 0                      0.000000\n",
       "currfygiving                                0                      0.000000\n",
       "prevfy4giving                               0                      0.000000\n",
       "prevfy3giving                               0                      0.000000\n",
       "prevfy2giving                               0                      0.000000\n",
       "prevfy1giving                               0                      0.000000\n",
       "id                                          0                      0.000000\n",
       "donor_years                                 0                      0.000000\n",
       "email_present_ind                           0                      0.000000\n",
       "has_involvement_ind                         0                      0.000000\n",
       "parent_ind                                  0                      0.000000\n",
       "alumnus_ind                                 0                      0.000000\n",
       "membership_ind                              0                      0.000000\n",
       "age                                         0                      0.000000\n",
       "donor_ind                                   0                      0.000000"
      ]
     },
     "execution_count": 24,
     "metadata": {},
     "output_type": "execute_result"
    }
   ],
   "source": [
    "# Missing Values and percentage of missing Values\n",
    "x=df1.isnull().sum()\n",
    "y=(df1.isnull().sum()/df1.shape[0])*100\n",
    "z={'Number of missing values':x,'Percentage of missing values':y}\n",
    "df=pd.DataFrame(z,columns=['Number of missing values','Percentage of missing values'])\n",
    "df.sort_values(by='Percentage of missing values',ascending=False)"
   ]
  },
  {
   "cell_type": "code",
   "execution_count": 25,
   "id": "68641ac2",
   "metadata": {},
   "outputs": [],
   "source": [
    "# removing the four columns having 92% to 61% of missing values in the dataset and id & zipcode is not useful to us\n",
    "df1 = df1.drop(['wealth_rating', 'id', 'degree_level', 'marital_status', 'birth_date', 'zipcode'], axis = 1)"
   ]
  },
  {
   "cell_type": "code",
   "execution_count": 26,
   "id": "63ffbaff",
   "metadata": {},
   "outputs": [
    {
     "data": {
      "text/plain": [
       "age                       0\n",
       "gender                  493\n",
       "membership_ind            0\n",
       "alumnus_ind               0\n",
       "parent_ind                0\n",
       "has_involvement_ind       0\n",
       "pref_address_type      4043\n",
       "email_present_ind         0\n",
       "donor_years               0\n",
       "prevfygiving              0\n",
       "prevfy1giving             0\n",
       "prevfy2giving             0\n",
       "prevfy3giving             0\n",
       "prevfy4giving             0\n",
       "currfygiving              0\n",
       "totalgiving               0\n",
       "donor_ind                 0\n",
       "dtype: int64"
      ]
     },
     "execution_count": 26,
     "metadata": {},
     "output_type": "execute_result"
    }
   ],
   "source": [
    "# Checking if the operation cleaned the null values\n",
    "df1.isnull().sum()"
   ]
  },
  {
   "cell_type": "markdown",
   "id": "cf340701",
   "metadata": {},
   "source": [
    "# missing values"
   ]
  },
  {
   "cell_type": "markdown",
   "id": "33791c28",
   "metadata": {},
   "source": [
    "# Age"
   ]
  },
  {
   "cell_type": "code",
   "execution_count": 27,
   "id": "cd01a024",
   "metadata": {},
   "outputs": [
    {
     "data": {
      "text/plain": [
       "42     21472\n",
       "32       384\n",
       "30       368\n",
       "31       351\n",
       "27       337\n",
       "       ...  \n",
       "100        2\n",
       "99         2\n",
       "103        1\n",
       "101        1\n",
       "1          1\n",
       "Name: age, Length: 102, dtype: int64"
      ]
     },
     "execution_count": 27,
     "metadata": {},
     "output_type": "execute_result"
    }
   ],
   "source": [
    "df1['age'].value_counts()"
   ]
  },
  {
   "cell_type": "code",
   "execution_count": 28,
   "id": "249ebb72",
   "metadata": {},
   "outputs": [
    {
     "data": {
      "text/plain": [
       "0"
      ]
     },
     "execution_count": 28,
     "metadata": {},
     "output_type": "execute_result"
    }
   ],
   "source": [
    "df1['age'].isnull().sum()"
   ]
  },
  {
   "cell_type": "markdown",
   "id": "6ceec2de",
   "metadata": {},
   "source": [
    "# Gender"
   ]
  },
  {
   "cell_type": "code",
   "execution_count": 29,
   "id": "4b729251",
   "metadata": {},
   "outputs": [],
   "source": [
    "# To replace missing gender columns with Mode\n",
    "for column in ['gender']:\n",
    "  df1[column].fillna(df1[column].mode()[0], inplace=True)"
   ]
  },
  {
   "cell_type": "markdown",
   "id": "d800d100",
   "metadata": {},
   "source": [
    "# membership_ind"
   ]
  },
  {
   "cell_type": "code",
   "execution_count": 30,
   "id": "b1fb0453",
   "metadata": {},
   "outputs": [
    {
     "data": {
      "text/plain": [
       "N    34508\n",
       "Name: membership_ind, dtype: int64"
      ]
     },
     "execution_count": 30,
     "metadata": {},
     "output_type": "execute_result"
    }
   ],
   "source": [
    "df1['membership_ind'].value_counts()"
   ]
  },
  {
   "cell_type": "code",
   "execution_count": 31,
   "id": "81b02bac",
   "metadata": {},
   "outputs": [
    {
     "data": {
      "text/plain": [
       "0"
      ]
     },
     "execution_count": 31,
     "metadata": {},
     "output_type": "execute_result"
    }
   ],
   "source": [
    "df1['membership_ind'].isnull().sum()"
   ]
  },
  {
   "cell_type": "markdown",
   "id": "013f0e5c",
   "metadata": {},
   "source": [
    "# alumnus_ind "
   ]
  },
  {
   "cell_type": "code",
   "execution_count": 32,
   "id": "f0ebeb84",
   "metadata": {},
   "outputs": [
    {
     "data": {
      "text/plain": [
       "N    26086\n",
       "Y     8422\n",
       "Name: alumnus_ind, dtype: int64"
      ]
     },
     "execution_count": 32,
     "metadata": {},
     "output_type": "execute_result"
    }
   ],
   "source": [
    "df1['alumnus_ind'].value_counts()"
   ]
  },
  {
   "cell_type": "code",
   "execution_count": 33,
   "id": "3b79b0c4",
   "metadata": {},
   "outputs": [
    {
     "data": {
      "text/plain": [
       "0"
      ]
     },
     "execution_count": 33,
     "metadata": {},
     "output_type": "execute_result"
    }
   ],
   "source": [
    "df1['alumnus_ind'].isnull().sum()"
   ]
  },
  {
   "cell_type": "markdown",
   "id": "864848c8",
   "metadata": {},
   "source": [
    "# parent_ind "
   ]
  },
  {
   "cell_type": "code",
   "execution_count": 34,
   "id": "f810a396",
   "metadata": {},
   "outputs": [
    {
     "data": {
      "text/plain": [
       "N    31807\n",
       "Y     2701\n",
       "Name: parent_ind, dtype: int64"
      ]
     },
     "execution_count": 34,
     "metadata": {},
     "output_type": "execute_result"
    }
   ],
   "source": [
    "df1['parent_ind'].value_counts()"
   ]
  },
  {
   "cell_type": "code",
   "execution_count": 35,
   "id": "60c0291c",
   "metadata": {},
   "outputs": [
    {
     "data": {
      "text/plain": [
       "0"
      ]
     },
     "execution_count": 35,
     "metadata": {},
     "output_type": "execute_result"
    }
   ],
   "source": [
    "df1['parent_ind'].isnull().sum()"
   ]
  },
  {
   "cell_type": "markdown",
   "id": "ade5e62d",
   "metadata": {},
   "source": [
    "# has_involvement_ind"
   ]
  },
  {
   "cell_type": "code",
   "execution_count": 36,
   "id": "3343b3b8",
   "metadata": {},
   "outputs": [
    {
     "data": {
      "text/plain": [
       "N    26533\n",
       "Y     7975\n",
       "Name: has_involvement_ind, dtype: int64"
      ]
     },
     "execution_count": 36,
     "metadata": {},
     "output_type": "execute_result"
    }
   ],
   "source": [
    "df1['has_involvement_ind'].value_counts()"
   ]
  },
  {
   "cell_type": "code",
   "execution_count": 37,
   "id": "1dc85149",
   "metadata": {},
   "outputs": [
    {
     "data": {
      "text/plain": [
       "0"
      ]
     },
     "execution_count": 37,
     "metadata": {},
     "output_type": "execute_result"
    }
   ],
   "source": [
    "df1['has_involvement_ind'].isnull().sum()"
   ]
  },
  {
   "cell_type": "markdown",
   "id": "56952be4",
   "metadata": {},
   "source": [
    "# pref_address_type"
   ]
  },
  {
   "cell_type": "code",
   "execution_count": 38,
   "id": "62e43c53",
   "metadata": {},
   "outputs": [],
   "source": [
    "# To replace missing prefered address columns with Mode\n",
    "for column in ['pref_address_type']:\n",
    "  df1[column].fillna(df1[column].mode()[0], inplace=True)"
   ]
  },
  {
   "cell_type": "code",
   "execution_count": 39,
   "id": "086d895c",
   "metadata": {},
   "outputs": [
    {
     "data": {
      "text/plain": [
       "0"
      ]
     },
     "execution_count": 39,
     "metadata": {},
     "output_type": "execute_result"
    }
   ],
   "source": [
    "df1['pref_address_type'].isnull().sum()"
   ]
  },
  {
   "cell_type": "markdown",
   "id": "27e491f7",
   "metadata": {},
   "source": [
    "# email_present_ind "
   ]
  },
  {
   "cell_type": "code",
   "execution_count": 40,
   "id": "c60b016f",
   "metadata": {},
   "outputs": [
    {
     "data": {
      "text/plain": [
       "N    23221\n",
       "Y    11287\n",
       "Name: email_present_ind, dtype: int64"
      ]
     },
     "execution_count": 40,
     "metadata": {},
     "output_type": "execute_result"
    }
   ],
   "source": [
    "df1['email_present_ind'].value_counts()"
   ]
  },
  {
   "cell_type": "code",
   "execution_count": 41,
   "id": "b569fc30",
   "metadata": {},
   "outputs": [
    {
     "data": {
      "text/plain": [
       "0"
      ]
     },
     "execution_count": 41,
     "metadata": {},
     "output_type": "execute_result"
    }
   ],
   "source": [
    "df1['email_present_ind'].isnull().sum()"
   ]
  },
  {
   "cell_type": "markdown",
   "id": "00a027f0",
   "metadata": {},
   "source": [
    "# prevfygiving "
   ]
  },
  {
   "cell_type": "code",
   "execution_count": 42,
   "id": "13a9e74a",
   "metadata": {},
   "outputs": [
    {
     "data": {
      "text/plain": [
       "0       32139\n",
       "1         494\n",
       "100       192\n",
       "50        185\n",
       "25        149\n",
       "        ...  \n",
       "144         1\n",
       "16          1\n",
       "303         1\n",
       "175         1\n",
       "2750        1\n",
       "Name: prevfygiving, Length: 188, dtype: int64"
      ]
     },
     "execution_count": 42,
     "metadata": {},
     "output_type": "execute_result"
    }
   ],
   "source": [
    "df1['prevfygiving'].value_counts()"
   ]
  },
  {
   "cell_type": "code",
   "execution_count": 43,
   "id": "fae292d4",
   "metadata": {},
   "outputs": [
    {
     "data": {
      "text/plain": [
       "0"
      ]
     },
     "execution_count": 43,
     "metadata": {},
     "output_type": "execute_result"
    }
   ],
   "source": [
    "df1['prevfygiving'].isnull().sum()"
   ]
  },
  {
   "cell_type": "markdown",
   "id": "5ac38e9d",
   "metadata": {},
   "source": [
    "# prevfy1giving"
   ]
  },
  {
   "cell_type": "code",
   "execution_count": 44,
   "id": "ad025904",
   "metadata": {},
   "outputs": [
    {
     "data": {
      "text/plain": [
       "0       32032\n",
       "1         441\n",
       "50        185\n",
       "100       178\n",
       "25        151\n",
       "        ...  \n",
       "1266        1\n",
       "690         1\n",
       "498         1\n",
       "1540        1\n",
       "31          1\n",
       "Name: prevfy1giving, Length: 189, dtype: int64"
      ]
     },
     "execution_count": 44,
     "metadata": {},
     "output_type": "execute_result"
    }
   ],
   "source": [
    "df1['prevfy1giving'].value_counts()"
   ]
  },
  {
   "cell_type": "code",
   "execution_count": 45,
   "id": "8bc6c472",
   "metadata": {},
   "outputs": [
    {
     "data": {
      "text/plain": [
       "0"
      ]
     },
     "execution_count": 45,
     "metadata": {},
     "output_type": "execute_result"
    }
   ],
   "source": [
    "df1['prevfy1giving'].isnull().sum()"
   ]
  },
  {
   "cell_type": "markdown",
   "id": "71a666c0",
   "metadata": {},
   "source": [
    "# prevfy2giving"
   ]
  },
  {
   "cell_type": "code",
   "execution_count": 46,
   "id": "3fcb605e",
   "metadata": {},
   "outputs": [
    {
     "data": {
      "text/plain": [
       "0       31971\n",
       "1         373\n",
       "100       224\n",
       "50        184\n",
       "25        166\n",
       "        ...  \n",
       "2505        1\n",
       "264         1\n",
       "136         1\n",
       "3300        1\n",
       "185         1\n",
       "Name: prevfy2giving, Length: 188, dtype: int64"
      ]
     },
     "execution_count": 46,
     "metadata": {},
     "output_type": "execute_result"
    }
   ],
   "source": [
    "df1['prevfy2giving'].value_counts()"
   ]
  },
  {
   "cell_type": "code",
   "execution_count": 47,
   "id": "6fa2cdf1",
   "metadata": {},
   "outputs": [
    {
     "data": {
      "text/plain": [
       "0"
      ]
     },
     "execution_count": 47,
     "metadata": {},
     "output_type": "execute_result"
    }
   ],
   "source": [
    "df1['prevfy2giving'].isnull().sum()"
   ]
  },
  {
   "cell_type": "markdown",
   "id": "12c62ab4",
   "metadata": {},
   "source": [
    "# prevfy3giving"
   ]
  },
  {
   "cell_type": "code",
   "execution_count": 48,
   "id": "4ac8a318",
   "metadata": {},
   "outputs": [
    {
     "data": {
      "text/plain": [
       "0        32362\n",
       "100        215\n",
       "50         196\n",
       "25         172\n",
       "1          130\n",
       "         ...  \n",
       "1005         1\n",
       "140          1\n",
       "54000        1\n",
       "234          1\n",
       "255          1\n",
       "Name: prevfy3giving, Length: 177, dtype: int64"
      ]
     },
     "execution_count": 48,
     "metadata": {},
     "output_type": "execute_result"
    }
   ],
   "source": [
    "df1['prevfy3giving'].value_counts()"
   ]
  },
  {
   "cell_type": "code",
   "execution_count": 49,
   "id": "ce124ceb",
   "metadata": {},
   "outputs": [
    {
     "data": {
      "text/plain": [
       "0"
      ]
     },
     "execution_count": 49,
     "metadata": {},
     "output_type": "execute_result"
    }
   ],
   "source": [
    "df1['prevfy3giving'].isnull().sum()"
   ]
  },
  {
   "cell_type": "markdown",
   "id": "135a69b6",
   "metadata": {},
   "source": [
    "# prevfy4giving"
   ]
  },
  {
   "cell_type": "code",
   "execution_count": 50,
   "id": "44b1c597",
   "metadata": {},
   "outputs": [
    {
     "data": {
      "text/plain": [
       "0         32544\n",
       "100         237\n",
       "25          184\n",
       "50          133\n",
       "1           127\n",
       "          ...  \n",
       "330           1\n",
       "100000        1\n",
       "2600          1\n",
       "408           1\n",
       "25000         1\n",
       "Name: prevfy4giving, Length: 182, dtype: int64"
      ]
     },
     "execution_count": 50,
     "metadata": {},
     "output_type": "execute_result"
    }
   ],
   "source": [
    "df1['prevfy4giving'].value_counts()"
   ]
  },
  {
   "cell_type": "code",
   "execution_count": 51,
   "id": "e98bd853",
   "metadata": {},
   "outputs": [
    {
     "data": {
      "text/plain": [
       "0"
      ]
     },
     "execution_count": 51,
     "metadata": {},
     "output_type": "execute_result"
    }
   ],
   "source": [
    "df1['prevfy4giving'].isnull().sum()"
   ]
  },
  {
   "cell_type": "markdown",
   "id": "eed33d7c",
   "metadata": {},
   "source": [
    "# currfygiving"
   ]
  },
  {
   "cell_type": "code",
   "execution_count": 52,
   "id": "49ae62ca",
   "metadata": {},
   "outputs": [
    {
     "data": {
      "text/plain": [
       "0        32599\n",
       "1          305\n",
       "100        203\n",
       "50         165\n",
       "25         126\n",
       "         ...  \n",
       "26830        1\n",
       "3030         1\n",
       "195          1\n",
       "3            1\n",
       "6250         1\n",
       "Name: currfygiving, Length: 166, dtype: int64"
      ]
     },
     "execution_count": 52,
     "metadata": {},
     "output_type": "execute_result"
    }
   ],
   "source": [
    "df1['currfygiving'].value_counts()"
   ]
  },
  {
   "cell_type": "code",
   "execution_count": 53,
   "id": "ad36cc42",
   "metadata": {},
   "outputs": [
    {
     "data": {
      "text/plain": [
       "0"
      ]
     },
     "execution_count": 53,
     "metadata": {},
     "output_type": "execute_result"
    }
   ],
   "source": [
    "df1['currfygiving'].isnull().sum()"
   ]
  },
  {
   "cell_type": "markdown",
   "id": "1e7c3ed1",
   "metadata": {},
   "source": [
    "# totalgiving"
   ]
  },
  {
   "cell_type": "code",
   "execution_count": 54,
   "id": "49b9fb09",
   "metadata": {},
   "outputs": [
    {
     "data": {
      "text/plain": [
       "0.0        13075\n",
       "100.0       1256\n",
       "50.0        1229\n",
       "25.0        1212\n",
       "1.0         1099\n",
       "           ...  \n",
       "284.0          1\n",
       "2373.0         1\n",
       "742.0          1\n",
       "20000.0        1\n",
       "182.0          1\n",
       "Name: totalgiving, Length: 1595, dtype: int64"
      ]
     },
     "execution_count": 54,
     "metadata": {},
     "output_type": "execute_result"
    }
   ],
   "source": [
    "df1['totalgiving'].value_counts()"
   ]
  },
  {
   "cell_type": "code",
   "execution_count": 55,
   "id": "7140abf8",
   "metadata": {},
   "outputs": [
    {
     "data": {
      "text/plain": [
       "0"
      ]
     },
     "execution_count": 55,
     "metadata": {},
     "output_type": "execute_result"
    }
   ],
   "source": [
    "df1['totalgiving'].isnull().sum()"
   ]
  },
  {
   "cell_type": "markdown",
   "id": "3a898a82",
   "metadata": {},
   "source": [
    "# donor_ind "
   ]
  },
  {
   "cell_type": "code",
   "execution_count": 56,
   "id": "9e45cb57",
   "metadata": {},
   "outputs": [
    {
     "data": {
      "text/plain": [
       "Y    21433\n",
       "N    13075\n",
       "Name: donor_ind, dtype: int64"
      ]
     },
     "execution_count": 56,
     "metadata": {},
     "output_type": "execute_result"
    }
   ],
   "source": [
    "df1['donor_ind'].value_counts()"
   ]
  },
  {
   "cell_type": "code",
   "execution_count": 57,
   "id": "42269e8e",
   "metadata": {},
   "outputs": [
    {
     "data": {
      "text/plain": [
       "0"
      ]
     },
     "execution_count": 57,
     "metadata": {},
     "output_type": "execute_result"
    }
   ],
   "source": [
    "df1['donor_ind'].isnull().sum()"
   ]
  },
  {
   "cell_type": "code",
   "execution_count": 58,
   "id": "fb9ca738",
   "metadata": {},
   "outputs": [
    {
     "data": {
      "text/plain": [
       "age                      int64\n",
       "gender                  object\n",
       "membership_ind          object\n",
       "alumnus_ind             object\n",
       "parent_ind              object\n",
       "has_involvement_ind     object\n",
       "pref_address_type       object\n",
       "email_present_ind       object\n",
       "donor_years              int64\n",
       "prevfygiving             int64\n",
       "prevfy1giving            int64\n",
       "prevfy2giving            int64\n",
       "prevfy3giving            int64\n",
       "prevfy4giving            int64\n",
       "currfygiving             int64\n",
       "totalgiving            float64\n",
       "donor_ind               object\n",
       "dtype: object"
      ]
     },
     "execution_count": 58,
     "metadata": {},
     "output_type": "execute_result"
    }
   ],
   "source": [
    "df1.dtypes"
   ]
  },
  {
   "cell_type": "code",
   "execution_count": 59,
   "id": "1c029259",
   "metadata": {},
   "outputs": [
    {
     "data": {
      "text/plain": [
       "age                    0\n",
       "gender                 0\n",
       "membership_ind         0\n",
       "alumnus_ind            0\n",
       "parent_ind             0\n",
       "has_involvement_ind    0\n",
       "pref_address_type      0\n",
       "email_present_ind      0\n",
       "donor_years            0\n",
       "prevfygiving           0\n",
       "prevfy1giving          0\n",
       "prevfy2giving          0\n",
       "prevfy3giving          0\n",
       "prevfy4giving          0\n",
       "currfygiving           0\n",
       "totalgiving            0\n",
       "donor_ind              0\n",
       "dtype: int64"
      ]
     },
     "execution_count": 59,
     "metadata": {},
     "output_type": "execute_result"
    }
   ],
   "source": [
    "# Display number of missing values by feature after all quantitative and qualititatve cleaning\n",
    "df1.isnull().sum()"
   ]
  },
  {
   "cell_type": "code",
   "execution_count": 60,
   "id": "cf407623",
   "metadata": {},
   "outputs": [
    {
     "name": "stdout",
     "output_type": "stream",
     "text": [
      "Requirement already satisfied: sweetviz in c:\\users\\ve797\\anaconda4\\lib\\site-packages (2.1.2)\n",
      "Requirement already satisfied: numpy>=1.16.0 in c:\\users\\ve797\\anaconda4\\lib\\site-packages (from sweetviz) (1.19.5)\n",
      "Requirement already satisfied: tqdm>=4.43.0 in c:\\users\\ve797\\anaconda4\\lib\\site-packages (from sweetviz) (4.59.0)\n",
      "Requirement already satisfied: jinja2>=2.11.1 in c:\\users\\ve797\\anaconda4\\lib\\site-packages (from sweetviz) (3.0.0)\n",
      "Requirement already satisfied: importlib-resources>=1.2.0 in c:\\users\\ve797\\anaconda4\\lib\\site-packages (from sweetviz) (5.1.4)\n",
      "Requirement already satisfied: scipy>=1.3.2 in c:\\users\\ve797\\anaconda4\\lib\\site-packages (from sweetviz) (1.5.4)\n",
      "Requirement already satisfied: matplotlib>=3.1.3 in c:\\users\\ve797\\anaconda4\\lib\\site-packages (from sweetviz) (3.3.4)\n",
      "Requirement already satisfied: pandas!=1.0.0,!=1.0.1,!=1.0.2,>=0.25.3 in c:\\users\\ve797\\anaconda4\\lib\\site-packages (from sweetviz) (1.2.4)\n",
      "Requirement already satisfied: zipp>=3.1.0 in c:\\users\\ve797\\anaconda4\\lib\\site-packages (from importlib-resources>=1.2.0->sweetviz) (3.4.1)\n",
      "Requirement already satisfied: MarkupSafe>=2.0.0rc2 in c:\\users\\ve797\\anaconda4\\lib\\site-packages (from jinja2>=2.11.1->sweetviz) (2.0.1)\n",
      "Requirement already satisfied: pyparsing!=2.0.4,!=2.1.2,!=2.1.6,>=2.0.3 in c:\\users\\ve797\\anaconda4\\lib\\site-packages (from matplotlib>=3.1.3->sweetviz) (2.4.7)\n",
      "Requirement already satisfied: python-dateutil>=2.1 in c:\\users\\ve797\\anaconda4\\lib\\site-packages (from matplotlib>=3.1.3->sweetviz) (2.8.1)\n",
      "Requirement already satisfied: kiwisolver>=1.0.1 in c:\\users\\ve797\\anaconda4\\lib\\site-packages (from matplotlib>=3.1.3->sweetviz) (1.3.1)\n",
      "Requirement already satisfied: pillow>=6.2.0 in c:\\users\\ve797\\anaconda4\\lib\\site-packages (from matplotlib>=3.1.3->sweetviz) (8.2.0)\n",
      "Requirement already satisfied: cycler>=0.10 in c:\\users\\ve797\\anaconda4\\lib\\site-packages (from matplotlib>=3.1.3->sweetviz) (0.10.0)\n",
      "Requirement already satisfied: six in c:\\users\\ve797\\anaconda4\\lib\\site-packages (from cycler>=0.10->matplotlib>=3.1.3->sweetviz) (1.15.0)\n",
      "Requirement already satisfied: pytz>=2017.3 in c:\\users\\ve797\\anaconda4\\lib\\site-packages (from pandas!=1.0.0,!=1.0.1,!=1.0.2,>=0.25.3->sweetviz) (2021.1)\n"
     ]
    }
   ],
   "source": [
    "# Exploratory Data Analysis using latest AI based AutoEDA Package - sweetviz\n",
    "!pip install sweetviz"
   ]
  },
  {
   "cell_type": "code",
   "execution_count": 61,
   "id": "e4bafedd",
   "metadata": {},
   "outputs": [],
   "source": [
    "# Importing the package for use\n",
    "import sweetviz as sv"
   ]
  },
  {
   "cell_type": "code",
   "execution_count": 62,
   "id": "b91a3271",
   "metadata": {},
   "outputs": [
    {
     "data": {
      "application/vnd.jupyter.widget-view+json": {
       "model_id": "90253018afa5431fbde338bcb17c8e3a",
       "version_major": 2,
       "version_minor": 0
      },
      "text/plain": [
       "                                             |                                             | [  0%]   00:00 ->…"
      ]
     },
     "metadata": {},
     "output_type": "display_data"
    },
    {
     "name": "stdout",
     "output_type": "stream",
     "text": [
      "Report SWEETVIZ_REPORT.html was generated! NOTEBOOK/COLAB USERS: the web browser MAY not pop up, regardless, the report IS saved in your notebook/colab files.\n"
     ]
    }
   ],
   "source": [
    "# Generate the EDA report\n",
    "my_report = sv.analyze(df)\n",
    "# Convert the report to HTML \n",
    "my_report.show_html() # Default arguments will generate to \"SWEETVIZ_REPORT.html\"\n"
   ]
  },
  {
   "cell_type": "code",
   "execution_count": 63,
   "id": "62d9d2e7",
   "metadata": {},
   "outputs": [
    {
     "data": {
      "image/png": "[encoded data removed]",
      "text/plain": [
       "<Figure size 1500x1500 with 2 Axes>"
      ]
     },
     "metadata": {},
     "output_type": "display_data"
    }
   ],
   "source": [
    "# Correlation\n",
    "corr_matrix = df1.corr()\n",
    "fig, ax = plt.subplots(figsize=(15,15))\n",
    "ax = sns.heatmap(corr_matrix,\n",
    "                annot=True,\n",
    "                linewidths=0.5,\n",
    "                fmt=\".2f\",\n",
    "                cmap=\"YlGnBu\")"
   ]
  },
  {
   "cell_type": "code",
   "execution_count": 64,
   "id": "3d01efb7",
   "metadata": {},
   "outputs": [
    {
     "data": {
      "text/plain": [
       "<AxesSubplot:>"
      ]
     },
     "execution_count": 64,
     "metadata": {},
     "output_type": "execute_result"
    },
    {
     "data": {
      "image/png": "[encoded data removed]",
      "text/plain": [
       "<Figure size 2000x1000 with 2 Axes>"
      ]
     },
     "metadata": {},
     "output_type": "display_data"
    }
   ],
   "source": [
    "# Correlation heatmap of the numberic variables\n",
    "plt.rcParams['figure.figsize'] = 20,10  # control plot sizeimport seaborn as sns\n",
    "sns.heatmap(df1.corr())"
   ]
  },
  {
   "cell_type": "code",
   "execution_count": 65,
   "id": "35187d6c",
   "metadata": {},
   "outputs": [],
   "source": [
    "df1 = df1.drop(['prevfy2giving','prevfy3giving', 'currfygiving'], axis = 1)"
   ]
  },
  {
   "cell_type": "code",
   "execution_count": 66,
   "id": "b572d965",
   "metadata": {},
   "outputs": [
    {
     "data": {
      "image/png": "[encoded data removed]",
      "text/plain": [
       "<Figure size 1500x1500 with 2 Axes>"
      ]
     },
     "metadata": {},
     "output_type": "display_data"
    }
   ],
   "source": [
    "# Correlation\n",
    "corr_matrix = df1.corr()\n",
    "fig, ax = plt.subplots(figsize=(15,15))\n",
    "ax = sns.heatmap(corr_matrix,\n",
    "                annot=True,\n",
    "                linewidths=0.5,\n",
    "                fmt=\".2f\",\n",
    "                cmap=\"YlGnBu\")"
   ]
  },
  {
   "cell_type": "code",
   "execution_count": 67,
   "id": "eaa4bd6a",
   "metadata": {},
   "outputs": [
    {
     "data": {
      "image/png": "[encoded data removed]",
      "text/plain": [
       "<Figure size 2000x2000 with 36 Axes>"
      ]
     },
     "metadata": {},
     "output_type": "display_data"
    }
   ],
   "source": [
    "# checking for outliers\n",
    "import matplotlib.pyplot as plt\n",
    "plt.rcParams['figure.figsize'] = 20,20  # control plot size\n",
    "df1.plot(kind='box', subplots=True, layout=(6,6), sharex=False, sharey=False)\n",
    "plt.show()"
   ]
  },
  {
   "cell_type": "markdown",
   "id": "4e5727a4",
   "metadata": {},
   "source": [
    "# deleting the outliers"
   ]
  },
  {
   "cell_type": "code",
   "execution_count": 68,
   "id": "566a1210",
   "metadata": {},
   "outputs": [],
   "source": [
    "cols = ['age', 'donor_years', 'prevfygiving', 'prevfy1giving', 'prevfy4giving', 'totalgiving' ] # one or more\n",
    "\n",
    "Q1 = df1[cols].quantile(0.25)\n",
    "Q3 = df1[cols].quantile(0.75)\n",
    "IQR = Q3 - Q1\n",
    "\n",
    "df2 = df1[~((df1[cols] < (Q1 - 1.5 * IQR)) |(df1[cols] > (Q3 + 1.5 * IQR))).any(axis=1)]\n"
   ]
  },
  {
   "cell_type": "code",
   "execution_count": 69,
   "id": "4bd9a41d",
   "metadata": {},
   "outputs": [
    {
     "data": {
      "text/html": [
       "<div>\n",
       "<style scoped>\n",
       "    .dataframe tbody tr th:only-of-type {\n",
       "        vertical-align: middle;\n",
       "    }\n",
       "\n",
       "    .dataframe tbody tr th {\n",
       "        vertical-align: top;\n",
       "    }\n",
       "\n",
       "    .dataframe thead th {\n",
       "        text-align: right;\n",
       "    }\n",
       "</style>\n",
       "<table border=\"1\" class=\"dataframe\">\n",
       "  <thead>\n",
       "    <tr style=\"text-align: right;\">\n",
       "      <th></th>\n",
       "      <th>age</th>\n",
       "      <th>gender</th>\n",
       "      <th>membership_ind</th>\n",
       "      <th>alumnus_ind</th>\n",
       "      <th>parent_ind</th>\n",
       "      <th>has_involvement_ind</th>\n",
       "      <th>pref_address_type</th>\n",
       "      <th>email_present_ind</th>\n",
       "      <th>donor_years</th>\n",
       "      <th>prevfygiving</th>\n",
       "      <th>prevfy1giving</th>\n",
       "      <th>prevfy4giving</th>\n",
       "      <th>totalgiving</th>\n",
       "      <th>donor_ind</th>\n",
       "    </tr>\n",
       "  </thead>\n",
       "  <tbody>\n",
       "    <tr>\n",
       "      <th>0</th>\n",
       "      <td>42</td>\n",
       "      <td>Female</td>\n",
       "      <td>N</td>\n",
       "      <td>N</td>\n",
       "      <td>N</td>\n",
       "      <td>N</td>\n",
       "      <td>HOME</td>\n",
       "      <td>N</td>\n",
       "      <td>1</td>\n",
       "      <td>0</td>\n",
       "      <td>0</td>\n",
       "      <td>0</td>\n",
       "      <td>10.0</td>\n",
       "      <td>Y</td>\n",
       "    </tr>\n",
       "    <tr>\n",
       "      <th>2</th>\n",
       "      <td>42</td>\n",
       "      <td>Female</td>\n",
       "      <td>N</td>\n",
       "      <td>N</td>\n",
       "      <td>N</td>\n",
       "      <td>N</td>\n",
       "      <td>HOME</td>\n",
       "      <td>N</td>\n",
       "      <td>1</td>\n",
       "      <td>0</td>\n",
       "      <td>0</td>\n",
       "      <td>0</td>\n",
       "      <td>200.0</td>\n",
       "      <td>Y</td>\n",
       "    </tr>\n",
       "    <tr>\n",
       "      <th>7</th>\n",
       "      <td>42</td>\n",
       "      <td>Female</td>\n",
       "      <td>N</td>\n",
       "      <td>N</td>\n",
       "      <td>N</td>\n",
       "      <td>N</td>\n",
       "      <td>HOME</td>\n",
       "      <td>N</td>\n",
       "      <td>1</td>\n",
       "      <td>0</td>\n",
       "      <td>0</td>\n",
       "      <td>0</td>\n",
       "      <td>170.0</td>\n",
       "      <td>Y</td>\n",
       "    </tr>\n",
       "    <tr>\n",
       "      <th>9</th>\n",
       "      <td>42</td>\n",
       "      <td>Female</td>\n",
       "      <td>N</td>\n",
       "      <td>N</td>\n",
       "      <td>Y</td>\n",
       "      <td>N</td>\n",
       "      <td>HOME</td>\n",
       "      <td>N</td>\n",
       "      <td>0</td>\n",
       "      <td>0</td>\n",
       "      <td>0</td>\n",
       "      <td>0</td>\n",
       "      <td>15.0</td>\n",
       "      <td>Y</td>\n",
       "    </tr>\n",
       "    <tr>\n",
       "      <th>11</th>\n",
       "      <td>42</td>\n",
       "      <td>Female</td>\n",
       "      <td>N</td>\n",
       "      <td>N</td>\n",
       "      <td>Y</td>\n",
       "      <td>Y</td>\n",
       "      <td>HOME</td>\n",
       "      <td>N</td>\n",
       "      <td>2</td>\n",
       "      <td>0</td>\n",
       "      <td>0</td>\n",
       "      <td>0</td>\n",
       "      <td>75.0</td>\n",
       "      <td>Y</td>\n",
       "    </tr>\n",
       "    <tr>\n",
       "      <th>...</th>\n",
       "      <td>...</td>\n",
       "      <td>...</td>\n",
       "      <td>...</td>\n",
       "      <td>...</td>\n",
       "      <td>...</td>\n",
       "      <td>...</td>\n",
       "      <td>...</td>\n",
       "      <td>...</td>\n",
       "      <td>...</td>\n",
       "      <td>...</td>\n",
       "      <td>...</td>\n",
       "      <td>...</td>\n",
       "      <td>...</td>\n",
       "      <td>...</td>\n",
       "    </tr>\n",
       "    <tr>\n",
       "      <th>34488</th>\n",
       "      <td>42</td>\n",
       "      <td>Male</td>\n",
       "      <td>N</td>\n",
       "      <td>N</td>\n",
       "      <td>N</td>\n",
       "      <td>N</td>\n",
       "      <td>HOME</td>\n",
       "      <td>N</td>\n",
       "      <td>1</td>\n",
       "      <td>0</td>\n",
       "      <td>0</td>\n",
       "      <td>0</td>\n",
       "      <td>4.0</td>\n",
       "      <td>Y</td>\n",
       "    </tr>\n",
       "    <tr>\n",
       "      <th>34489</th>\n",
       "      <td>42</td>\n",
       "      <td>Male</td>\n",
       "      <td>N</td>\n",
       "      <td>N</td>\n",
       "      <td>N</td>\n",
       "      <td>N</td>\n",
       "      <td>HOME</td>\n",
       "      <td>N</td>\n",
       "      <td>1</td>\n",
       "      <td>0</td>\n",
       "      <td>0</td>\n",
       "      <td>0</td>\n",
       "      <td>0.0</td>\n",
       "      <td>N</td>\n",
       "    </tr>\n",
       "    <tr>\n",
       "      <th>34495</th>\n",
       "      <td>42</td>\n",
       "      <td>Female</td>\n",
       "      <td>N</td>\n",
       "      <td>N</td>\n",
       "      <td>N</td>\n",
       "      <td>N</td>\n",
       "      <td>HOME</td>\n",
       "      <td>N</td>\n",
       "      <td>0</td>\n",
       "      <td>0</td>\n",
       "      <td>0</td>\n",
       "      <td>0</td>\n",
       "      <td>92.0</td>\n",
       "      <td>Y</td>\n",
       "    </tr>\n",
       "    <tr>\n",
       "      <th>34502</th>\n",
       "      <td>42</td>\n",
       "      <td>Male</td>\n",
       "      <td>N</td>\n",
       "      <td>N</td>\n",
       "      <td>Y</td>\n",
       "      <td>N</td>\n",
       "      <td>HOME</td>\n",
       "      <td>Y</td>\n",
       "      <td>0</td>\n",
       "      <td>0</td>\n",
       "      <td>0</td>\n",
       "      <td>0</td>\n",
       "      <td>0.0</td>\n",
       "      <td>N</td>\n",
       "    </tr>\n",
       "    <tr>\n",
       "      <th>34503</th>\n",
       "      <td>42</td>\n",
       "      <td>Female</td>\n",
       "      <td>N</td>\n",
       "      <td>N</td>\n",
       "      <td>N</td>\n",
       "      <td>N</td>\n",
       "      <td>HOME</td>\n",
       "      <td>N</td>\n",
       "      <td>0</td>\n",
       "      <td>0</td>\n",
       "      <td>0</td>\n",
       "      <td>0</td>\n",
       "      <td>0.0</td>\n",
       "      <td>N</td>\n",
       "    </tr>\n",
       "  </tbody>\n",
       "</table>\n",
       "<p>14196 rows × 14 columns</p>\n",
       "</div>"
      ],
      "text/plain": [
       "       age  gender membership_ind alumnus_ind parent_ind has_involvement_ind  \\\n",
       "0       42  Female              N           N          N                   N   \n",
       "2       42  Female              N           N          N                   N   \n",
       "7       42  Female              N           N          N                   N   \n",
       "9       42  Female              N           N          Y                   N   \n",
       "11      42  Female              N           N          Y                   Y   \n",
       "...    ...     ...            ...         ...        ...                 ...   \n",
       "34488   42    Male              N           N          N                   N   \n",
       "34489   42    Male              N           N          N                   N   \n",
       "34495   42  Female              N           N          N                   N   \n",
       "34502   42    Male              N           N          Y                   N   \n",
       "34503   42  Female              N           N          N                   N   \n",
       "\n",
       "      pref_address_type email_present_ind  donor_years  prevfygiving  \\\n",
       "0                  HOME                 N            1             0   \n",
       "2                  HOME                 N            1             0   \n",
       "7                  HOME                 N            1             0   \n",
       "9                  HOME                 N            0             0   \n",
       "11                 HOME                 N            2             0   \n",
       "...                 ...               ...          ...           ...   \n",
       "34488              HOME                 N            1             0   \n",
       "34489              HOME                 N            1             0   \n",
       "34495              HOME                 N            0             0   \n",
       "34502              HOME                 Y            0             0   \n",
       "34503              HOME                 N            0             0   \n",
       "\n",
       "       prevfy1giving  prevfy4giving  totalgiving donor_ind  \n",
       "0                  0              0         10.0         Y  \n",
       "2                  0              0        200.0         Y  \n",
       "7                  0              0        170.0         Y  \n",
       "9                  0              0         15.0         Y  \n",
       "11                 0              0         75.0         Y  \n",
       "...              ...            ...          ...       ...  \n",
       "34488              0              0          4.0         Y  \n",
       "34489              0              0          0.0         N  \n",
       "34495              0              0         92.0         Y  \n",
       "34502              0              0          0.0         N  \n",
       "34503              0              0          0.0         N  \n",
       "\n",
       "[14196 rows x 14 columns]"
      ]
     },
     "execution_count": 69,
     "metadata": {},
     "output_type": "execute_result"
    }
   ],
   "source": [
    "df2"
   ]
  },
  {
   "cell_type": "code",
   "execution_count": 70,
   "id": "2058f76a",
   "metadata": {},
   "outputs": [
    {
     "data": {
      "text/plain": [
       "age                    0\n",
       "gender                 0\n",
       "membership_ind         0\n",
       "alumnus_ind            0\n",
       "parent_ind             0\n",
       "has_involvement_ind    0\n",
       "pref_address_type      0\n",
       "email_present_ind      0\n",
       "donor_years            0\n",
       "prevfygiving           0\n",
       "prevfy1giving          0\n",
       "prevfy4giving          0\n",
       "totalgiving            0\n",
       "donor_ind              0\n",
       "dtype: int64"
      ]
     },
     "execution_count": 70,
     "metadata": {},
     "output_type": "execute_result"
    }
   ],
   "source": [
    "df2.isnull().sum()"
   ]
  },
  {
   "cell_type": "code",
   "execution_count": 71,
   "id": "94b17755",
   "metadata": {},
   "outputs": [
    {
     "data": {
      "text/plain": [
       "age                      int64\n",
       "gender                  object\n",
       "membership_ind          object\n",
       "alumnus_ind             object\n",
       "parent_ind              object\n",
       "has_involvement_ind     object\n",
       "pref_address_type       object\n",
       "email_present_ind       object\n",
       "donor_years              int64\n",
       "prevfygiving             int64\n",
       "prevfy1giving            int64\n",
       "prevfy4giving            int64\n",
       "totalgiving            float64\n",
       "donor_ind               object\n",
       "dtype: object"
      ]
     },
     "execution_count": 71,
     "metadata": {},
     "output_type": "execute_result"
    }
   ],
   "source": [
    "df2.dtypes"
   ]
  },
  {
   "cell_type": "markdown",
   "id": "35cb15da",
   "metadata": {},
   "source": [
    "# Redoing the misssing data"
   ]
  },
  {
   "cell_type": "code",
   "execution_count": 72,
   "id": "3ed205d5",
   "metadata": {},
   "outputs": [],
   "source": [
    "# # To replace missing age columns with Median\n",
    "# df2['age'].fillna(df2['age'].median(), inplace = True)"
   ]
  },
  {
   "cell_type": "code",
   "execution_count": 73,
   "id": "073b4e9d",
   "metadata": {},
   "outputs": [],
   "source": [
    "# df2['donor_years'].value_counts()"
   ]
  },
  {
   "cell_type": "code",
   "execution_count": 74,
   "id": "ae9bda65",
   "metadata": {},
   "outputs": [],
   "source": [
    "# # To replace missing prevfygiving  columns with Mode\n",
    "# for column in ['donor_years']:\n",
    "#     df2[column].fillna(df2[column].mode()[0], inplace=True)"
   ]
  },
  {
   "cell_type": "code",
   "execution_count": 75,
   "id": "8ae2cf73",
   "metadata": {},
   "outputs": [],
   "source": [
    "# df2['donor_years'].value_counts()"
   ]
  },
  {
   "cell_type": "code",
   "execution_count": 76,
   "id": "0f4039da",
   "metadata": {},
   "outputs": [],
   "source": [
    "# for column in ['prevfygiving']:\n",
    "#     df2[column].fillna(df2[column].mode()[0], inplace=True)"
   ]
  },
  {
   "cell_type": "code",
   "execution_count": 77,
   "id": "d12602f1",
   "metadata": {},
   "outputs": [],
   "source": [
    "# df2['prevfygiving'].value_counts()"
   ]
  },
  {
   "cell_type": "code",
   "execution_count": 78,
   "id": "219a7bb9",
   "metadata": {},
   "outputs": [],
   "source": [
    "# # To replace missing prevfy1giving  columns with Mode\n",
    "# for column in ['prevfy1giving']:\n",
    "#     df2[column].fillna(df2[column].mode()[0], inplace=True)"
   ]
  },
  {
   "cell_type": "markdown",
   "id": "f442fa60",
   "metadata": {},
   "source": [
    "# Checking the missing values once again"
   ]
  },
  {
   "cell_type": "code",
   "execution_count": 79,
   "id": "2c077275",
   "metadata": {},
   "outputs": [
    {
     "data": {
      "text/plain": [
       "age                    0\n",
       "gender                 0\n",
       "membership_ind         0\n",
       "alumnus_ind            0\n",
       "parent_ind             0\n",
       "has_involvement_ind    0\n",
       "pref_address_type      0\n",
       "email_present_ind      0\n",
       "donor_years            0\n",
       "prevfygiving           0\n",
       "prevfy1giving          0\n",
       "prevfy4giving          0\n",
       "totalgiving            0\n",
       "donor_ind              0\n",
       "dtype: int64"
      ]
     },
     "execution_count": 79,
     "metadata": {},
     "output_type": "execute_result"
    }
   ],
   "source": [
    "\n",
    "df2.isna().sum()"
   ]
  },
  {
   "cell_type": "code",
   "execution_count": 80,
   "id": "ce456712",
   "metadata": {},
   "outputs": [
    {
     "data": {
      "text/plain": [
       "age                      int64\n",
       "gender                  object\n",
       "membership_ind          object\n",
       "alumnus_ind             object\n",
       "parent_ind              object\n",
       "has_involvement_ind     object\n",
       "pref_address_type       object\n",
       "email_present_ind       object\n",
       "donor_years              int64\n",
       "prevfygiving             int64\n",
       "prevfy1giving            int64\n",
       "prevfy4giving            int64\n",
       "totalgiving            float64\n",
       "donor_ind               object\n",
       "dtype: object"
      ]
     },
     "execution_count": 80,
     "metadata": {},
     "output_type": "execute_result"
    }
   ],
   "source": [
    "df2.dtypes"
   ]
  },
  {
   "cell_type": "code",
   "execution_count": 81,
   "id": "405fabad",
   "metadata": {},
   "outputs": [],
   "source": [
    "# float_col = df2.select_dtypes(include=['float64']) # This will select float columns only\n",
    "# # list(float_col.columns.values)\n",
    "\n",
    "# for col in float_col.columns.values:\n",
    "#     df2[col] = df2[col].astype('int64')"
   ]
  },
  {
   "cell_type": "code",
   "execution_count": 82,
   "id": "5fb443cc",
   "metadata": {},
   "outputs": [
    {
     "data": {
      "text/plain": [
       "age                      int64\n",
       "gender                  object\n",
       "membership_ind          object\n",
       "alumnus_ind             object\n",
       "parent_ind              object\n",
       "has_involvement_ind     object\n",
       "pref_address_type       object\n",
       "email_present_ind       object\n",
       "donor_years              int64\n",
       "prevfygiving             int64\n",
       "prevfy1giving            int64\n",
       "prevfy4giving            int64\n",
       "totalgiving            float64\n",
       "donor_ind               object\n",
       "dtype: object"
      ]
     },
     "execution_count": 82,
     "metadata": {},
     "output_type": "execute_result"
    }
   ],
   "source": [
    "df2.dtypes"
   ]
  },
  {
   "cell_type": "code",
   "execution_count": 83,
   "id": "76edd2f3",
   "metadata": {},
   "outputs": [
    {
     "data": {
      "text/plain": [
       "N    7229\n",
       "Y    6967\n",
       "Name: donor_ind, dtype: int64"
      ]
     },
     "execution_count": 83,
     "metadata": {},
     "output_type": "execute_result"
    }
   ],
   "source": [
    "df2['donor_ind'].value_counts()"
   ]
  },
  {
   "cell_type": "code",
   "execution_count": 84,
   "id": "7ec4f7ab",
   "metadata": {},
   "outputs": [
    {
     "data": {
      "image/png": "[encoded data removed]",
      "text/plain": [
       "<Figure size 800x600 with 1 Axes>"
      ]
     },
     "metadata": {},
     "output_type": "display_data"
    }
   ],
   "source": [
    "# visualizing the distributio of the target variable\n",
    "(df1['donor_ind'].value_counts().plot(\n",
    "        kind='bar',\n",
    "        figsize=(8, 6),\n",
    "        title='Distribution of Target Variable',\n",
    "    )\n",
    ");\n",
    "plt.show()"
   ]
  },
  {
   "cell_type": "code",
   "execution_count": 85,
   "id": "bbf99670",
   "metadata": {},
   "outputs": [
    {
     "data": {
      "text/plain": [
       "Male       6737\n",
       "Female     6698\n",
       "Uknown      759\n",
       "Unknown       2\n",
       "Name: gender, dtype: int64"
      ]
     },
     "execution_count": 85,
     "metadata": {},
     "output_type": "execute_result"
    }
   ],
   "source": [
    "df2['gender'].value_counts()"
   ]
  },
  {
   "cell_type": "code",
   "execution_count": 86,
   "id": "8a71dcc2",
   "metadata": {},
   "outputs": [
    {
     "data": {
      "text/plain": [
       "N    14196\n",
       "Name: membership_ind, dtype: int64"
      ]
     },
     "execution_count": 86,
     "metadata": {},
     "output_type": "execute_result"
    }
   ],
   "source": [
    "df2['membership_ind'].value_counts()"
   ]
  },
  {
   "cell_type": "code",
   "execution_count": 87,
   "id": "b87f9753",
   "metadata": {},
   "outputs": [
    {
     "data": {
      "text/plain": [
       "N    12287\n",
       "Y     1909\n",
       "Name: alumnus_ind, dtype: int64"
      ]
     },
     "execution_count": 87,
     "metadata": {},
     "output_type": "execute_result"
    }
   ],
   "source": [
    "df2['alumnus_ind'].value_counts()"
   ]
  },
  {
   "cell_type": "code",
   "execution_count": 88,
   "id": "99dc5f1a",
   "metadata": {},
   "outputs": [
    {
     "data": {
      "text/plain": [
       "N    12536\n",
       "Y     1660\n",
       "Name: parent_ind, dtype: int64"
      ]
     },
     "execution_count": 88,
     "metadata": {},
     "output_type": "execute_result"
    }
   ],
   "source": [
    "df2['parent_ind'].value_counts()"
   ]
  },
  {
   "cell_type": "code",
   "execution_count": 89,
   "id": "4ef335c9",
   "metadata": {},
   "outputs": [
    {
     "data": {
      "text/plain": [
       "N    11974\n",
       "Y     2222\n",
       "Name: has_involvement_ind, dtype: int64"
      ]
     },
     "execution_count": 89,
     "metadata": {},
     "output_type": "execute_result"
    }
   ],
   "source": [
    "df2['has_involvement_ind'].value_counts()"
   ]
  },
  {
   "cell_type": "code",
   "execution_count": 90,
   "id": "692454eb",
   "metadata": {},
   "outputs": [
    {
     "data": {
      "text/plain": [
       "N    11052\n",
       "Y     3144\n",
       "Name: email_present_ind, dtype: int64"
      ]
     },
     "execution_count": 90,
     "metadata": {},
     "output_type": "execute_result"
    }
   ],
   "source": [
    "df2['email_present_ind'].value_counts()"
   ]
  },
  {
   "cell_type": "code",
   "execution_count": 91,
   "id": "cbb9bda6",
   "metadata": {},
   "outputs": [],
   "source": [
    "# lets Clean the Values\n",
    "df2['donor_ind'] = df2['donor_ind'].replace(('Y', 'N'), ('1', '0'))\n",
    "df2['membership_ind']= df2['membership_ind'].replace(('Y', 'N'), ('1', '0'))\n",
    "df2['alumnus_ind'] = df2['alumnus_ind'].replace(('Y', 'N'), ('1', '0'))\n",
    "df2['parent_ind'] = df2['parent_ind'].replace(('Y', 'N'), ('1', '0'))\n",
    "df2['has_involvement_ind'] = df2['has_involvement_ind'].replace(('Y', 'N'), ('1', '0'))\n",
    "df2['email_present_ind'] = df2['email_present_ind'].replace(('Y', 'N'), ('1', '0'))\n",
    "df2['gender'] = df2['gender'].replace(('Female', 'Male', 'Uknown', 'Unknown', 'U'), ('1', '0', '0', '0', '0'))"
   ]
  },
  {
   "cell_type": "code",
   "execution_count": 92,
   "id": "e7ab715c",
   "metadata": {},
   "outputs": [
    {
     "data": {
      "text/plain": [
       "HOME    13615\n",
       "BUSN      494\n",
       "CAMP       58\n",
       "OTR        29\n",
       "Name: pref_address_type, dtype: int64"
      ]
     },
     "execution_count": 92,
     "metadata": {},
     "output_type": "execute_result"
    }
   ],
   "source": [
    "df2['pref_address_type'].value_counts()"
   ]
  },
  {
   "cell_type": "code",
   "execution_count": 93,
   "id": "3ae59558",
   "metadata": {},
   "outputs": [],
   "source": [
    "# using Label encoding to transform this column\n",
    "\n",
    "from sklearn.preprocessing import LabelEncoder\n",
    "le = LabelEncoder()\n",
    "df2['pref_address_type'] = le.fit_transform(df2['pref_address_type'])"
   ]
  },
  {
   "cell_type": "code",
   "execution_count": 94,
   "id": "fe0fbb68",
   "metadata": {},
   "outputs": [
    {
     "data": {
      "text/plain": [
       "2    13615\n",
       "0      494\n",
       "1       58\n",
       "3       29\n",
       "Name: pref_address_type, dtype: int64"
      ]
     },
     "execution_count": 94,
     "metadata": {},
     "output_type": "execute_result"
    }
   ],
   "source": [
    "df2['pref_address_type'].value_counts()"
   ]
  },
  {
   "cell_type": "code",
   "execution_count": 95,
   "id": "2e1f44eb",
   "metadata": {},
   "outputs": [
    {
     "data": {
      "text/html": [
       "<div>\n",
       "<style scoped>\n",
       "    .dataframe tbody tr th:only-of-type {\n",
       "        vertical-align: middle;\n",
       "    }\n",
       "\n",
       "    .dataframe tbody tr th {\n",
       "        vertical-align: top;\n",
       "    }\n",
       "\n",
       "    .dataframe thead th {\n",
       "        text-align: right;\n",
       "    }\n",
       "</style>\n",
       "<table border=\"1\" class=\"dataframe\">\n",
       "  <thead>\n",
       "    <tr style=\"text-align: right;\">\n",
       "      <th></th>\n",
       "      <th>age</th>\n",
       "      <th>gender</th>\n",
       "      <th>membership_ind</th>\n",
       "      <th>alumnus_ind</th>\n",
       "      <th>parent_ind</th>\n",
       "      <th>has_involvement_ind</th>\n",
       "      <th>pref_address_type</th>\n",
       "      <th>email_present_ind</th>\n",
       "      <th>donor_years</th>\n",
       "      <th>prevfygiving</th>\n",
       "      <th>prevfy1giving</th>\n",
       "      <th>prevfy4giving</th>\n",
       "      <th>totalgiving</th>\n",
       "      <th>donor_ind</th>\n",
       "    </tr>\n",
       "  </thead>\n",
       "  <tbody>\n",
       "    <tr>\n",
       "      <th>0</th>\n",
       "      <td>42</td>\n",
       "      <td>1</td>\n",
       "      <td>0</td>\n",
       "      <td>0</td>\n",
       "      <td>0</td>\n",
       "      <td>0</td>\n",
       "      <td>2</td>\n",
       "      <td>0</td>\n",
       "      <td>1</td>\n",
       "      <td>0</td>\n",
       "      <td>0</td>\n",
       "      <td>0</td>\n",
       "      <td>10.0</td>\n",
       "      <td>1</td>\n",
       "    </tr>\n",
       "    <tr>\n",
       "      <th>2</th>\n",
       "      <td>42</td>\n",
       "      <td>1</td>\n",
       "      <td>0</td>\n",
       "      <td>0</td>\n",
       "      <td>0</td>\n",
       "      <td>0</td>\n",
       "      <td>2</td>\n",
       "      <td>0</td>\n",
       "      <td>1</td>\n",
       "      <td>0</td>\n",
       "      <td>0</td>\n",
       "      <td>0</td>\n",
       "      <td>200.0</td>\n",
       "      <td>1</td>\n",
       "    </tr>\n",
       "    <tr>\n",
       "      <th>7</th>\n",
       "      <td>42</td>\n",
       "      <td>1</td>\n",
       "      <td>0</td>\n",
       "      <td>0</td>\n",
       "      <td>0</td>\n",
       "      <td>0</td>\n",
       "      <td>2</td>\n",
       "      <td>0</td>\n",
       "      <td>1</td>\n",
       "      <td>0</td>\n",
       "      <td>0</td>\n",
       "      <td>0</td>\n",
       "      <td>170.0</td>\n",
       "      <td>1</td>\n",
       "    </tr>\n",
       "    <tr>\n",
       "      <th>9</th>\n",
       "      <td>42</td>\n",
       "      <td>1</td>\n",
       "      <td>0</td>\n",
       "      <td>0</td>\n",
       "      <td>1</td>\n",
       "      <td>0</td>\n",
       "      <td>2</td>\n",
       "      <td>0</td>\n",
       "      <td>0</td>\n",
       "      <td>0</td>\n",
       "      <td>0</td>\n",
       "      <td>0</td>\n",
       "      <td>15.0</td>\n",
       "      <td>1</td>\n",
       "    </tr>\n",
       "    <tr>\n",
       "      <th>11</th>\n",
       "      <td>42</td>\n",
       "      <td>1</td>\n",
       "      <td>0</td>\n",
       "      <td>0</td>\n",
       "      <td>1</td>\n",
       "      <td>1</td>\n",
       "      <td>2</td>\n",
       "      <td>0</td>\n",
       "      <td>2</td>\n",
       "      <td>0</td>\n",
       "      <td>0</td>\n",
       "      <td>0</td>\n",
       "      <td>75.0</td>\n",
       "      <td>1</td>\n",
       "    </tr>\n",
       "  </tbody>\n",
       "</table>\n",
       "</div>"
      ],
      "text/plain": [
       "    age gender membership_ind alumnus_ind parent_ind has_involvement_ind  \\\n",
       "0    42      1              0           0          0                   0   \n",
       "2    42      1              0           0          0                   0   \n",
       "7    42      1              0           0          0                   0   \n",
       "9    42      1              0           0          1                   0   \n",
       "11   42      1              0           0          1                   1   \n",
       "\n",
       "    pref_address_type email_present_ind  donor_years  prevfygiving  \\\n",
       "0                   2                 0            1             0   \n",
       "2                   2                 0            1             0   \n",
       "7                   2                 0            1             0   \n",
       "9                   2                 0            0             0   \n",
       "11                  2                 0            2             0   \n",
       "\n",
       "    prevfy1giving  prevfy4giving  totalgiving donor_ind  \n",
       "0               0              0         10.0         1  \n",
       "2               0              0        200.0         1  \n",
       "7               0              0        170.0         1  \n",
       "9               0              0         15.0         1  \n",
       "11              0              0         75.0         1  "
      ]
     },
     "execution_count": 95,
     "metadata": {},
     "output_type": "execute_result"
    }
   ],
   "source": [
    "df2.head()"
   ]
  },
  {
   "cell_type": "code",
   "execution_count": 96,
   "id": "e00196fd",
   "metadata": {},
   "outputs": [
    {
     "data": {
      "text/plain": [
       "age                    0\n",
       "gender                 0\n",
       "membership_ind         0\n",
       "alumnus_ind            0\n",
       "parent_ind             0\n",
       "has_involvement_ind    0\n",
       "pref_address_type      0\n",
       "email_present_ind      0\n",
       "donor_years            0\n",
       "prevfygiving           0\n",
       "prevfy1giving          0\n",
       "prevfy4giving          0\n",
       "totalgiving            0\n",
       "donor_ind              0\n",
       "dtype: int64"
      ]
     },
     "execution_count": 96,
     "metadata": {},
     "output_type": "execute_result"
    }
   ],
   "source": [
    "\n",
    "df2.isna().sum()"
   ]
  },
  {
   "cell_type": "code",
   "execution_count": 97,
   "id": "8407c0c2",
   "metadata": {},
   "outputs": [
    {
     "data": {
      "text/plain": [
       "age                      int64\n",
       "gender                  object\n",
       "membership_ind          object\n",
       "alumnus_ind             object\n",
       "parent_ind              object\n",
       "has_involvement_ind     object\n",
       "pref_address_type        int32\n",
       "email_present_ind       object\n",
       "donor_years              int64\n",
       "prevfygiving             int64\n",
       "prevfy1giving            int64\n",
       "prevfy4giving            int64\n",
       "totalgiving            float64\n",
       "donor_ind               object\n",
       "dtype: object"
      ]
     },
     "execution_count": 97,
     "metadata": {},
     "output_type": "execute_result"
    }
   ],
   "source": [
    "df2.dtypes"
   ]
  },
  {
   "cell_type": "code",
   "execution_count": 98,
   "id": "1c3d27d5",
   "metadata": {},
   "outputs": [],
   "source": [
    "# float_col = df2.select_dtypes(include=['float64']) # This will select float columns only\n",
    "# # list(float_col.columns.values)\n",
    "\n",
    "# for col in float_col.columns.values:\n",
    "#     df2[col] = df2[col].astype('int64')"
   ]
  },
  {
   "cell_type": "code",
   "execution_count": 99,
   "id": "e4eba4ec",
   "metadata": {},
   "outputs": [
    {
     "data": {
      "text/plain": [
       "age                      int64\n",
       "gender                  object\n",
       "membership_ind          object\n",
       "alumnus_ind             object\n",
       "parent_ind              object\n",
       "has_involvement_ind     object\n",
       "pref_address_type        int32\n",
       "email_present_ind       object\n",
       "donor_years              int64\n",
       "prevfygiving             int64\n",
       "prevfy1giving            int64\n",
       "prevfy4giving            int64\n",
       "totalgiving            float64\n",
       "donor_ind               object\n",
       "dtype: object"
      ]
     },
     "execution_count": 99,
     "metadata": {},
     "output_type": "execute_result"
    }
   ],
   "source": [
    "df2.dtypes"
   ]
  },
  {
   "cell_type": "code",
   "execution_count": 100,
   "id": "78edc254",
   "metadata": {},
   "outputs": [],
   "source": [
    "# Setting Categorical columns\n",
    "cat_cols = ['age', 'donor_years', 'gender','membership_ind','alumnus_ind','parent_ind','has_involvement_ind','email_present_ind','pref_address_type']"
   ]
  },
  {
   "cell_type": "code",
   "execution_count": 101,
   "id": "6f9a4271",
   "metadata": {},
   "outputs": [
    {
     "name": "stdout",
     "output_type": "stream",
     "text": [
      "Requirement already satisfied: pycaret in c:\\users\\ve797\\anaconda4\\lib\\site-packages (2.3.3)\n",
      "Requirement already satisfied: spacy<2.4.0 in c:\\users\\ve797\\anaconda4\\lib\\site-packages (from pycaret) (2.3.7)\n",
      "Requirement already satisfied: lightgbm>=2.3.1 in c:\\users\\ve797\\anaconda4\\lib\\site-packages (from pycaret) (3.2.1)\n",
      "Requirement already satisfied: mlflow in c:\\users\\ve797\\anaconda4\\lib\\site-packages (from pycaret) (1.17.0)\n",
      "Requirement already satisfied: wordcloud in c:\\users\\ve797\\anaconda4\\lib\\site-packages (from pycaret) (1.8.1)\n",
      "Requirement already satisfied: scipy<=1.5.4 in c:\\users\\ve797\\anaconda4\\lib\\site-packages (from pycaret) (1.5.4)\n",
      "Requirement already satisfied: cufflinks>=0.17.0 in c:\\users\\ve797\\anaconda4\\lib\\site-packages (from pycaret) (0.17.3)\n",
      "Requirement already satisfied: plotly>=4.4.1 in c:\\users\\ve797\\anaconda4\\lib\\site-packages (from pycaret) (4.14.3)\n",
      "Requirement already satisfied: kmodes>=0.10.1 in c:\\users\\ve797\\anaconda4\\lib\\site-packages (from pycaret) (0.11.0)\n",
      "Requirement already satisfied: yellowbrick>=1.0.1 in c:\\users\\ve797\\anaconda4\\lib\\site-packages (from pycaret) (1.3.post1)\n",
      "Requirement already satisfied: joblib in c:\\users\\ve797\\anaconda4\\lib\\site-packages (from pycaret) (1.0.1)\n",
      "Requirement already satisfied: Boruta in c:\\users\\ve797\\anaconda4\\lib\\site-packages (from pycaret) (0.3)\n",
      "Requirement already satisfied: gensim<4.0.0 in c:\\users\\ve797\\anaconda4\\lib\\site-packages (from pycaret) (3.8.3)\n",
      "Requirement already satisfied: mlxtend>=0.17.0 in c:\\users\\ve797\\anaconda4\\lib\\site-packages (from pycaret) (0.18.0)\n",
      "Requirement already satisfied: seaborn in c:\\users\\ve797\\anaconda4\\lib\\site-packages (from pycaret) (0.11.1)\n",
      "Requirement already satisfied: ipywidgets in c:\\users\\ve797\\anaconda4\\lib\\site-packages (from pycaret) (7.6.3)\n",
      "Requirement already satisfied: pandas-profiling>=2.8.0 in c:\\users\\ve797\\anaconda4\\lib\\site-packages (from pycaret) (3.0.0)\n",
      "Requirement already satisfied: scikit-plot in c:\\users\\ve797\\anaconda4\\lib\\site-packages (from pycaret) (0.3.7)\n",
      "Requirement already satisfied: pandas in c:\\users\\ve797\\anaconda4\\lib\\site-packages (from pycaret) (1.2.4)\n",
      "Requirement already satisfied: nltk in c:\\users\\ve797\\anaconda4\\lib\\site-packages (from pycaret) (3.6.2)\n",
      "Requirement already satisfied: imbalanced-learn==0.7.0 in c:\\users\\ve797\\anaconda4\\lib\\site-packages (from pycaret) (0.7.0)\n",
      "Requirement already satisfied: matplotlib in c:\\users\\ve797\\anaconda4\\lib\\site-packages (from pycaret) (3.3.4)\n",
      "Requirement already satisfied: IPython in c:\\users\\ve797\\anaconda4\\lib\\site-packages (from pycaret) (7.22.0)\n",
      "Requirement already satisfied: numpy==1.19.5 in c:\\users\\ve797\\anaconda4\\lib\\site-packages (from pycaret) (1.19.5)\n",
      "Requirement already satisfied: pyod in c:\\users\\ve797\\anaconda4\\lib\\site-packages (from pycaret) (0.8.9)\n",
      "Requirement already satisfied: textblob in c:\\users\\ve797\\anaconda4\\lib\\site-packages (from pycaret) (0.15.3)\n",
      "Requirement already satisfied: umap-learn in c:\\users\\ve797\\anaconda4\\lib\\site-packages (from pycaret) (0.5.1)\n",
      "Requirement already satisfied: scikit-learn==0.23.2 in c:\\users\\ve797\\anaconda4\\lib\\site-packages (from pycaret) (0.23.2)\n",
      "Requirement already satisfied: pyLDAvis in c:\\users\\ve797\\anaconda4\\lib\\site-packages (from pycaret) (3.2.2)\n",
      "Requirement already satisfied: threadpoolctl>=2.0.0 in c:\\users\\ve797\\anaconda4\\lib\\site-packages (from scikit-learn==0.23.2->pycaret) (2.1.0)\n",
      "Requirement already satisfied: colorlover>=0.2.1 in c:\\users\\ve797\\anaconda4\\lib\\site-packages (from cufflinks>=0.17.0->pycaret) (0.3.0)\n",
      "Requirement already satisfied: setuptools>=34.4.1 in c:\\users\\ve797\\anaconda4\\lib\\site-packages (from cufflinks>=0.17.0->pycaret) (52.0.0.post20210125)\n",
      "Requirement already satisfied: six>=1.9.0 in c:\\users\\ve797\\anaconda4\\lib\\site-packages (from cufflinks>=0.17.0->pycaret) (1.15.0)\n",
      "Requirement already satisfied: smart-open>=1.8.1 in c:\\users\\ve797\\anaconda4\\lib\\site-packages (from gensim<4.0.0->pycaret) (5.1.0)\n",
      "Requirement already satisfied: Cython==0.29.14 in c:\\users\\ve797\\anaconda4\\lib\\site-packages (from gensim<4.0.0->pycaret) (0.29.14)\n",
      "Requirement already satisfied: traitlets>=4.2 in c:\\users\\ve797\\anaconda4\\lib\\site-packages (from IPython->pycaret) (5.0.5)\n",
      "Requirement already satisfied: decorator in c:\\users\\ve797\\anaconda4\\lib\\site-packages (from IPython->pycaret) (5.0.9)\n",
      "Requirement already satisfied: pickleshare in c:\\users\\ve797\\anaconda4\\lib\\site-packages (from IPython->pycaret) (0.7.5)\n",
      "Requirement already satisfied: pygments in c:\\users\\ve797\\anaconda4\\lib\\site-packages (from IPython->pycaret) (2.9.0)\n",
      "Requirement already satisfied: colorama in c:\\users\\ve797\\anaconda4\\lib\\site-packages (from IPython->pycaret) (0.4.4)\n",
      "Requirement already satisfied: jedi>=0.16 in c:\\users\\ve797\\anaconda4\\lib\\site-packages (from IPython->pycaret) (0.17.2)\n",
      "Requirement already satisfied: backcall in c:\\users\\ve797\\anaconda4\\lib\\site-packages (from IPython->pycaret) (0.2.0)\n",
      "Requirement already satisfied: prompt-toolkit!=3.0.0,!=3.0.1,<3.1.0,>=2.0.0 in c:\\users\\ve797\\anaconda4\\lib\\site-packages (from IPython->pycaret) (3.0.17)\n",
      "Requirement already satisfied: ipykernel>=4.5.1 in c:\\users\\ve797\\anaconda4\\lib\\site-packages (from ipywidgets->pycaret) (5.3.4)\n",
      "Requirement already satisfied: jupyterlab-widgets>=1.0.0 in c:\\users\\ve797\\anaconda4\\lib\\site-packages (from ipywidgets->pycaret) (1.0.0)\n",
      "Requirement already satisfied: widgetsnbextension~=3.5.0 in c:\\users\\ve797\\anaconda4\\lib\\site-packages (from ipywidgets->pycaret) (3.5.1)\n",
      "Requirement already satisfied: nbformat>=4.2.0 in c:\\users\\ve797\\anaconda4\\lib\\site-packages (from ipywidgets->pycaret) (5.1.3)\n",
      "Requirement already satisfied: tornado>=4.2 in c:\\users\\ve797\\anaconda4\\lib\\site-packages (from ipykernel>=4.5.1->ipywidgets->pycaret) (6.1)\n",
      "Requirement already satisfied: jupyter-client in c:\\users\\ve797\\anaconda4\\lib\\site-packages (from ipykernel>=4.5.1->ipywidgets->pycaret) (6.1.12)\n",
      "Requirement already satisfied: parso<0.8.0,>=0.7.0 in c:\\users\\ve797\\anaconda4\\lib\\site-packages (from jedi>=0.16->IPython->pycaret) (0.7.0)\n",
      "Requirement already satisfied: wheel in c:\\users\\ve797\\anaconda4\\lib\\site-packages (from lightgbm>=2.3.1->pycaret) (0.36.2)\n",
      "Requirement already satisfied: kiwisolver>=1.0.1 in c:\\users\\ve797\\anaconda4\\lib\\site-packages (from matplotlib->pycaret) (1.3.1)\n",
      "Requirement already satisfied: python-dateutil>=2.1 in c:\\users\\ve797\\anaconda4\\lib\\site-packages (from matplotlib->pycaret) (2.8.1)\n",
      "Requirement already satisfied: pillow>=6.2.0 in c:\\users\\ve797\\anaconda4\\lib\\site-packages (from matplotlib->pycaret) (8.2.0)\n",
      "Requirement already satisfied: cycler>=0.10 in c:\\users\\ve797\\anaconda4\\lib\\site-packages (from matplotlib->pycaret) (0.10.0)\n",
      "Requirement already satisfied: pyparsing!=2.0.4,!=2.1.2,!=2.1.6,>=2.0.3 in c:\\users\\ve797\\anaconda4\\lib\\site-packages (from matplotlib->pycaret) (2.4.7)\n",
      "Requirement already satisfied: jsonschema!=2.5.0,>=2.4 in c:\\users\\ve797\\anaconda4\\lib\\site-packages (from nbformat>=4.2.0->ipywidgets->pycaret) (3.2.0)\n",
      "Requirement already satisfied: ipython-genutils in c:\\users\\ve797\\anaconda4\\lib\\site-packages (from nbformat>=4.2.0->ipywidgets->pycaret) (0.2.0)\n",
      "Requirement already satisfied: jupyter-core in c:\\users\\ve797\\anaconda4\\lib\\site-packages (from nbformat>=4.2.0->ipywidgets->pycaret) (4.7.1)\n",
      "Requirement already satisfied: pyrsistent>=0.14.0 in c:\\users\\ve797\\anaconda4\\lib\\site-packages (from jsonschema!=2.5.0,>=2.4->nbformat>=4.2.0->ipywidgets->pycaret) (0.17.3)\n",
      "Requirement already satisfied: attrs>=17.4.0 in c:\\users\\ve797\\anaconda4\\lib\\site-packages (from jsonschema!=2.5.0,>=2.4->nbformat>=4.2.0->ipywidgets->pycaret) (21.2.0)\n",
      "Requirement already satisfied: pytz>=2017.3 in c:\\users\\ve797\\anaconda4\\lib\\site-packages (from pandas->pycaret) (2021.1)\n",
      "Requirement already satisfied: pydantic>=1.8.1 in c:\\users\\ve797\\anaconda4\\lib\\site-packages (from pandas-profiling>=2.8.0->pycaret) (1.8.2)\n",
      "Requirement already satisfied: jinja2>=2.11.1 in c:\\users\\ve797\\anaconda4\\lib\\site-packages (from pandas-profiling>=2.8.0->pycaret) (3.0.0)\n",
      "Requirement already satisfied: visions[type_image_path]==0.7.1 in c:\\users\\ve797\\anaconda4\\lib\\site-packages (from pandas-profiling>=2.8.0->pycaret) (0.7.1)\n",
      "Requirement already satisfied: missingno>=0.4.2 in c:\\users\\ve797\\anaconda4\\lib\\site-packages (from pandas-profiling>=2.8.0->pycaret) (0.4.2)\n",
      "Requirement already satisfied: tqdm>=4.48.2 in c:\\users\\ve797\\anaconda4\\lib\\site-packages (from pandas-profiling>=2.8.0->pycaret) (4.59.0)\n",
      "Requirement already satisfied: htmlmin>=0.1.12 in c:\\users\\ve797\\anaconda4\\lib\\site-packages (from pandas-profiling>=2.8.0->pycaret) (0.1.12)\n",
      "Requirement already satisfied: tangled-up-in-unicode==0.1.0 in c:\\users\\ve797\\anaconda4\\lib\\site-packages (from pandas-profiling>=2.8.0->pycaret) (0.1.0)\n",
      "Requirement already satisfied: PyYAML>=5.0.0 in c:\\users\\ve797\\anaconda4\\lib\\site-packages (from pandas-profiling>=2.8.0->pycaret) (5.4.1)\n",
      "Requirement already satisfied: requests>=2.24.0 in c:\\users\\ve797\\anaconda4\\lib\\site-packages (from pandas-profiling>=2.8.0->pycaret) (2.25.1)\n",
      "Requirement already satisfied: phik>=0.11.1 in c:\\users\\ve797\\anaconda4\\lib\\site-packages (from pandas-profiling>=2.8.0->pycaret) (0.11.2)\n",
      "Requirement already satisfied: networkx>=2.4 in c:\\users\\ve797\\anaconda4\\lib\\site-packages (from visions[type_image_path]==0.7.1->pandas-profiling>=2.8.0->pycaret) (2.5)\n",
      "Requirement already satisfied: multimethod==1.4 in c:\\users\\ve797\\anaconda4\\lib\\site-packages (from visions[type_image_path]==0.7.1->pandas-profiling>=2.8.0->pycaret) (1.4)\n",
      "Requirement already satisfied: bottleneck in c:\\users\\ve797\\anaconda4\\lib\\site-packages (from visions[type_image_path]==0.7.1->pandas-profiling>=2.8.0->pycaret) (1.3.2)\n",
      "Requirement already satisfied: imagehash in c:\\users\\ve797\\anaconda4\\lib\\site-packages (from visions[type_image_path]==0.7.1->pandas-profiling>=2.8.0->pycaret) (4.2.0)\n",
      "Requirement already satisfied: MarkupSafe>=2.0.0rc2 in c:\\users\\ve797\\anaconda4\\lib\\site-packages (from jinja2>=2.11.1->pandas-profiling>=2.8.0->pycaret) (2.0.1)\n",
      "Requirement already satisfied: retrying>=1.3.3 in c:\\users\\ve797\\anaconda4\\lib\\site-packages (from plotly>=4.4.1->pycaret) (1.3.3)\n",
      "Requirement already satisfied: wcwidth in c:\\users\\ve797\\anaconda4\\lib\\site-packages (from prompt-toolkit!=3.0.0,!=3.0.1,<3.1.0,>=2.0.0->IPython->pycaret) (0.2.5)\n",
      "Requirement already satisfied: typing-extensions>=3.7.4.3 in c:\\users\\ve797\\anaconda4\\lib\\site-packages (from pydantic>=1.8.1->pandas-profiling>=2.8.0->pycaret) (3.7.4.3)\n",
      "Requirement already satisfied: certifi>=2017.4.17 in c:\\users\\ve797\\anaconda4\\lib\\site-packages (from requests>=2.24.0->pandas-profiling>=2.8.0->pycaret) (2020.12.5)\n",
      "Requirement already satisfied: idna<3,>=2.5 in c:\\users\\ve797\\anaconda4\\lib\\site-packages (from requests>=2.24.0->pandas-profiling>=2.8.0->pycaret) (2.10)\n",
      "Requirement already satisfied: urllib3<1.27,>=1.21.1 in c:\\users\\ve797\\anaconda4\\lib\\site-packages (from requests>=2.24.0->pandas-profiling>=2.8.0->pycaret) (1.26.4)\n",
      "Requirement already satisfied: chardet<5,>=3.0.2 in c:\\users\\ve797\\anaconda4\\lib\\site-packages (from requests>=2.24.0->pandas-profiling>=2.8.0->pycaret) (4.0.0)\n",
      "Requirement already satisfied: thinc<7.5.0,>=7.4.1 in c:\\users\\ve797\\anaconda4\\lib\\site-packages (from spacy<2.4.0->pycaret) (7.4.5)\n",
      "Requirement already satisfied: wasabi<1.1.0,>=0.4.0 in c:\\users\\ve797\\anaconda4\\lib\\site-packages (from spacy<2.4.0->pycaret) (0.8.2)\n",
      "Requirement already satisfied: catalogue<1.1.0,>=0.0.7 in c:\\users\\ve797\\anaconda4\\lib\\site-packages (from spacy<2.4.0->pycaret) (1.0.0)\n",
      "Requirement already satisfied: srsly<1.1.0,>=1.0.2 in c:\\users\\ve797\\anaconda4\\lib\\site-packages (from spacy<2.4.0->pycaret) (1.0.5)\n",
      "Requirement already satisfied: blis<0.8.0,>=0.4.0 in c:\\users\\ve797\\anaconda4\\lib\\site-packages (from spacy<2.4.0->pycaret) (0.7.4)\n",
      "Requirement already satisfied: preshed<3.1.0,>=3.0.2 in c:\\users\\ve797\\anaconda4\\lib\\site-packages (from spacy<2.4.0->pycaret) (3.0.5)\n",
      "Requirement already satisfied: cymem<2.1.0,>=2.0.2 in c:\\users\\ve797\\anaconda4\\lib\\site-packages (from spacy<2.4.0->pycaret) (2.0.5)\n",
      "Requirement already satisfied: murmurhash<1.1.0,>=0.28.0 in c:\\users\\ve797\\anaconda4\\lib\\site-packages (from spacy<2.4.0->pycaret) (1.0.5)\n",
      "Requirement already satisfied: plac<1.2.0,>=0.9.6 in c:\\users\\ve797\\anaconda4\\lib\\site-packages (from spacy<2.4.0->pycaret) (1.1.3)\n",
      "Requirement already satisfied: notebook>=4.4.1 in c:\\users\\ve797\\anaconda4\\lib\\site-packages (from widgetsnbextension~=3.5.0->ipywidgets->pycaret) (6.4.0)\n",
      "Requirement already satisfied: argon2-cffi in c:\\users\\ve797\\anaconda4\\lib\\site-packages (from notebook>=4.4.1->widgetsnbextension~=3.5.0->ipywidgets->pycaret) (20.1.0)\n",
      "Requirement already satisfied: prometheus-client in c:\\users\\ve797\\anaconda4\\lib\\site-packages (from notebook>=4.4.1->widgetsnbextension~=3.5.0->ipywidgets->pycaret) (0.10.1)\n",
      "Requirement already satisfied: nbconvert in c:\\users\\ve797\\anaconda4\\lib\\site-packages (from notebook>=4.4.1->widgetsnbextension~=3.5.0->ipywidgets->pycaret) (6.0.7)\n",
      "Requirement already satisfied: terminado>=0.8.3 in c:\\users\\ve797\\anaconda4\\lib\\site-packages (from notebook>=4.4.1->widgetsnbextension~=3.5.0->ipywidgets->pycaret) (0.9.4)\n",
      "Requirement already satisfied: Send2Trash>=1.5.0 in c:\\users\\ve797\\anaconda4\\lib\\site-packages (from notebook>=4.4.1->widgetsnbextension~=3.5.0->ipywidgets->pycaret) (1.5.0)\n",
      "Requirement already satisfied: pyzmq>=17 in c:\\users\\ve797\\anaconda4\\lib\\site-packages (from notebook>=4.4.1->widgetsnbextension~=3.5.0->ipywidgets->pycaret) (20.0.0)\n",
      "Requirement already satisfied: pywin32>=1.0 in c:\\users\\ve797\\anaconda4\\lib\\site-packages (from jupyter-core->nbformat>=4.2.0->ipywidgets->pycaret) (227)\n",
      "Requirement already satisfied: pywinpty>=0.5 in c:\\users\\ve797\\anaconda4\\lib\\site-packages (from terminado>=0.8.3->notebook>=4.4.1->widgetsnbextension~=3.5.0->ipywidgets->pycaret) (0.5.7)\n",
      "Requirement already satisfied: cffi>=1.0.0 in c:\\users\\ve797\\anaconda4\\lib\\site-packages (from argon2-cffi->notebook>=4.4.1->widgetsnbextension~=3.5.0->ipywidgets->pycaret) (1.14.5)\n",
      "Requirement already satisfied: pycparser in c:\\users\\ve797\\anaconda4\\lib\\site-packages (from cffi>=1.0.0->argon2-cffi->notebook>=4.4.1->widgetsnbextension~=3.5.0->ipywidgets->pycaret) (2.20)\n",
      "Requirement already satisfied: PyWavelets in c:\\users\\ve797\\anaconda4\\lib\\site-packages (from imagehash->visions[type_image_path]==0.7.1->pandas-profiling>=2.8.0->pycaret) (1.1.1)\n",
      "Requirement already satisfied: sqlalchemy in c:\\users\\ve797\\anaconda4\\lib\\site-packages (from mlflow->pycaret) (1.4.15)\n",
      "Requirement already satisfied: docker>=4.0.0 in c:\\users\\ve797\\anaconda4\\lib\\site-packages (from mlflow->pycaret) (5.0.0)\n",
      "Requirement already satisfied: protobuf>=3.6.0 in c:\\users\\ve797\\anaconda4\\lib\\site-packages (from mlflow->pycaret) (3.17.1)\n",
      "Requirement already satisfied: sqlparse>=0.3.1 in c:\\users\\ve797\\anaconda4\\lib\\site-packages (from mlflow->pycaret) (0.4.1)\n",
      "Requirement already satisfied: cloudpickle in c:\\users\\ve797\\anaconda4\\lib\\site-packages (from mlflow->pycaret) (1.6.0)\n",
      "Requirement already satisfied: gitpython>=2.1.0 in c:\\users\\ve797\\anaconda4\\lib\\site-packages (from mlflow->pycaret) (3.1.18)\n",
      "Requirement already satisfied: Flask in c:\\users\\ve797\\anaconda4\\lib\\site-packages (from mlflow->pycaret) (1.1.2)\n",
      "Requirement already satisfied: waitress in c:\\users\\ve797\\anaconda4\\lib\\site-packages (from mlflow->pycaret) (2.0.0)\n",
      "Requirement already satisfied: prometheus-flask-exporter in c:\\users\\ve797\\anaconda4\\lib\\site-packages (from mlflow->pycaret) (0.18.2)\n",
      "Requirement already satisfied: querystring-parser in c:\\users\\ve797\\anaconda4\\lib\\site-packages (from mlflow->pycaret) (1.2.4)\n",
      "Requirement already satisfied: click>=7.0 in c:\\users\\ve797\\anaconda4\\lib\\site-packages (from mlflow->pycaret) (8.0.1)\n",
      "Requirement already satisfied: alembic<=1.4.1 in c:\\users\\ve797\\anaconda4\\lib\\site-packages (from mlflow->pycaret) (1.4.1)\n",
      "Requirement already satisfied: databricks-cli>=0.8.7 in c:\\users\\ve797\\anaconda4\\lib\\site-packages (from mlflow->pycaret) (0.14.3)\n",
      "Requirement already satisfied: entrypoints in c:\\users\\ve797\\anaconda4\\lib\\site-packages (from mlflow->pycaret) (0.3)\n",
      "Requirement already satisfied: Mako in c:\\users\\ve797\\anaconda4\\lib\\site-packages (from alembic<=1.4.1->mlflow->pycaret) (1.1.4)\n",
      "Requirement already satisfied: python-editor>=0.3 in c:\\users\\ve797\\anaconda4\\lib\\site-packages (from alembic<=1.4.1->mlflow->pycaret) (1.0.4)\n",
      "Requirement already satisfied: tabulate>=0.7.7 in c:\\users\\ve797\\anaconda4\\lib\\site-packages (from databricks-cli>=0.8.7->mlflow->pycaret) (0.8.9)\n",
      "Requirement already satisfied: websocket-client>=0.32.0 in c:\\users\\ve797\\anaconda4\\lib\\site-packages (from docker>=4.0.0->mlflow->pycaret) (1.0.1)\n",
      "Requirement already satisfied: gitdb<5,>=4.0.1 in c:\\users\\ve797\\anaconda4\\lib\\site-packages (from gitpython>=2.1.0->mlflow->pycaret) (4.0.7)\n",
      "Requirement already satisfied: smmap<5,>=3.0.1 in c:\\users\\ve797\\anaconda4\\lib\\site-packages (from gitdb<5,>=4.0.1->gitpython>=2.1.0->mlflow->pycaret) (4.0.0)\n",
      "Requirement already satisfied: greenlet!=0.4.17 in c:\\users\\ve797\\anaconda4\\lib\\site-packages (from sqlalchemy->mlflow->pycaret) (1.1.0)\n",
      "Requirement already satisfied: itsdangerous>=0.24 in c:\\users\\ve797\\anaconda4\\lib\\site-packages (from Flask->mlflow->pycaret) (2.0.1)\n",
      "Requirement already satisfied: Werkzeug>=0.15 in c:\\users\\ve797\\anaconda4\\lib\\site-packages (from Flask->mlflow->pycaret) (1.0.1)\n",
      "Requirement already satisfied: defusedxml in c:\\users\\ve797\\anaconda4\\lib\\site-packages (from nbconvert->notebook>=4.4.1->widgetsnbextension~=3.5.0->ipywidgets->pycaret) (0.7.1)\n",
      "Requirement already satisfied: jupyterlab-pygments in c:\\users\\ve797\\anaconda4\\lib\\site-packages (from nbconvert->notebook>=4.4.1->widgetsnbextension~=3.5.0->ipywidgets->pycaret) (0.1.2)\n",
      "Requirement already satisfied: bleach in c:\\users\\ve797\\anaconda4\\lib\\site-packages (from nbconvert->notebook>=4.4.1->widgetsnbextension~=3.5.0->ipywidgets->pycaret) (3.3.0)\n",
      "Requirement already satisfied: nbclient<0.6.0,>=0.5.0 in c:\\users\\ve797\\anaconda4\\lib\\site-packages (from nbconvert->notebook>=4.4.1->widgetsnbextension~=3.5.0->ipywidgets->pycaret) (0.5.3)\n",
      "Requirement already satisfied: pandocfilters>=1.4.1 in c:\\users\\ve797\\anaconda4\\lib\\site-packages (from nbconvert->notebook>=4.4.1->widgetsnbextension~=3.5.0->ipywidgets->pycaret) (1.4.3)\n",
      "Requirement already satisfied: mistune<2,>=0.8.1 in c:\\users\\ve797\\anaconda4\\lib\\site-packages (from nbconvert->notebook>=4.4.1->widgetsnbextension~=3.5.0->ipywidgets->pycaret) (0.8.4)\n",
      "Requirement already satisfied: testpath in c:\\users\\ve797\\anaconda4\\lib\\site-packages (from nbconvert->notebook>=4.4.1->widgetsnbextension~=3.5.0->ipywidgets->pycaret) (0.4.4)\n",
      "Requirement already satisfied: async-generator in c:\\users\\ve797\\anaconda4\\lib\\site-packages (from nbclient<0.6.0,>=0.5.0->nbconvert->notebook>=4.4.1->widgetsnbextension~=3.5.0->ipywidgets->pycaret) (1.10)\n",
      "Requirement already satisfied: nest-asyncio in c:\\users\\ve797\\anaconda4\\lib\\site-packages (from nbclient<0.6.0,>=0.5.0->nbconvert->notebook>=4.4.1->widgetsnbextension~=3.5.0->ipywidgets->pycaret) (1.5.1)\n",
      "Requirement already satisfied: webencodings in c:\\users\\ve797\\anaconda4\\lib\\site-packages (from bleach->nbconvert->notebook>=4.4.1->widgetsnbextension~=3.5.0->ipywidgets->pycaret) (0.5.1)\n",
      "Requirement already satisfied: packaging in c:\\users\\ve797\\anaconda4\\lib\\site-packages (from bleach->nbconvert->notebook>=4.4.1->widgetsnbextension~=3.5.0->ipywidgets->pycaret) (20.9)\n",
      "Requirement already satisfied: regex in c:\\users\\ve797\\anaconda4\\lib\\site-packages (from nltk->pycaret) (2021.4.4)\n",
      "Requirement already satisfied: numexpr in c:\\users\\ve797\\anaconda4\\lib\\site-packages (from pyLDAvis->pycaret) (2.7.3)\n",
      "Requirement already satisfied: funcy in c:\\users\\ve797\\anaconda4\\lib\\site-packages (from pyLDAvis->pycaret) (1.16)\n",
      "Requirement already satisfied: future in c:\\users\\ve797\\anaconda4\\lib\\site-packages (from pyLDAvis->pycaret) (0.18.2)\n",
      "Requirement already satisfied: statsmodels in c:\\users\\ve797\\anaconda4\\lib\\site-packages (from pyod->pycaret) (0.12.2)\n",
      "Requirement already satisfied: numba>=0.35 in c:\\users\\ve797\\anaconda4\\lib\\site-packages (from pyod->pycaret) (0.53.1)\n",
      "Requirement already satisfied: llvmlite<0.37,>=0.36.0rc1 in c:\\users\\ve797\\anaconda4\\lib\\site-packages (from numba>=0.35->pyod->pycaret) (0.36.0)\n",
      "Requirement already satisfied: patsy>=0.5 in c:\\users\\ve797\\anaconda4\\lib\\site-packages (from statsmodels->pyod->pycaret) (0.5.1)\n",
      "Requirement already satisfied: pynndescent>=0.5 in c:\\users\\ve797\\anaconda4\\lib\\site-packages (from umap-learn->pycaret) (0.5.2)\n"
     ]
    }
   ],
   "source": [
    "# method 2 - Doing Auto ML with PyCaret\n",
    "!pip install pycaret --upgrade"
   ]
  },
  {
   "cell_type": "code",
   "execution_count": 102,
   "id": "5db2d4ba",
   "metadata": {},
   "outputs": [],
   "source": [
    "#To import all Classification related Pycaret libraries\n",
    "from pycaret.classification import *"
   ]
  },
  {
   "cell_type": "code",
   "execution_count": 109,
   "id": "d2ce06db",
   "metadata": {},
   "outputs": [
    {
     "data": {
      "text/html": [
       "<style  type=\"text/css\" >\n",
       "#T_3fd31_row44_col1{\n",
       "            background-color:  lightgreen;\n",
       "        }</style><table id=\"T_3fd31_\" ><thead>    <tr>        <th class=\"blank level0\" ></th>        <th class=\"col_heading level0 col0\" >Description</th>        <th class=\"col_heading level0 col1\" >Value</th>    </tr></thead><tbody>\n",
       "                <tr>\n",
       "                        <th id=\"T_3fd31_level0_row0\" class=\"row_heading level0 row0\" >0</th>\n",
       "                        <td id=\"T_3fd31_row0_col0\" class=\"data row0 col0\" >session_id</td>\n",
       "                        <td id=\"T_3fd31_row0_col1\" class=\"data row0 col1\" >4761</td>\n",
       "            </tr>\n",
       "            <tr>\n",
       "                        <th id=\"T_3fd31_level0_row1\" class=\"row_heading level0 row1\" >1</th>\n",
       "                        <td id=\"T_3fd31_row1_col0\" class=\"data row1 col0\" >Target</td>\n",
       "                        <td id=\"T_3fd31_row1_col1\" class=\"data row1 col1\" >donor_ind</td>\n",
       "            </tr>\n",
       "            <tr>\n",
       "                        <th id=\"T_3fd31_level0_row2\" class=\"row_heading level0 row2\" >2</th>\n",
       "                        <td id=\"T_3fd31_row2_col0\" class=\"data row2 col0\" >Target Type</td>\n",
       "                        <td id=\"T_3fd31_row2_col1\" class=\"data row2 col1\" >Binary</td>\n",
       "            </tr>\n",
       "            <tr>\n",
       "                        <th id=\"T_3fd31_level0_row3\" class=\"row_heading level0 row3\" >3</th>\n",
       "                        <td id=\"T_3fd31_row3_col0\" class=\"data row3 col0\" >Label Encoded</td>\n",
       "                        <td id=\"T_3fd31_row3_col1\" class=\"data row3 col1\" >0: 0, 1: 1</td>\n",
       "            </tr>\n",
       "            <tr>\n",
       "                        <th id=\"T_3fd31_level0_row4\" class=\"row_heading level0 row4\" >4</th>\n",
       "                        <td id=\"T_3fd31_row4_col0\" class=\"data row4 col0\" >Original Data</td>\n",
       "                        <td id=\"T_3fd31_row4_col1\" class=\"data row4 col1\" >(14196, 14)</td>\n",
       "            </tr>\n",
       "            <tr>\n",
       "                        <th id=\"T_3fd31_level0_row5\" class=\"row_heading level0 row5\" >5</th>\n",
       "                        <td id=\"T_3fd31_row5_col0\" class=\"data row5 col0\" >Missing Values</td>\n",
       "                        <td id=\"T_3fd31_row5_col1\" class=\"data row5 col1\" >False</td>\n",
       "            </tr>\n",
       "            <tr>\n",
       "                        <th id=\"T_3fd31_level0_row6\" class=\"row_heading level0 row6\" >6</th>\n",
       "                        <td id=\"T_3fd31_row6_col0\" class=\"data row6 col0\" >Numeric Features</td>\n",
       "                        <td id=\"T_3fd31_row6_col1\" class=\"data row6 col1\" >1</td>\n",
       "            </tr>\n",
       "            <tr>\n",
       "                        <th id=\"T_3fd31_level0_row7\" class=\"row_heading level0 row7\" >7</th>\n",
       "                        <td id=\"T_3fd31_row7_col0\" class=\"data row7 col0\" >Categorical Features</td>\n",
       "                        <td id=\"T_3fd31_row7_col1\" class=\"data row7 col1\" >12</td>\n",
       "            </tr>\n",
       "            <tr>\n",
       "                        <th id=\"T_3fd31_level0_row8\" class=\"row_heading level0 row8\" >8</th>\n",
       "                        <td id=\"T_3fd31_row8_col0\" class=\"data row8 col0\" >Ordinal Features</td>\n",
       "                        <td id=\"T_3fd31_row8_col1\" class=\"data row8 col1\" >False</td>\n",
       "            </tr>\n",
       "            <tr>\n",
       "                        <th id=\"T_3fd31_level0_row9\" class=\"row_heading level0 row9\" >9</th>\n",
       "                        <td id=\"T_3fd31_row9_col0\" class=\"data row9 col0\" >High Cardinality Features</td>\n",
       "                        <td id=\"T_3fd31_row9_col1\" class=\"data row9 col1\" >False</td>\n",
       "            </tr>\n",
       "            <tr>\n",
       "                        <th id=\"T_3fd31_level0_row10\" class=\"row_heading level0 row10\" >10</th>\n",
       "                        <td id=\"T_3fd31_row10_col0\" class=\"data row10 col0\" >High Cardinality Method</td>\n",
       "                        <td id=\"T_3fd31_row10_col1\" class=\"data row10 col1\" >None</td>\n",
       "            </tr>\n",
       "            <tr>\n",
       "                        <th id=\"T_3fd31_level0_row11\" class=\"row_heading level0 row11\" >11</th>\n",
       "                        <td id=\"T_3fd31_row11_col0\" class=\"data row11 col0\" >Transformed Train Set</td>\n",
       "                        <td id=\"T_3fd31_row11_col1\" class=\"data row11 col1\" >(9937, 18)</td>\n",
       "            </tr>\n",
       "            <tr>\n",
       "                        <th id=\"T_3fd31_level0_row12\" class=\"row_heading level0 row12\" >12</th>\n",
       "                        <td id=\"T_3fd31_row12_col0\" class=\"data row12 col0\" >Transformed Test Set</td>\n",
       "                        <td id=\"T_3fd31_row12_col1\" class=\"data row12 col1\" >(4259, 18)</td>\n",
       "            </tr>\n",
       "            <tr>\n",
       "                        <th id=\"T_3fd31_level0_row13\" class=\"row_heading level0 row13\" >13</th>\n",
       "                        <td id=\"T_3fd31_row13_col0\" class=\"data row13 col0\" >Shuffle Train-Test</td>\n",
       "                        <td id=\"T_3fd31_row13_col1\" class=\"data row13 col1\" >True</td>\n",
       "            </tr>\n",
       "            <tr>\n",
       "                        <th id=\"T_3fd31_level0_row14\" class=\"row_heading level0 row14\" >14</th>\n",
       "                        <td id=\"T_3fd31_row14_col0\" class=\"data row14 col0\" >Stratify Train-Test</td>\n",
       "                        <td id=\"T_3fd31_row14_col1\" class=\"data row14 col1\" >False</td>\n",
       "            </tr>\n",
       "            <tr>\n",
       "                        <th id=\"T_3fd31_level0_row15\" class=\"row_heading level0 row15\" >15</th>\n",
       "                        <td id=\"T_3fd31_row15_col0\" class=\"data row15 col0\" >Fold Generator</td>\n",
       "                        <td id=\"T_3fd31_row15_col1\" class=\"data row15 col1\" >StratifiedKFold</td>\n",
       "            </tr>\n",
       "            <tr>\n",
       "                        <th id=\"T_3fd31_level0_row16\" class=\"row_heading level0 row16\" >16</th>\n",
       "                        <td id=\"T_3fd31_row16_col0\" class=\"data row16 col0\" >Fold Number</td>\n",
       "                        <td id=\"T_3fd31_row16_col1\" class=\"data row16 col1\" >10</td>\n",
       "            </tr>\n",
       "            <tr>\n",
       "                        <th id=\"T_3fd31_level0_row17\" class=\"row_heading level0 row17\" >17</th>\n",
       "                        <td id=\"T_3fd31_row17_col0\" class=\"data row17 col0\" >CPU Jobs</td>\n",
       "                        <td id=\"T_3fd31_row17_col1\" class=\"data row17 col1\" >-1</td>\n",
       "            </tr>\n",
       "            <tr>\n",
       "                        <th id=\"T_3fd31_level0_row18\" class=\"row_heading level0 row18\" >18</th>\n",
       "                        <td id=\"T_3fd31_row18_col0\" class=\"data row18 col0\" >Use GPU</td>\n",
       "                        <td id=\"T_3fd31_row18_col1\" class=\"data row18 col1\" >False</td>\n",
       "            </tr>\n",
       "            <tr>\n",
       "                        <th id=\"T_3fd31_level0_row19\" class=\"row_heading level0 row19\" >19</th>\n",
       "                        <td id=\"T_3fd31_row19_col0\" class=\"data row19 col0\" >Log Experiment</td>\n",
       "                        <td id=\"T_3fd31_row19_col1\" class=\"data row19 col1\" >False</td>\n",
       "            </tr>\n",
       "            <tr>\n",
       "                        <th id=\"T_3fd31_level0_row20\" class=\"row_heading level0 row20\" >20</th>\n",
       "                        <td id=\"T_3fd31_row20_col0\" class=\"data row20 col0\" >Experiment Name</td>\n",
       "                        <td id=\"T_3fd31_row20_col1\" class=\"data row20 col1\" >clf-default-name</td>\n",
       "            </tr>\n",
       "            <tr>\n",
       "                        <th id=\"T_3fd31_level0_row21\" class=\"row_heading level0 row21\" >21</th>\n",
       "                        <td id=\"T_3fd31_row21_col0\" class=\"data row21 col0\" >USI</td>\n",
       "                        <td id=\"T_3fd31_row21_col1\" class=\"data row21 col1\" >e7e7</td>\n",
       "            </tr>\n",
       "            <tr>\n",
       "                        <th id=\"T_3fd31_level0_row22\" class=\"row_heading level0 row22\" >22</th>\n",
       "                        <td id=\"T_3fd31_row22_col0\" class=\"data row22 col0\" >Imputation Type</td>\n",
       "                        <td id=\"T_3fd31_row22_col1\" class=\"data row22 col1\" >simple</td>\n",
       "            </tr>\n",
       "            <tr>\n",
       "                        <th id=\"T_3fd31_level0_row23\" class=\"row_heading level0 row23\" >23</th>\n",
       "                        <td id=\"T_3fd31_row23_col0\" class=\"data row23 col0\" >Iterative Imputation Iteration</td>\n",
       "                        <td id=\"T_3fd31_row23_col1\" class=\"data row23 col1\" >None</td>\n",
       "            </tr>\n",
       "            <tr>\n",
       "                        <th id=\"T_3fd31_level0_row24\" class=\"row_heading level0 row24\" >24</th>\n",
       "                        <td id=\"T_3fd31_row24_col0\" class=\"data row24 col0\" >Numeric Imputer</td>\n",
       "                        <td id=\"T_3fd31_row24_col1\" class=\"data row24 col1\" >mean</td>\n",
       "            </tr>\n",
       "            <tr>\n",
       "                        <th id=\"T_3fd31_level0_row25\" class=\"row_heading level0 row25\" >25</th>\n",
       "                        <td id=\"T_3fd31_row25_col0\" class=\"data row25 col0\" >Iterative Imputation Numeric Model</td>\n",
       "                        <td id=\"T_3fd31_row25_col1\" class=\"data row25 col1\" >None</td>\n",
       "            </tr>\n",
       "            <tr>\n",
       "                        <th id=\"T_3fd31_level0_row26\" class=\"row_heading level0 row26\" >26</th>\n",
       "                        <td id=\"T_3fd31_row26_col0\" class=\"data row26 col0\" >Categorical Imputer</td>\n",
       "                        <td id=\"T_3fd31_row26_col1\" class=\"data row26 col1\" >constant</td>\n",
       "            </tr>\n",
       "            <tr>\n",
       "                        <th id=\"T_3fd31_level0_row27\" class=\"row_heading level0 row27\" >27</th>\n",
       "                        <td id=\"T_3fd31_row27_col0\" class=\"data row27 col0\" >Iterative Imputation Categorical Model</td>\n",
       "                        <td id=\"T_3fd31_row27_col1\" class=\"data row27 col1\" >None</td>\n",
       "            </tr>\n",
       "            <tr>\n",
       "                        <th id=\"T_3fd31_level0_row28\" class=\"row_heading level0 row28\" >28</th>\n",
       "                        <td id=\"T_3fd31_row28_col0\" class=\"data row28 col0\" >Unknown Categoricals Handling</td>\n",
       "                        <td id=\"T_3fd31_row28_col1\" class=\"data row28 col1\" >least_frequent</td>\n",
       "            </tr>\n",
       "            <tr>\n",
       "                        <th id=\"T_3fd31_level0_row29\" class=\"row_heading level0 row29\" >29</th>\n",
       "                        <td id=\"T_3fd31_row29_col0\" class=\"data row29 col0\" >Normalize</td>\n",
       "                        <td id=\"T_3fd31_row29_col1\" class=\"data row29 col1\" >False</td>\n",
       "            </tr>\n",
       "            <tr>\n",
       "                        <th id=\"T_3fd31_level0_row30\" class=\"row_heading level0 row30\" >30</th>\n",
       "                        <td id=\"T_3fd31_row30_col0\" class=\"data row30 col0\" >Normalize Method</td>\n",
       "                        <td id=\"T_3fd31_row30_col1\" class=\"data row30 col1\" >None</td>\n",
       "            </tr>\n",
       "            <tr>\n",
       "                        <th id=\"T_3fd31_level0_row31\" class=\"row_heading level0 row31\" >31</th>\n",
       "                        <td id=\"T_3fd31_row31_col0\" class=\"data row31 col0\" >Transformation</td>\n",
       "                        <td id=\"T_3fd31_row31_col1\" class=\"data row31 col1\" >False</td>\n",
       "            </tr>\n",
       "            <tr>\n",
       "                        <th id=\"T_3fd31_level0_row32\" class=\"row_heading level0 row32\" >32</th>\n",
       "                        <td id=\"T_3fd31_row32_col0\" class=\"data row32 col0\" >Transformation Method</td>\n",
       "                        <td id=\"T_3fd31_row32_col1\" class=\"data row32 col1\" >None</td>\n",
       "            </tr>\n",
       "            <tr>\n",
       "                        <th id=\"T_3fd31_level0_row33\" class=\"row_heading level0 row33\" >33</th>\n",
       "                        <td id=\"T_3fd31_row33_col0\" class=\"data row33 col0\" >PCA</td>\n",
       "                        <td id=\"T_3fd31_row33_col1\" class=\"data row33 col1\" >False</td>\n",
       "            </tr>\n",
       "            <tr>\n",
       "                        <th id=\"T_3fd31_level0_row34\" class=\"row_heading level0 row34\" >34</th>\n",
       "                        <td id=\"T_3fd31_row34_col0\" class=\"data row34 col0\" >PCA Method</td>\n",
       "                        <td id=\"T_3fd31_row34_col1\" class=\"data row34 col1\" >None</td>\n",
       "            </tr>\n",
       "            <tr>\n",
       "                        <th id=\"T_3fd31_level0_row35\" class=\"row_heading level0 row35\" >35</th>\n",
       "                        <td id=\"T_3fd31_row35_col0\" class=\"data row35 col0\" >PCA Components</td>\n",
       "                        <td id=\"T_3fd31_row35_col1\" class=\"data row35 col1\" >None</td>\n",
       "            </tr>\n",
       "            <tr>\n",
       "                        <th id=\"T_3fd31_level0_row36\" class=\"row_heading level0 row36\" >36</th>\n",
       "                        <td id=\"T_3fd31_row36_col0\" class=\"data row36 col0\" >Ignore Low Variance</td>\n",
       "                        <td id=\"T_3fd31_row36_col1\" class=\"data row36 col1\" >False</td>\n",
       "            </tr>\n",
       "            <tr>\n",
       "                        <th id=\"T_3fd31_level0_row37\" class=\"row_heading level0 row37\" >37</th>\n",
       "                        <td id=\"T_3fd31_row37_col0\" class=\"data row37 col0\" >Combine Rare Levels</td>\n",
       "                        <td id=\"T_3fd31_row37_col1\" class=\"data row37 col1\" >False</td>\n",
       "            </tr>\n",
       "            <tr>\n",
       "                        <th id=\"T_3fd31_level0_row38\" class=\"row_heading level0 row38\" >38</th>\n",
       "                        <td id=\"T_3fd31_row38_col0\" class=\"data row38 col0\" >Rare Level Threshold</td>\n",
       "                        <td id=\"T_3fd31_row38_col1\" class=\"data row38 col1\" >None</td>\n",
       "            </tr>\n",
       "            <tr>\n",
       "                        <th id=\"T_3fd31_level0_row39\" class=\"row_heading level0 row39\" >39</th>\n",
       "                        <td id=\"T_3fd31_row39_col0\" class=\"data row39 col0\" >Numeric Binning</td>\n",
       "                        <td id=\"T_3fd31_row39_col1\" class=\"data row39 col1\" >False</td>\n",
       "            </tr>\n",
       "            <tr>\n",
       "                        <th id=\"T_3fd31_level0_row40\" class=\"row_heading level0 row40\" >40</th>\n",
       "                        <td id=\"T_3fd31_row40_col0\" class=\"data row40 col0\" >Remove Outliers</td>\n",
       "                        <td id=\"T_3fd31_row40_col1\" class=\"data row40 col1\" >False</td>\n",
       "            </tr>\n",
       "            <tr>\n",
       "                        <th id=\"T_3fd31_level0_row41\" class=\"row_heading level0 row41\" >41</th>\n",
       "                        <td id=\"T_3fd31_row41_col0\" class=\"data row41 col0\" >Outliers Threshold</td>\n",
       "                        <td id=\"T_3fd31_row41_col1\" class=\"data row41 col1\" >None</td>\n",
       "            </tr>\n",
       "            <tr>\n",
       "                        <th id=\"T_3fd31_level0_row42\" class=\"row_heading level0 row42\" >42</th>\n",
       "                        <td id=\"T_3fd31_row42_col0\" class=\"data row42 col0\" >Remove Multicollinearity</td>\n",
       "                        <td id=\"T_3fd31_row42_col1\" class=\"data row42 col1\" >False</td>\n",
       "            </tr>\n",
       "            <tr>\n",
       "                        <th id=\"T_3fd31_level0_row43\" class=\"row_heading level0 row43\" >43</th>\n",
       "                        <td id=\"T_3fd31_row43_col0\" class=\"data row43 col0\" >Multicollinearity Threshold</td>\n",
       "                        <td id=\"T_3fd31_row43_col1\" class=\"data row43 col1\" >None</td>\n",
       "            </tr>\n",
       "            <tr>\n",
       "                        <th id=\"T_3fd31_level0_row44\" class=\"row_heading level0 row44\" >44</th>\n",
       "                        <td id=\"T_3fd31_row44_col0\" class=\"data row44 col0\" >Remove Perfect Collinearity</td>\n",
       "                        <td id=\"T_3fd31_row44_col1\" class=\"data row44 col1\" >True</td>\n",
       "            </tr>\n",
       "            <tr>\n",
       "                        <th id=\"T_3fd31_level0_row45\" class=\"row_heading level0 row45\" >45</th>\n",
       "                        <td id=\"T_3fd31_row45_col0\" class=\"data row45 col0\" >Clustering</td>\n",
       "                        <td id=\"T_3fd31_row45_col1\" class=\"data row45 col1\" >False</td>\n",
       "            </tr>\n",
       "            <tr>\n",
       "                        <th id=\"T_3fd31_level0_row46\" class=\"row_heading level0 row46\" >46</th>\n",
       "                        <td id=\"T_3fd31_row46_col0\" class=\"data row46 col0\" >Clustering Iteration</td>\n",
       "                        <td id=\"T_3fd31_row46_col1\" class=\"data row46 col1\" >None</td>\n",
       "            </tr>\n",
       "            <tr>\n",
       "                        <th id=\"T_3fd31_level0_row47\" class=\"row_heading level0 row47\" >47</th>\n",
       "                        <td id=\"T_3fd31_row47_col0\" class=\"data row47 col0\" >Polynomial Features</td>\n",
       "                        <td id=\"T_3fd31_row47_col1\" class=\"data row47 col1\" >False</td>\n",
       "            </tr>\n",
       "            <tr>\n",
       "                        <th id=\"T_3fd31_level0_row48\" class=\"row_heading level0 row48\" >48</th>\n",
       "                        <td id=\"T_3fd31_row48_col0\" class=\"data row48 col0\" >Polynomial Degree</td>\n",
       "                        <td id=\"T_3fd31_row48_col1\" class=\"data row48 col1\" >None</td>\n",
       "            </tr>\n",
       "            <tr>\n",
       "                        <th id=\"T_3fd31_level0_row49\" class=\"row_heading level0 row49\" >49</th>\n",
       "                        <td id=\"T_3fd31_row49_col0\" class=\"data row49 col0\" >Trignometry Features</td>\n",
       "                        <td id=\"T_3fd31_row49_col1\" class=\"data row49 col1\" >False</td>\n",
       "            </tr>\n",
       "            <tr>\n",
       "                        <th id=\"T_3fd31_level0_row50\" class=\"row_heading level0 row50\" >50</th>\n",
       "                        <td id=\"T_3fd31_row50_col0\" class=\"data row50 col0\" >Polynomial Threshold</td>\n",
       "                        <td id=\"T_3fd31_row50_col1\" class=\"data row50 col1\" >None</td>\n",
       "            </tr>\n",
       "            <tr>\n",
       "                        <th id=\"T_3fd31_level0_row51\" class=\"row_heading level0 row51\" >51</th>\n",
       "                        <td id=\"T_3fd31_row51_col0\" class=\"data row51 col0\" >Group Features</td>\n",
       "                        <td id=\"T_3fd31_row51_col1\" class=\"data row51 col1\" >False</td>\n",
       "            </tr>\n",
       "            <tr>\n",
       "                        <th id=\"T_3fd31_level0_row52\" class=\"row_heading level0 row52\" >52</th>\n",
       "                        <td id=\"T_3fd31_row52_col0\" class=\"data row52 col0\" >Feature Selection</td>\n",
       "                        <td id=\"T_3fd31_row52_col1\" class=\"data row52 col1\" >False</td>\n",
       "            </tr>\n",
       "            <tr>\n",
       "                        <th id=\"T_3fd31_level0_row53\" class=\"row_heading level0 row53\" >53</th>\n",
       "                        <td id=\"T_3fd31_row53_col0\" class=\"data row53 col0\" >Feature Selection Method</td>\n",
       "                        <td id=\"T_3fd31_row53_col1\" class=\"data row53 col1\" >classic</td>\n",
       "            </tr>\n",
       "            <tr>\n",
       "                        <th id=\"T_3fd31_level0_row54\" class=\"row_heading level0 row54\" >54</th>\n",
       "                        <td id=\"T_3fd31_row54_col0\" class=\"data row54 col0\" >Features Selection Threshold</td>\n",
       "                        <td id=\"T_3fd31_row54_col1\" class=\"data row54 col1\" >None</td>\n",
       "            </tr>\n",
       "            <tr>\n",
       "                        <th id=\"T_3fd31_level0_row55\" class=\"row_heading level0 row55\" >55</th>\n",
       "                        <td id=\"T_3fd31_row55_col0\" class=\"data row55 col0\" >Feature Interaction</td>\n",
       "                        <td id=\"T_3fd31_row55_col1\" class=\"data row55 col1\" >False</td>\n",
       "            </tr>\n",
       "            <tr>\n",
       "                        <th id=\"T_3fd31_level0_row56\" class=\"row_heading level0 row56\" >56</th>\n",
       "                        <td id=\"T_3fd31_row56_col0\" class=\"data row56 col0\" >Feature Ratio</td>\n",
       "                        <td id=\"T_3fd31_row56_col1\" class=\"data row56 col1\" >False</td>\n",
       "            </tr>\n",
       "            <tr>\n",
       "                        <th id=\"T_3fd31_level0_row57\" class=\"row_heading level0 row57\" >57</th>\n",
       "                        <td id=\"T_3fd31_row57_col0\" class=\"data row57 col0\" >Interaction Threshold</td>\n",
       "                        <td id=\"T_3fd31_row57_col1\" class=\"data row57 col1\" >None</td>\n",
       "            </tr>\n",
       "            <tr>\n",
       "                        <th id=\"T_3fd31_level0_row58\" class=\"row_heading level0 row58\" >58</th>\n",
       "                        <td id=\"T_3fd31_row58_col0\" class=\"data row58 col0\" >Fix Imbalance</td>\n",
       "                        <td id=\"T_3fd31_row58_col1\" class=\"data row58 col1\" >False</td>\n",
       "            </tr>\n",
       "            <tr>\n",
       "                        <th id=\"T_3fd31_level0_row59\" class=\"row_heading level0 row59\" >59</th>\n",
       "                        <td id=\"T_3fd31_row59_col0\" class=\"data row59 col0\" >Fix Imbalance Method</td>\n",
       "                        <td id=\"T_3fd31_row59_col1\" class=\"data row59 col1\" >SMOTE</td>\n",
       "            </tr>\n",
       "    </tbody></table>"
      ],
      "text/plain": [
       "<pandas.io.formats.style.Styler at 0x205b71eb9d0>"
      ]
     },
     "metadata": {},
     "output_type": "display_data"
    }
   ],
   "source": [
    "# Setting up the classification ML experiment\n",
    "classification_model_setup = setup(df2,  target = 'donor_ind',  categorical_features= cat_cols, train_size = 0.7)"
   ]
  },
  {
   "cell_type": "code",
   "execution_count": 104,
   "id": "efb13d6c",
   "metadata": {},
   "outputs": [
    {
     "data": {
      "text/html": [
       "<style  type=\"text/css\" >\n",
       "    #T_aa5f0_ th {\n",
       "          text-align: left;\n",
       "    }#T_aa5f0_row0_col0,#T_aa5f0_row1_col0,#T_aa5f0_row2_col0,#T_aa5f0_row2_col2,#T_aa5f0_row3_col0,#T_aa5f0_row4_col0,#T_aa5f0_row5_col0,#T_aa5f0_row6_col0,#T_aa5f0_row7_col0,#T_aa5f0_row8_col0,#T_aa5f0_row8_col1,#T_aa5f0_row8_col2,#T_aa5f0_row8_col3,#T_aa5f0_row8_col5,#T_aa5f0_row8_col6,#T_aa5f0_row8_col7,#T_aa5f0_row9_col0,#T_aa5f0_row9_col1,#T_aa5f0_row9_col4,#T_aa5f0_row9_col5,#T_aa5f0_row9_col6,#T_aa5f0_row9_col7,#T_aa5f0_row10_col0,#T_aa5f0_row10_col1,#T_aa5f0_row10_col3,#T_aa5f0_row10_col4,#T_aa5f0_row10_col5,#T_aa5f0_row10_col6,#T_aa5f0_row10_col7,#T_aa5f0_row11_col0,#T_aa5f0_row11_col1,#T_aa5f0_row11_col2,#T_aa5f0_row11_col3,#T_aa5f0_row11_col5,#T_aa5f0_row11_col6,#T_aa5f0_row11_col7,#T_aa5f0_row12_col0,#T_aa5f0_row12_col1,#T_aa5f0_row12_col2,#T_aa5f0_row12_col3,#T_aa5f0_row12_col5,#T_aa5f0_row12_col6,#T_aa5f0_row12_col7,#T_aa5f0_row13_col0,#T_aa5f0_row13_col1,#T_aa5f0_row13_col2,#T_aa5f0_row13_col3,#T_aa5f0_row13_col4,#T_aa5f0_row13_col5,#T_aa5f0_row13_col6,#T_aa5f0_row13_col7{\n",
       "            text-align:  left;\n",
       "            text-align:  left;\n",
       "        }#T_aa5f0_row0_col1,#T_aa5f0_row0_col2,#T_aa5f0_row0_col3,#T_aa5f0_row0_col4,#T_aa5f0_row0_col5,#T_aa5f0_row0_col6,#T_aa5f0_row0_col7,#T_aa5f0_row1_col1,#T_aa5f0_row1_col2,#T_aa5f0_row1_col3,#T_aa5f0_row1_col4,#T_aa5f0_row1_col5,#T_aa5f0_row1_col6,#T_aa5f0_row1_col7,#T_aa5f0_row2_col1,#T_aa5f0_row2_col3,#T_aa5f0_row2_col4,#T_aa5f0_row2_col5,#T_aa5f0_row2_col6,#T_aa5f0_row2_col7,#T_aa5f0_row3_col1,#T_aa5f0_row3_col2,#T_aa5f0_row3_col3,#T_aa5f0_row3_col4,#T_aa5f0_row3_col5,#T_aa5f0_row3_col6,#T_aa5f0_row3_col7,#T_aa5f0_row4_col1,#T_aa5f0_row4_col2,#T_aa5f0_row4_col3,#T_aa5f0_row4_col4,#T_aa5f0_row4_col5,#T_aa5f0_row4_col6,#T_aa5f0_row4_col7,#T_aa5f0_row5_col1,#T_aa5f0_row5_col2,#T_aa5f0_row5_col3,#T_aa5f0_row5_col4,#T_aa5f0_row5_col5,#T_aa5f0_row5_col6,#T_aa5f0_row5_col7,#T_aa5f0_row6_col1,#T_aa5f0_row6_col2,#T_aa5f0_row6_col3,#T_aa5f0_row6_col4,#T_aa5f0_row6_col5,#T_aa5f0_row6_col6,#T_aa5f0_row6_col7,#T_aa5f0_row7_col1,#T_aa5f0_row7_col2,#T_aa5f0_row7_col3,#T_aa5f0_row7_col4,#T_aa5f0_row7_col5,#T_aa5f0_row7_col6,#T_aa5f0_row7_col7,#T_aa5f0_row8_col4,#T_aa5f0_row9_col2,#T_aa5f0_row9_col3,#T_aa5f0_row10_col2,#T_aa5f0_row11_col4,#T_aa5f0_row12_col4{\n",
       "            text-align:  left;\n",
       "            text-align:  left;\n",
       "            background-color:  yellow;\n",
       "        }#T_aa5f0_row0_col8,#T_aa5f0_row2_col8,#T_aa5f0_row3_col8,#T_aa5f0_row5_col8,#T_aa5f0_row6_col8,#T_aa5f0_row7_col8,#T_aa5f0_row8_col8,#T_aa5f0_row10_col8,#T_aa5f0_row11_col8,#T_aa5f0_row12_col8,#T_aa5f0_row13_col8{\n",
       "            text-align:  left;\n",
       "            text-align:  left;\n",
       "            background-color:  lightgrey;\n",
       "        }#T_aa5f0_row1_col8,#T_aa5f0_row4_col8,#T_aa5f0_row9_col8{\n",
       "            text-align:  left;\n",
       "            text-align:  left;\n",
       "            background-color:  yellow;\n",
       "            background-color:  lightgrey;\n",
       "        }</style><table id=\"T_aa5f0_\" ><thead>    <tr>        <th class=\"blank level0\" ></th>        <th class=\"col_heading level0 col0\" >Model</th>        <th class=\"col_heading level0 col1\" >Accuracy</th>        <th class=\"col_heading level0 col2\" >AUC</th>        <th class=\"col_heading level0 col3\" >Recall</th>        <th class=\"col_heading level0 col4\" >Prec.</th>        <th class=\"col_heading level0 col5\" >F1</th>        <th class=\"col_heading level0 col6\" >Kappa</th>        <th class=\"col_heading level0 col7\" >MCC</th>        <th class=\"col_heading level0 col8\" >TT (Sec)</th>    </tr></thead><tbody>\n",
       "                <tr>\n",
       "                        <th id=\"T_aa5f0_level0_row0\" class=\"row_heading level0 row0\" >lr</th>\n",
       "                        <td id=\"T_aa5f0_row0_col0\" class=\"data row0 col0\" >Logistic Regression</td>\n",
       "                        <td id=\"T_aa5f0_row0_col1\" class=\"data row0 col1\" >1.0000</td>\n",
       "                        <td id=\"T_aa5f0_row0_col2\" class=\"data row0 col2\" >1.0000</td>\n",
       "                        <td id=\"T_aa5f0_row0_col3\" class=\"data row0 col3\" >1.0000</td>\n",
       "                        <td id=\"T_aa5f0_row0_col4\" class=\"data row0 col4\" >1.0000</td>\n",
       "                        <td id=\"T_aa5f0_row0_col5\" class=\"data row0 col5\" >1.0000</td>\n",
       "                        <td id=\"T_aa5f0_row0_col6\" class=\"data row0 col6\" >1.0000</td>\n",
       "                        <td id=\"T_aa5f0_row0_col7\" class=\"data row0 col7\" >1.0000</td>\n",
       "                        <td id=\"T_aa5f0_row0_col8\" class=\"data row0 col8\" >0.6060</td>\n",
       "            </tr>\n",
       "            <tr>\n",
       "                        <th id=\"T_aa5f0_level0_row1\" class=\"row_heading level0 row1\" >dt</th>\n",
       "                        <td id=\"T_aa5f0_row1_col0\" class=\"data row1 col0\" >Decision Tree Classifier</td>\n",
       "                        <td id=\"T_aa5f0_row1_col1\" class=\"data row1 col1\" >1.0000</td>\n",
       "                        <td id=\"T_aa5f0_row1_col2\" class=\"data row1 col2\" >1.0000</td>\n",
       "                        <td id=\"T_aa5f0_row1_col3\" class=\"data row1 col3\" >1.0000</td>\n",
       "                        <td id=\"T_aa5f0_row1_col4\" class=\"data row1 col4\" >1.0000</td>\n",
       "                        <td id=\"T_aa5f0_row1_col5\" class=\"data row1 col5\" >1.0000</td>\n",
       "                        <td id=\"T_aa5f0_row1_col6\" class=\"data row1 col6\" >1.0000</td>\n",
       "                        <td id=\"T_aa5f0_row1_col7\" class=\"data row1 col7\" >1.0000</td>\n",
       "                        <td id=\"T_aa5f0_row1_col8\" class=\"data row1 col8\" >0.0080</td>\n",
       "            </tr>\n",
       "            <tr>\n",
       "                        <th id=\"T_aa5f0_level0_row2\" class=\"row_heading level0 row2\" >svm</th>\n",
       "                        <td id=\"T_aa5f0_row2_col0\" class=\"data row2 col0\" >SVM - Linear Kernel</td>\n",
       "                        <td id=\"T_aa5f0_row2_col1\" class=\"data row2 col1\" >1.0000</td>\n",
       "                        <td id=\"T_aa5f0_row2_col2\" class=\"data row2 col2\" >0.0000</td>\n",
       "                        <td id=\"T_aa5f0_row2_col3\" class=\"data row2 col3\" >1.0000</td>\n",
       "                        <td id=\"T_aa5f0_row2_col4\" class=\"data row2 col4\" >1.0000</td>\n",
       "                        <td id=\"T_aa5f0_row2_col5\" class=\"data row2 col5\" >1.0000</td>\n",
       "                        <td id=\"T_aa5f0_row2_col6\" class=\"data row2 col6\" >1.0000</td>\n",
       "                        <td id=\"T_aa5f0_row2_col7\" class=\"data row2 col7\" >1.0000</td>\n",
       "                        <td id=\"T_aa5f0_row2_col8\" class=\"data row2 col8\" >0.0100</td>\n",
       "            </tr>\n",
       "            <tr>\n",
       "                        <th id=\"T_aa5f0_level0_row3\" class=\"row_heading level0 row3\" >rf</th>\n",
       "                        <td id=\"T_aa5f0_row3_col0\" class=\"data row3 col0\" >Random Forest Classifier</td>\n",
       "                        <td id=\"T_aa5f0_row3_col1\" class=\"data row3 col1\" >1.0000</td>\n",
       "                        <td id=\"T_aa5f0_row3_col2\" class=\"data row3 col2\" >1.0000</td>\n",
       "                        <td id=\"T_aa5f0_row3_col3\" class=\"data row3 col3\" >1.0000</td>\n",
       "                        <td id=\"T_aa5f0_row3_col4\" class=\"data row3 col4\" >1.0000</td>\n",
       "                        <td id=\"T_aa5f0_row3_col5\" class=\"data row3 col5\" >1.0000</td>\n",
       "                        <td id=\"T_aa5f0_row3_col6\" class=\"data row3 col6\" >1.0000</td>\n",
       "                        <td id=\"T_aa5f0_row3_col7\" class=\"data row3 col7\" >1.0000</td>\n",
       "                        <td id=\"T_aa5f0_row3_col8\" class=\"data row3 col8\" >0.1250</td>\n",
       "            </tr>\n",
       "            <tr>\n",
       "                        <th id=\"T_aa5f0_level0_row4\" class=\"row_heading level0 row4\" >ada</th>\n",
       "                        <td id=\"T_aa5f0_row4_col0\" class=\"data row4 col0\" >Ada Boost Classifier</td>\n",
       "                        <td id=\"T_aa5f0_row4_col1\" class=\"data row4 col1\" >1.0000</td>\n",
       "                        <td id=\"T_aa5f0_row4_col2\" class=\"data row4 col2\" >1.0000</td>\n",
       "                        <td id=\"T_aa5f0_row4_col3\" class=\"data row4 col3\" >1.0000</td>\n",
       "                        <td id=\"T_aa5f0_row4_col4\" class=\"data row4 col4\" >1.0000</td>\n",
       "                        <td id=\"T_aa5f0_row4_col5\" class=\"data row4 col5\" >1.0000</td>\n",
       "                        <td id=\"T_aa5f0_row4_col6\" class=\"data row4 col6\" >1.0000</td>\n",
       "                        <td id=\"T_aa5f0_row4_col7\" class=\"data row4 col7\" >1.0000</td>\n",
       "                        <td id=\"T_aa5f0_row4_col8\" class=\"data row4 col8\" >0.0080</td>\n",
       "            </tr>\n",
       "            <tr>\n",
       "                        <th id=\"T_aa5f0_level0_row5\" class=\"row_heading level0 row5\" >gbc</th>\n",
       "                        <td id=\"T_aa5f0_row5_col0\" class=\"data row5 col0\" >Gradient Boosting Classifier</td>\n",
       "                        <td id=\"T_aa5f0_row5_col1\" class=\"data row5 col1\" >1.0000</td>\n",
       "                        <td id=\"T_aa5f0_row5_col2\" class=\"data row5 col2\" >1.0000</td>\n",
       "                        <td id=\"T_aa5f0_row5_col3\" class=\"data row5 col3\" >1.0000</td>\n",
       "                        <td id=\"T_aa5f0_row5_col4\" class=\"data row5 col4\" >1.0000</td>\n",
       "                        <td id=\"T_aa5f0_row5_col5\" class=\"data row5 col5\" >1.0000</td>\n",
       "                        <td id=\"T_aa5f0_row5_col6\" class=\"data row5 col6\" >1.0000</td>\n",
       "                        <td id=\"T_aa5f0_row5_col7\" class=\"data row5 col7\" >1.0000</td>\n",
       "                        <td id=\"T_aa5f0_row5_col8\" class=\"data row5 col8\" >0.0940</td>\n",
       "            </tr>\n",
       "            <tr>\n",
       "                        <th id=\"T_aa5f0_level0_row6\" class=\"row_heading level0 row6\" >xgboost</th>\n",
       "                        <td id=\"T_aa5f0_row6_col0\" class=\"data row6 col0\" >Extreme Gradient Boosting</td>\n",
       "                        <td id=\"T_aa5f0_row6_col1\" class=\"data row6 col1\" >1.0000</td>\n",
       "                        <td id=\"T_aa5f0_row6_col2\" class=\"data row6 col2\" >1.0000</td>\n",
       "                        <td id=\"T_aa5f0_row6_col3\" class=\"data row6 col3\" >1.0000</td>\n",
       "                        <td id=\"T_aa5f0_row6_col4\" class=\"data row6 col4\" >1.0000</td>\n",
       "                        <td id=\"T_aa5f0_row6_col5\" class=\"data row6 col5\" >1.0000</td>\n",
       "                        <td id=\"T_aa5f0_row6_col6\" class=\"data row6 col6\" >1.0000</td>\n",
       "                        <td id=\"T_aa5f0_row6_col7\" class=\"data row6 col7\" >1.0000</td>\n",
       "                        <td id=\"T_aa5f0_row6_col8\" class=\"data row6 col8\" >0.1370</td>\n",
       "            </tr>\n",
       "            <tr>\n",
       "                        <th id=\"T_aa5f0_level0_row7\" class=\"row_heading level0 row7\" >lightgbm</th>\n",
       "                        <td id=\"T_aa5f0_row7_col0\" class=\"data row7 col0\" >Light Gradient Boosting Machine</td>\n",
       "                        <td id=\"T_aa5f0_row7_col1\" class=\"data row7 col1\" >1.0000</td>\n",
       "                        <td id=\"T_aa5f0_row7_col2\" class=\"data row7 col2\" >1.0000</td>\n",
       "                        <td id=\"T_aa5f0_row7_col3\" class=\"data row7 col3\" >1.0000</td>\n",
       "                        <td id=\"T_aa5f0_row7_col4\" class=\"data row7 col4\" >1.0000</td>\n",
       "                        <td id=\"T_aa5f0_row7_col5\" class=\"data row7 col5\" >1.0000</td>\n",
       "                        <td id=\"T_aa5f0_row7_col6\" class=\"data row7 col6\" >1.0000</td>\n",
       "                        <td id=\"T_aa5f0_row7_col7\" class=\"data row7 col7\" >1.0000</td>\n",
       "                        <td id=\"T_aa5f0_row7_col8\" class=\"data row7 col8\" >0.1930</td>\n",
       "            </tr>\n",
       "            <tr>\n",
       "                        <th id=\"T_aa5f0_level0_row8\" class=\"row_heading level0 row8\" >knn</th>\n",
       "                        <td id=\"T_aa5f0_row8_col0\" class=\"data row8 col0\" >K Neighbors Classifier</td>\n",
       "                        <td id=\"T_aa5f0_row8_col1\" class=\"data row8 col1\" >0.9994</td>\n",
       "                        <td id=\"T_aa5f0_row8_col2\" class=\"data row8 col2\" >0.9998</td>\n",
       "                        <td id=\"T_aa5f0_row8_col3\" class=\"data row8 col3\" >0.9988</td>\n",
       "                        <td id=\"T_aa5f0_row8_col4\" class=\"data row8 col4\" >1.0000</td>\n",
       "                        <td id=\"T_aa5f0_row8_col5\" class=\"data row8 col5\" >0.9994</td>\n",
       "                        <td id=\"T_aa5f0_row8_col6\" class=\"data row8 col6\" >0.9988</td>\n",
       "                        <td id=\"T_aa5f0_row8_col7\" class=\"data row8 col7\" >0.9988</td>\n",
       "                        <td id=\"T_aa5f0_row8_col8\" class=\"data row8 col8\" >0.0670</td>\n",
       "            </tr>\n",
       "            <tr>\n",
       "                        <th id=\"T_aa5f0_level0_row9\" class=\"row_heading level0 row9\" >nb</th>\n",
       "                        <td id=\"T_aa5f0_row9_col0\" class=\"data row9 col0\" >Naive Bayes</td>\n",
       "                        <td id=\"T_aa5f0_row9_col1\" class=\"data row9 col1\" >0.9989</td>\n",
       "                        <td id=\"T_aa5f0_row9_col2\" class=\"data row9 col2\" >1.0000</td>\n",
       "                        <td id=\"T_aa5f0_row9_col3\" class=\"data row9 col3\" >1.0000</td>\n",
       "                        <td id=\"T_aa5f0_row9_col4\" class=\"data row9 col4\" >0.9977</td>\n",
       "                        <td id=\"T_aa5f0_row9_col5\" class=\"data row9 col5\" >0.9989</td>\n",
       "                        <td id=\"T_aa5f0_row9_col6\" class=\"data row9 col6\" >0.9978</td>\n",
       "                        <td id=\"T_aa5f0_row9_col7\" class=\"data row9 col7\" >0.9978</td>\n",
       "                        <td id=\"T_aa5f0_row9_col8\" class=\"data row9 col8\" >0.0080</td>\n",
       "            </tr>\n",
       "            <tr>\n",
       "                        <th id=\"T_aa5f0_level0_row10\" class=\"row_heading level0 row10\" >et</th>\n",
       "                        <td id=\"T_aa5f0_row10_col0\" class=\"data row10 col0\" >Extra Trees Classifier</td>\n",
       "                        <td id=\"T_aa5f0_row10_col1\" class=\"data row10 col1\" >0.9947</td>\n",
       "                        <td id=\"T_aa5f0_row10_col2\" class=\"data row10 col2\" >1.0000</td>\n",
       "                        <td id=\"T_aa5f0_row10_col3\" class=\"data row10 col3\" >0.9909</td>\n",
       "                        <td id=\"T_aa5f0_row10_col4\" class=\"data row10 col4\" >0.9981</td>\n",
       "                        <td id=\"T_aa5f0_row10_col5\" class=\"data row10 col5\" >0.9945</td>\n",
       "                        <td id=\"T_aa5f0_row10_col6\" class=\"data row10 col6\" >0.9893</td>\n",
       "                        <td id=\"T_aa5f0_row10_col7\" class=\"data row10 col7\" >0.9894</td>\n",
       "                        <td id=\"T_aa5f0_row10_col8\" class=\"data row10 col8\" >0.1320</td>\n",
       "            </tr>\n",
       "            <tr>\n",
       "                        <th id=\"T_aa5f0_level0_row11\" class=\"row_heading level0 row11\" >ridge</th>\n",
       "                        <td id=\"T_aa5f0_row11_col0\" class=\"data row11 col0\" >Ridge Classifier</td>\n",
       "                        <td id=\"T_aa5f0_row11_col1\" class=\"data row11 col1\" >0.7903</td>\n",
       "                        <td id=\"T_aa5f0_row11_col2\" class=\"data row11 col2\" >0.0000</td>\n",
       "                        <td id=\"T_aa5f0_row11_col3\" class=\"data row11 col3\" >0.5713</td>\n",
       "                        <td id=\"T_aa5f0_row11_col4\" class=\"data row11 col4\" >1.0000</td>\n",
       "                        <td id=\"T_aa5f0_row11_col5\" class=\"data row11 col5\" >0.7268</td>\n",
       "                        <td id=\"T_aa5f0_row11_col6\" class=\"data row11 col6\" >0.5765</td>\n",
       "                        <td id=\"T_aa5f0_row11_col7\" class=\"data row11 col7\" >0.6364</td>\n",
       "                        <td id=\"T_aa5f0_row11_col8\" class=\"data row11 col8\" >0.0120</td>\n",
       "            </tr>\n",
       "            <tr>\n",
       "                        <th id=\"T_aa5f0_level0_row12\" class=\"row_heading level0 row12\" >lda</th>\n",
       "                        <td id=\"T_aa5f0_row12_col0\" class=\"data row12 col0\" >Linear Discriminant Analysis</td>\n",
       "                        <td id=\"T_aa5f0_row12_col1\" class=\"data row12 col1\" >0.7902</td>\n",
       "                        <td id=\"T_aa5f0_row12_col2\" class=\"data row12 col2\" >0.9592</td>\n",
       "                        <td id=\"T_aa5f0_row12_col3\" class=\"data row12 col3\" >0.5711</td>\n",
       "                        <td id=\"T_aa5f0_row12_col4\" class=\"data row12 col4\" >1.0000</td>\n",
       "                        <td id=\"T_aa5f0_row12_col5\" class=\"data row12 col5\" >0.7266</td>\n",
       "                        <td id=\"T_aa5f0_row12_col6\" class=\"data row12 col6\" >0.5763</td>\n",
       "                        <td id=\"T_aa5f0_row12_col7\" class=\"data row12 col7\" >0.6363</td>\n",
       "                        <td id=\"T_aa5f0_row12_col8\" class=\"data row12 col8\" >0.0170</td>\n",
       "            </tr>\n",
       "            <tr>\n",
       "                        <th id=\"T_aa5f0_level0_row13\" class=\"row_heading level0 row13\" >qda</th>\n",
       "                        <td id=\"T_aa5f0_row13_col0\" class=\"data row13 col0\" >Quadratic Discriminant Analysis</td>\n",
       "                        <td id=\"T_aa5f0_row13_col1\" class=\"data row13 col1\" >0.5108</td>\n",
       "                        <td id=\"T_aa5f0_row13_col2\" class=\"data row13 col2\" >0.0000</td>\n",
       "                        <td id=\"T_aa5f0_row13_col3\" class=\"data row13 col3\" >0.0000</td>\n",
       "                        <td id=\"T_aa5f0_row13_col4\" class=\"data row13 col4\" >0.0000</td>\n",
       "                        <td id=\"T_aa5f0_row13_col5\" class=\"data row13 col5\" >0.0000</td>\n",
       "                        <td id=\"T_aa5f0_row13_col6\" class=\"data row13 col6\" >0.0000</td>\n",
       "                        <td id=\"T_aa5f0_row13_col7\" class=\"data row13 col7\" >0.0000</td>\n",
       "                        <td id=\"T_aa5f0_row13_col8\" class=\"data row13 col8\" >0.0120</td>\n",
       "            </tr>\n",
       "    </tbody></table>"
      ],
      "text/plain": [
       "<pandas.io.formats.style.Styler at 0x205b71130d0>"
      ]
     },
     "metadata": {},
     "output_type": "display_data"
    },
    {
     "data": {
      "text/plain": [
       "LogisticRegression(C=1.0, class_weight=None, dual=False, fit_intercept=True,\n",
       "                   intercept_scaling=1, l1_ratio=None, max_iter=1000,\n",
       "                   multi_class='auto', n_jobs=None, penalty='l2',\n",
       "                   random_state=4390, solver='lbfgs', tol=0.0001, verbose=0,\n",
       "                   warm_start=False)"
      ]
     },
     "execution_count": 104,
     "metadata": {},
     "output_type": "execute_result"
    }
   ],
   "source": [
    "# Running the multiple algorithms\n",
    "compare_models()"
   ]
  },
  {
   "cell_type": "code",
   "execution_count": 105,
   "id": "849da380",
   "metadata": {},
   "outputs": [
    {
     "data": {
      "text/html": [
       "<style  type=\"text/css\" >\n",
       "#T_b6759_row10_col0,#T_b6759_row10_col1,#T_b6759_row10_col2,#T_b6759_row10_col3,#T_b6759_row10_col4,#T_b6759_row10_col5,#T_b6759_row10_col6{\n",
       "            background:  yellow;\n",
       "        }</style><table id=\"T_b6759_\" ><thead>    <tr>        <th class=\"blank level0\" ></th>        <th class=\"col_heading level0 col0\" >Accuracy</th>        <th class=\"col_heading level0 col1\" >AUC</th>        <th class=\"col_heading level0 col2\" >Recall</th>        <th class=\"col_heading level0 col3\" >Prec.</th>        <th class=\"col_heading level0 col4\" >F1</th>        <th class=\"col_heading level0 col5\" >Kappa</th>        <th class=\"col_heading level0 col6\" >MCC</th>    </tr></thead><tbody>\n",
       "                <tr>\n",
       "                        <th id=\"T_b6759_level0_row0\" class=\"row_heading level0 row0\" >0</th>\n",
       "                        <td id=\"T_b6759_row0_col0\" class=\"data row0 col0\" >1.0000</td>\n",
       "                        <td id=\"T_b6759_row0_col1\" class=\"data row0 col1\" >1.0000</td>\n",
       "                        <td id=\"T_b6759_row0_col2\" class=\"data row0 col2\" >1.0000</td>\n",
       "                        <td id=\"T_b6759_row0_col3\" class=\"data row0 col3\" >1.0000</td>\n",
       "                        <td id=\"T_b6759_row0_col4\" class=\"data row0 col4\" >1.0000</td>\n",
       "                        <td id=\"T_b6759_row0_col5\" class=\"data row0 col5\" >1.0000</td>\n",
       "                        <td id=\"T_b6759_row0_col6\" class=\"data row0 col6\" >1.0000</td>\n",
       "            </tr>\n",
       "            <tr>\n",
       "                        <th id=\"T_b6759_level0_row1\" class=\"row_heading level0 row1\" >1</th>\n",
       "                        <td id=\"T_b6759_row1_col0\" class=\"data row1 col0\" >1.0000</td>\n",
       "                        <td id=\"T_b6759_row1_col1\" class=\"data row1 col1\" >1.0000</td>\n",
       "                        <td id=\"T_b6759_row1_col2\" class=\"data row1 col2\" >1.0000</td>\n",
       "                        <td id=\"T_b6759_row1_col3\" class=\"data row1 col3\" >1.0000</td>\n",
       "                        <td id=\"T_b6759_row1_col4\" class=\"data row1 col4\" >1.0000</td>\n",
       "                        <td id=\"T_b6759_row1_col5\" class=\"data row1 col5\" >1.0000</td>\n",
       "                        <td id=\"T_b6759_row1_col6\" class=\"data row1 col6\" >1.0000</td>\n",
       "            </tr>\n",
       "            <tr>\n",
       "                        <th id=\"T_b6759_level0_row2\" class=\"row_heading level0 row2\" >2</th>\n",
       "                        <td id=\"T_b6759_row2_col0\" class=\"data row2 col0\" >1.0000</td>\n",
       "                        <td id=\"T_b6759_row2_col1\" class=\"data row2 col1\" >1.0000</td>\n",
       "                        <td id=\"T_b6759_row2_col2\" class=\"data row2 col2\" >1.0000</td>\n",
       "                        <td id=\"T_b6759_row2_col3\" class=\"data row2 col3\" >1.0000</td>\n",
       "                        <td id=\"T_b6759_row2_col4\" class=\"data row2 col4\" >1.0000</td>\n",
       "                        <td id=\"T_b6759_row2_col5\" class=\"data row2 col5\" >1.0000</td>\n",
       "                        <td id=\"T_b6759_row2_col6\" class=\"data row2 col6\" >1.0000</td>\n",
       "            </tr>\n",
       "            <tr>\n",
       "                        <th id=\"T_b6759_level0_row3\" class=\"row_heading level0 row3\" >3</th>\n",
       "                        <td id=\"T_b6759_row3_col0\" class=\"data row3 col0\" >1.0000</td>\n",
       "                        <td id=\"T_b6759_row3_col1\" class=\"data row3 col1\" >1.0000</td>\n",
       "                        <td id=\"T_b6759_row3_col2\" class=\"data row3 col2\" >1.0000</td>\n",
       "                        <td id=\"T_b6759_row3_col3\" class=\"data row3 col3\" >1.0000</td>\n",
       "                        <td id=\"T_b6759_row3_col4\" class=\"data row3 col4\" >1.0000</td>\n",
       "                        <td id=\"T_b6759_row3_col5\" class=\"data row3 col5\" >1.0000</td>\n",
       "                        <td id=\"T_b6759_row3_col6\" class=\"data row3 col6\" >1.0000</td>\n",
       "            </tr>\n",
       "            <tr>\n",
       "                        <th id=\"T_b6759_level0_row4\" class=\"row_heading level0 row4\" >4</th>\n",
       "                        <td id=\"T_b6759_row4_col0\" class=\"data row4 col0\" >1.0000</td>\n",
       "                        <td id=\"T_b6759_row4_col1\" class=\"data row4 col1\" >1.0000</td>\n",
       "                        <td id=\"T_b6759_row4_col2\" class=\"data row4 col2\" >1.0000</td>\n",
       "                        <td id=\"T_b6759_row4_col3\" class=\"data row4 col3\" >1.0000</td>\n",
       "                        <td id=\"T_b6759_row4_col4\" class=\"data row4 col4\" >1.0000</td>\n",
       "                        <td id=\"T_b6759_row4_col5\" class=\"data row4 col5\" >1.0000</td>\n",
       "                        <td id=\"T_b6759_row4_col6\" class=\"data row4 col6\" >1.0000</td>\n",
       "            </tr>\n",
       "            <tr>\n",
       "                        <th id=\"T_b6759_level0_row5\" class=\"row_heading level0 row5\" >5</th>\n",
       "                        <td id=\"T_b6759_row5_col0\" class=\"data row5 col0\" >1.0000</td>\n",
       "                        <td id=\"T_b6759_row5_col1\" class=\"data row5 col1\" >1.0000</td>\n",
       "                        <td id=\"T_b6759_row5_col2\" class=\"data row5 col2\" >1.0000</td>\n",
       "                        <td id=\"T_b6759_row5_col3\" class=\"data row5 col3\" >1.0000</td>\n",
       "                        <td id=\"T_b6759_row5_col4\" class=\"data row5 col4\" >1.0000</td>\n",
       "                        <td id=\"T_b6759_row5_col5\" class=\"data row5 col5\" >1.0000</td>\n",
       "                        <td id=\"T_b6759_row5_col6\" class=\"data row5 col6\" >1.0000</td>\n",
       "            </tr>\n",
       "            <tr>\n",
       "                        <th id=\"T_b6759_level0_row6\" class=\"row_heading level0 row6\" >6</th>\n",
       "                        <td id=\"T_b6759_row6_col0\" class=\"data row6 col0\" >1.0000</td>\n",
       "                        <td id=\"T_b6759_row6_col1\" class=\"data row6 col1\" >1.0000</td>\n",
       "                        <td id=\"T_b6759_row6_col2\" class=\"data row6 col2\" >1.0000</td>\n",
       "                        <td id=\"T_b6759_row6_col3\" class=\"data row6 col3\" >1.0000</td>\n",
       "                        <td id=\"T_b6759_row6_col4\" class=\"data row6 col4\" >1.0000</td>\n",
       "                        <td id=\"T_b6759_row6_col5\" class=\"data row6 col5\" >1.0000</td>\n",
       "                        <td id=\"T_b6759_row6_col6\" class=\"data row6 col6\" >1.0000</td>\n",
       "            </tr>\n",
       "            <tr>\n",
       "                        <th id=\"T_b6759_level0_row7\" class=\"row_heading level0 row7\" >7</th>\n",
       "                        <td id=\"T_b6759_row7_col0\" class=\"data row7 col0\" >1.0000</td>\n",
       "                        <td id=\"T_b6759_row7_col1\" class=\"data row7 col1\" >1.0000</td>\n",
       "                        <td id=\"T_b6759_row7_col2\" class=\"data row7 col2\" >1.0000</td>\n",
       "                        <td id=\"T_b6759_row7_col3\" class=\"data row7 col3\" >1.0000</td>\n",
       "                        <td id=\"T_b6759_row7_col4\" class=\"data row7 col4\" >1.0000</td>\n",
       "                        <td id=\"T_b6759_row7_col5\" class=\"data row7 col5\" >1.0000</td>\n",
       "                        <td id=\"T_b6759_row7_col6\" class=\"data row7 col6\" >1.0000</td>\n",
       "            </tr>\n",
       "            <tr>\n",
       "                        <th id=\"T_b6759_level0_row8\" class=\"row_heading level0 row8\" >8</th>\n",
       "                        <td id=\"T_b6759_row8_col0\" class=\"data row8 col0\" >1.0000</td>\n",
       "                        <td id=\"T_b6759_row8_col1\" class=\"data row8 col1\" >1.0000</td>\n",
       "                        <td id=\"T_b6759_row8_col2\" class=\"data row8 col2\" >1.0000</td>\n",
       "                        <td id=\"T_b6759_row8_col3\" class=\"data row8 col3\" >1.0000</td>\n",
       "                        <td id=\"T_b6759_row8_col4\" class=\"data row8 col4\" >1.0000</td>\n",
       "                        <td id=\"T_b6759_row8_col5\" class=\"data row8 col5\" >1.0000</td>\n",
       "                        <td id=\"T_b6759_row8_col6\" class=\"data row8 col6\" >1.0000</td>\n",
       "            </tr>\n",
       "            <tr>\n",
       "                        <th id=\"T_b6759_level0_row9\" class=\"row_heading level0 row9\" >9</th>\n",
       "                        <td id=\"T_b6759_row9_col0\" class=\"data row9 col0\" >1.0000</td>\n",
       "                        <td id=\"T_b6759_row9_col1\" class=\"data row9 col1\" >1.0000</td>\n",
       "                        <td id=\"T_b6759_row9_col2\" class=\"data row9 col2\" >1.0000</td>\n",
       "                        <td id=\"T_b6759_row9_col3\" class=\"data row9 col3\" >1.0000</td>\n",
       "                        <td id=\"T_b6759_row9_col4\" class=\"data row9 col4\" >1.0000</td>\n",
       "                        <td id=\"T_b6759_row9_col5\" class=\"data row9 col5\" >1.0000</td>\n",
       "                        <td id=\"T_b6759_row9_col6\" class=\"data row9 col6\" >1.0000</td>\n",
       "            </tr>\n",
       "            <tr>\n",
       "                        <th id=\"T_b6759_level0_row10\" class=\"row_heading level0 row10\" >Mean</th>\n",
       "                        <td id=\"T_b6759_row10_col0\" class=\"data row10 col0\" >1.0000</td>\n",
       "                        <td id=\"T_b6759_row10_col1\" class=\"data row10 col1\" >1.0000</td>\n",
       "                        <td id=\"T_b6759_row10_col2\" class=\"data row10 col2\" >1.0000</td>\n",
       "                        <td id=\"T_b6759_row10_col3\" class=\"data row10 col3\" >1.0000</td>\n",
       "                        <td id=\"T_b6759_row10_col4\" class=\"data row10 col4\" >1.0000</td>\n",
       "                        <td id=\"T_b6759_row10_col5\" class=\"data row10 col5\" >1.0000</td>\n",
       "                        <td id=\"T_b6759_row10_col6\" class=\"data row10 col6\" >1.0000</td>\n",
       "            </tr>\n",
       "            <tr>\n",
       "                        <th id=\"T_b6759_level0_row11\" class=\"row_heading level0 row11\" >SD</th>\n",
       "                        <td id=\"T_b6759_row11_col0\" class=\"data row11 col0\" >0.0000</td>\n",
       "                        <td id=\"T_b6759_row11_col1\" class=\"data row11 col1\" >0.0000</td>\n",
       "                        <td id=\"T_b6759_row11_col2\" class=\"data row11 col2\" >0.0000</td>\n",
       "                        <td id=\"T_b6759_row11_col3\" class=\"data row11 col3\" >0.0000</td>\n",
       "                        <td id=\"T_b6759_row11_col4\" class=\"data row11 col4\" >0.0000</td>\n",
       "                        <td id=\"T_b6759_row11_col5\" class=\"data row11 col5\" >0.0000</td>\n",
       "                        <td id=\"T_b6759_row11_col6\" class=\"data row11 col6\" >0.0000</td>\n",
       "            </tr>\n",
       "    </tbody></table>"
      ],
      "text/plain": [
       "<pandas.io.formats.style.Styler at 0x205b08dea60>"
      ]
     },
     "metadata": {},
     "output_type": "display_data"
    }
   ],
   "source": [
    "# Creating the model with the best algorithm based on the above results\n",
    "model = create_model('lr')"
   ]
  },
  {
   "cell_type": "code",
   "execution_count": 106,
   "id": "7384c466",
   "metadata": {},
   "outputs": [
    {
     "data": {
      "image/png": "[encoded data removed]",
      "text/plain": [
       "<Figure size 800x550 with 1 Axes>"
      ]
     },
     "metadata": {},
     "output_type": "display_data"
    }
   ],
   "source": [
    "# Plotting the confusion matrix etc metrics based on the model\n",
    "plot_model(model, plot = 'confusion_matrix')\n",
    "#evaluate_model(model)"
   ]
  },
  {
   "cell_type": "code",
   "execution_count": null,
   "id": "dd34eb4a",
   "metadata": {},
   "outputs": [],
   "source": []
  }
 ],
 "metadata": {
  "kernelspec": {
   "display_name": "Python 3",
   "language": "python",
   "name": "python3"
  },
  "language_info": {
   "codemirror_mode": {
    "name": "ipython",
    "version": 3
   },
   "file_extension": ".py",
   "mimetype": "text/x-python",
   "name": "python",
   "nbconvert_exporter": "python",
   "pygments_lexer": "ipython3",
   "version": "3.8.10"
  }
 },
 "nbformat": 4,
 "nbformat_minor": 5
}
